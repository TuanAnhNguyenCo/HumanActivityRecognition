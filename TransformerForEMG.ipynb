{
 "cells": [
  {
   "cell_type": "code",
   "execution_count": 1,
   "metadata": {},
   "outputs": [
    {
     "name": "stderr",
     "output_type": "stream",
     "text": [
      "/mnt/disk1/anaconda3/envs/anhnct/lib/python3.9/site-packages/tqdm/auto.py:21: TqdmWarning: IProgress not found. Please update jupyter and ipywidgets. See https://ipywidgets.readthedocs.io/en/stable/user_install.html\n",
      "  from .autonotebook import tqdm as notebook_tqdm\n"
     ]
    }
   ],
   "source": [
    "import torch\n",
    "from torch import nn\n",
    "\n",
    "from einops import rearrange, repeat\n",
    "from einops.layers.torch import Rearrange\n",
    "import os\n",
    "import cv2\n",
    "import numpy as np\n",
    "import math\n",
    "import mediapipe as mp\n",
    "from matplotlib import pyplot as plt\n",
    "import glob\n",
    "from util.img2bone import HandDetector\n",
    "import torch\n",
    "import torch.nn as nn\n",
    "import torch.nn.functional as F\n",
    "from torchvision import transforms\n",
    "from torch.utils.data import Dataset,DataLoader\n",
    "from PIL import Image\n",
    "import glob\n",
    "from tqdm.auto import tqdm\n",
    "from einops import rearrange, repeat\n",
    "from einops.layers.torch import Rearrange\n",
    "from loader.dataloader import SkeletonAndEMGData"
   ]
  },
  {
   "cell_type": "code",
   "execution_count": 2,
   "metadata": {},
   "outputs": [],
   "source": [
    "# helpers\n",
    "device = torch.device('cuda:0' if torch.cuda.is_available() else 'cpu')\n",
    "\n",
    "def pair(t):\n",
    "    return t if isinstance(t, tuple) else (t, t)\n",
    "\n",
    "# classes\n",
    "\n",
    "class FeedForward(nn.Module):\n",
    "    def __init__(self, dim, hidden_dim, dropout = 0.):\n",
    "        super().__init__()\n",
    "        self.net = nn.Sequential(\n",
    "            nn.LayerNorm(dim),\n",
    "            nn.Linear(dim, hidden_dim),\n",
    "            nn.GELU(),\n",
    "            nn.Dropout(dropout),\n",
    "            nn.Linear(hidden_dim, dim),\n",
    "            nn.Dropout(dropout)\n",
    "        )\n",
    "\n",
    "    def forward(self, x):\n",
    "        return self.net(x)\n",
    "\n",
    "class Attention(nn.Module):\n",
    "    def __init__(self, dim, heads = 8, dim_head = 64, dropout = 0.):\n",
    "        super().__init__()\n",
    "        inner_dim = dim_head *  heads\n",
    "        project_out = not (heads == 1 and dim_head == dim)\n",
    "\n",
    "        self.heads = heads\n",
    "        self.scale = dim_head ** -0.5\n",
    "\n",
    "        self.norm = nn.LayerNorm(dim)\n",
    "\n",
    "        self.attend = nn.Softmax(dim = -1)\n",
    "        self.dropout = nn.Dropout(dropout)\n",
    "\n",
    "        self.to_qkv = nn.Linear(dim, inner_dim * 3, bias = False)\n",
    "\n",
    "        self.to_out = nn.Sequential(\n",
    "            nn.Linear(inner_dim, dim),\n",
    "            nn.Dropout(dropout)\n",
    "        ) if project_out else nn.Identity()\n",
    "\n",
    "    def forward(self, x):\n",
    "        x = self.norm(x)\n",
    "\n",
    "        qkv = self.to_qkv(x).chunk(3, dim = -1)\n",
    "        q, k, v = map(lambda t: rearrange(t, 'b n (h d) -> b h n d', h = self.heads), qkv)\n",
    "\n",
    "        dots = torch.matmul(q, k.transpose(-1, -2)) * self.scale\n",
    "\n",
    "        attn = self.attend(dots)\n",
    "        attn = self.dropout(attn)\n",
    "\n",
    "        out = torch.matmul(attn, v)\n",
    "        out = rearrange(out, 'b h n d -> b n (h d)')\n",
    "        return self.to_out(out)\n",
    "\n",
    "class Transformer(nn.Module):\n",
    "    def __init__(self, dim, depth, heads, dim_head, mlp_dim, dropout = 0.):\n",
    "        super().__init__()\n",
    "        self.norm = nn.LayerNorm(dim)\n",
    "        self.layers = nn.ModuleList([])\n",
    "        for _ in range(depth):\n",
    "            self.layers.append(nn.ModuleList([\n",
    "                Attention(dim, heads = heads, dim_head = dim_head, dropout = dropout),\n",
    "                FeedForward(dim, mlp_dim, dropout = dropout)\n",
    "            ]))\n",
    "\n",
    "    def forward(self, x):\n",
    "        for attn, ff in self.layers:\n",
    "            x = attn(x) + x\n",
    "            x = ff(x) + x\n",
    "\n",
    "        return self.norm(x)\n",
    "\n",
    "class ViT(nn.Module):\n",
    "    def __init__(self, *, emg_size, patch_height, num_classes, dim, depth, heads, mlp_dim, pool = 'cls', dim_head = 64, dropout = 0., emb_dropout = 0.):\n",
    "        super().__init__()\n",
    "        emg_height, emg_width = pair(emg_size)\n",
    "\n",
    "\n",
    "        num_patches = int(emg_height//patch_height)\n",
    "        patch_dim = int(emg_width * patch_height )\n",
    "        \n",
    "        self.to_patch_embedding = nn.Sequential(\n",
    "            Rearrange('b (h p1) c -> b h (p1 c)', h = num_patches, c = emg_width),\n",
    "            nn.LayerNorm(patch_dim),\n",
    "            nn.Linear(patch_dim, dim),\n",
    "            nn.LayerNorm(dim),\n",
    "        )\n",
    "\n",
    "        self.pos_embedding = nn.Parameter(torch.randn(1, num_patches + 1, dim))\n",
    "        self.cls_token = nn.Parameter(torch.randn(1, 1, dim))\n",
    "        self.dropout = nn.Dropout(emb_dropout)\n",
    "\n",
    "        self.transformer = Transformer(dim, depth, heads, dim_head, mlp_dim, dropout)\n",
    "\n",
    "        self.pool = pool\n",
    "        self.to_latent = nn.Identity()\n",
    "\n",
    "        self.mlp_head = nn.Linear(dim, num_classes)\n",
    "\n",
    "    def forward(self, x):\n",
    "        x = self.to_patch_embedding(x)\n",
    "        \n",
    "        b, n, _ = x.shape\n",
    "\n",
    "        cls_tokens = repeat(self.cls_token, '1 1 d -> b 1 d', b = b)\n",
    "        x = torch.cat((cls_tokens, x), dim=1)\n",
    "        x += self.pos_embedding[:, :(n + 1)]\n",
    "        x = self.dropout(x)\n",
    "\n",
    "        x = self.transformer(x)\n",
    "\n",
    "        x = x.mean(dim = 1) if self.pool == 'mean' else x[:, 0]\n",
    "\n",
    "        x = self.to_latent(x)\n",
    "        return self.mlp_head(x)\n",
    "        \n",
    "        "
   ]
  },
  {
   "cell_type": "code",
   "execution_count": 3,
   "metadata": {},
   "outputs": [],
   "source": [
    "\n",
    "def train(train_loader,model,criterion,optimizer,device):\n",
    "    running_loss = 0\n",
    "    model.train()\n",
    "   \n",
    "    for videos,labels,emgs in tqdm(train_loader):\n",
    "        \n",
    "        \n",
    "        labels = labels.to(device)\n",
    "        emgs = emgs.to(device).double()\n",
    "        \n",
    "        # forward\n",
    "        outputs = model(emgs)\n",
    "        loss = criterion(outputs,labels)\n",
    "        running_loss += loss.item()\n",
    "        \n",
    "        #backward\n",
    "        optimizer.zero_grad()\n",
    "        loss.backward()\n",
    "        optimizer.step()\n",
    "        \n",
    "        \n",
    "    \n",
    "    epoch_loss = running_loss / (len(train_loader))\n",
    "    return model,epoch_loss,optimizer\n",
    "\n",
    "def validate(valid_loader,model,criterion,device):\n",
    "    model.eval()\n",
    "    running_loss = 0\n",
    "   \n",
    "    \n",
    "    for videos,labels,emgs in tqdm(valid_loader):\n",
    "       \n",
    "       \n",
    "        labels = labels.to(device)\n",
    "        emgs = emgs.to(device).double()\n",
    "        \n",
    "        # forward\n",
    "        \n",
    "        outputs = model(emgs)\n",
    "        loss = criterion(outputs,labels)\n",
    "        running_loss += loss.item()\n",
    "\n",
    "    epoch_loss = running_loss / (len(valid_loader))\n",
    "    return model,epoch_loss\n",
    "\n",
    "def get_accuracy(model,data_loader,device):\n",
    "    correct = 0\n",
    "    total = 0\n",
    "    \n",
    "    with torch.no_grad():\n",
    "        model.eval()\n",
    "        for videos,labels,emgs in data_loader:\n",
    "            \n",
    "            labels = labels.to(device)\n",
    "            emgs = emgs.to(device).double()\n",
    "            \n",
    "            # forward\n",
    "            outputs = model(emgs)\n",
    "            predicted = torch.argmax(torch.softmax(outputs,1),1)\n",
    "            total += labels.shape[0]\n",
    "            correct += (predicted == labels).sum().item()\n",
    "    return correct*100/total\n",
    "\n",
    "def plot_losses(train_losses,valid_losses):\n",
    "    train_losses = np.array(train_losses)\n",
    "    valid_losses = np.array(valid_losses)\n",
    "    \n",
    "    fig, ax1 = plt.subplots(1, 1)\n",
    "    ax1.plot(train_losses, color=\"blue\", label=\"train_loss\")\n",
    "    ax1.plot(valid_losses, color=\"red\", label=\"valid_loss\")\n",
    "    ax1.set(title=\"Loss over epochs\",\n",
    "            xlabel=\"Epoch\",\n",
    "            ylabel=\"Loss\")\n",
    "    ax1.legend()\n",
    "    \n",
    "def plot_accuracy(train_acc,valid_acc):\n",
    "    train_acc = np.array(train_acc)\n",
    "    valid_acc = np.array(valid_acc)\n",
    "    \n",
    "    fig, ax1 = plt.subplots(1, 1)\n",
    "    ax1.plot(train_acc, color=\"blue\", label=\"train_acc\")\n",
    "    ax1.plot(valid_acc, color=\"red\", label=\"val_acc\")\n",
    "    ax1.set(title=\"Accuracy over epochs\",\n",
    "            xlabel=\"Epoch\",\n",
    "            ylabel=\"Accuracy\")\n",
    "    ax1.legend()"
   ]
  },
  {
   "cell_type": "code",
   "execution_count": 4,
   "metadata": {},
   "outputs": [
    {
     "name": "stdout",
     "output_type": "stream",
     "text": [
      "tensor([33, 10, 10, 37])\n",
      "tensor([33, 10, 37])\n",
      "tensor([33, 10])\n"
     ]
    }
   ],
   "source": [
    "train_set = SkeletonAndEMGData(\"data/108_new/train.pkl\")\n",
    "val_set = SkeletonAndEMGData(\"data/108_new/val.pkl\")\n",
    "test_set = SkeletonAndEMGData(\"data/108_new/test.pkl\")\n",
    "\n",
    "train_loader = DataLoader(train_set,batch_size = 128,drop_last = False)\n",
    "valid_loader = DataLoader(val_set,batch_size = 128,drop_last = False)\n",
    "test_loader = DataLoader(test_set,batch_size = 128,drop_last = False)"
   ]
  },
  {
   "cell_type": "code",
   "execution_count": 5,
   "metadata": {},
   "outputs": [
    {
     "name": "stderr",
     "output_type": "stream",
     "text": [
      "100%|██████████| 1/1 [00:01<00:00,  1.53s/it]\n",
      "100%|██████████| 1/1 [00:00<00:00,  8.33it/s]\n"
     ]
    },
    {
     "name": "stdout",
     "output_type": "stream",
     "text": [
      "Epoch 1 --- Train loss = 4.370546994822786 --- Valid loss = 2.1023659858416264 -- Train set accuracy = 50.0 % Valid set Accuracy = 33.333333333333336 %\n"
     ]
    },
    {
     "name": "stderr",
     "output_type": "stream",
     "text": [
      "100%|██████████| 1/1 [00:00<00:00, 17.21it/s]\n",
      "100%|██████████| 1/1 [00:00<00:00,  8.25it/s]\n"
     ]
    },
    {
     "name": "stdout",
     "output_type": "stream",
     "text": [
      "Epoch 2 --- Train loss = 1.577111110199355 --- Valid loss = 2.9300484084357454 -- Train set accuracy = 50.0 % Valid set Accuracy = 66.66666666666667 %\n"
     ]
    },
    {
     "name": "stderr",
     "output_type": "stream",
     "text": [
      "100%|██████████| 1/1 [00:00<00:00, 16.68it/s]\n",
      "100%|██████████| 1/1 [00:00<00:00,  7.34it/s]\n"
     ]
    },
    {
     "name": "stdout",
     "output_type": "stream",
     "text": [
      "Epoch 3 --- Train loss = 4.394141396505674 --- Valid loss = 0.26233570632683406 -- Train set accuracy = 50.0 % Valid set Accuracy = 66.66666666666667 %\n"
     ]
    },
    {
     "name": "stderr",
     "output_type": "stream",
     "text": [
      "100%|██████████| 1/1 [00:00<00:00, 18.80it/s]\n",
      "100%|██████████| 1/1 [00:00<00:00,  7.90it/s]\n"
     ]
    },
    {
     "name": "stdout",
     "output_type": "stream",
     "text": [
      "Epoch 4 --- Train loss = 0.3918963968410368 --- Valid loss = 0.0018763413061937443 -- Train set accuracy = 100.0 % Valid set Accuracy = 100.0 %\n"
     ]
    },
    {
     "name": "stderr",
     "output_type": "stream",
     "text": [
      "100%|██████████| 1/1 [00:00<00:00, 17.54it/s]\n",
      "100%|██████████| 1/1 [00:00<00:00,  7.89it/s]\n"
     ]
    },
    {
     "name": "stdout",
     "output_type": "stream",
     "text": [
      "Epoch 5 --- Train loss = 0.0014668220366496193 --- Valid loss = 0.0020823634556857377 -- Train set accuracy = 100.0 % Valid set Accuracy = 100.0 %\n"
     ]
    },
    {
     "name": "stderr",
     "output_type": "stream",
     "text": [
      "100%|██████████| 1/1 [00:00<00:00, 13.63it/s]\n",
      "100%|██████████| 1/1 [00:00<00:00,  7.24it/s]\n"
     ]
    },
    {
     "name": "stdout",
     "output_type": "stream",
     "text": [
      "Epoch 6 --- Train loss = 0.0015687185953429353 --- Valid loss = 0.0030232884359435845 -- Train set accuracy = 100.0 % Valid set Accuracy = 100.0 %\n"
     ]
    },
    {
     "name": "stderr",
     "output_type": "stream",
     "text": [
      "100%|██████████| 1/1 [00:00<00:00, 16.28it/s]\n",
      "100%|██████████| 1/1 [00:00<00:00,  7.24it/s]\n"
     ]
    },
    {
     "name": "stdout",
     "output_type": "stream",
     "text": [
      "Epoch 7 --- Train loss = 0.002272392413744757 --- Valid loss = 0.004626578766714921 -- Train set accuracy = 100.0 % Valid set Accuracy = 100.0 %\n"
     ]
    },
    {
     "name": "stderr",
     "output_type": "stream",
     "text": [
      "100%|██████████| 1/1 [00:00<00:00, 15.79it/s]\n",
      "100%|██████████| 1/1 [00:00<00:00,  7.26it/s]\n"
     ]
    },
    {
     "name": "stdout",
     "output_type": "stream",
     "text": [
      "Epoch 8 --- Train loss = 0.003478383144141635 --- Valid loss = 0.0066280052350626605 -- Train set accuracy = 100.0 % Valid set Accuracy = 100.0 %\n"
     ]
    },
    {
     "name": "stderr",
     "output_type": "stream",
     "text": [
      "100%|██████████| 1/1 [00:00<00:00, 16.43it/s]\n",
      "100%|██████████| 1/1 [00:00<00:00,  7.48it/s]\n"
     ]
    },
    {
     "name": "stdout",
     "output_type": "stream",
     "text": [
      "Epoch 9 --- Train loss = 0.0049914130371106185 --- Valid loss = 0.008336941869298778 -- Train set accuracy = 100.0 % Valid set Accuracy = 100.0 %\n"
     ]
    },
    {
     "name": "stderr",
     "output_type": "stream",
     "text": [
      "100%|██████████| 1/1 [00:00<00:00, 11.83it/s]\n",
      "100%|██████████| 1/1 [00:00<00:00,  6.09it/s]\n"
     ]
    },
    {
     "name": "stdout",
     "output_type": "stream",
     "text": [
      "Epoch 10 --- Train loss = 0.006303549866726076 --- Valid loss = 0.008907041366969104 -- Train set accuracy = 100.0 % Valid set Accuracy = 100.0 %\n"
     ]
    },
    {
     "name": "stderr",
     "output_type": "stream",
     "text": [
      "100%|██████████| 1/1 [00:00<00:00, 13.61it/s]\n",
      "100%|██████████| 1/1 [00:00<00:00,  5.54it/s]\n"
     ]
    },
    {
     "name": "stdout",
     "output_type": "stream",
     "text": [
      "Epoch 11 --- Train loss = 0.006794578365188672 --- Valid loss = 0.008091704148737354 -- Train set accuracy = 100.0 % Valid set Accuracy = 100.0 %\n"
     ]
    },
    {
     "name": "stderr",
     "output_type": "stream",
     "text": [
      "100%|██████████| 1/1 [00:00<00:00, 18.32it/s]\n",
      "100%|██████████| 1/1 [00:00<00:00,  7.42it/s]\n"
     ]
    },
    {
     "name": "stdout",
     "output_type": "stream",
     "text": [
      "Epoch 12 --- Train loss = 0.006290204073393884 --- Valid loss = 0.006468603682387348 -- Train set accuracy = 100.0 % Valid set Accuracy = 100.0 %\n"
     ]
    },
    {
     "name": "stderr",
     "output_type": "stream",
     "text": [
      "100%|██████████| 1/1 [00:00<00:00, 16.52it/s]\n",
      "100%|██████████| 1/1 [00:00<00:00,  8.57it/s]\n"
     ]
    },
    {
     "name": "stdout",
     "output_type": "stream",
     "text": [
      "Epoch 13 --- Train loss = 0.005217533092361731 --- Valid loss = 0.004807469318540486 -- Train set accuracy = 100.0 % Valid set Accuracy = 100.0 %\n"
     ]
    },
    {
     "name": "stderr",
     "output_type": "stream",
     "text": [
      "100%|██████████| 1/1 [00:00<00:00, 15.48it/s]\n",
      "100%|██████████| 1/1 [00:00<00:00,  6.25it/s]\n"
     ]
    },
    {
     "name": "stdout",
     "output_type": "stream",
     "text": [
      "Epoch 14 --- Train loss = 0.0041242142466768805 --- Valid loss = 0.003516410523458829 -- Train set accuracy = 100.0 % Valid set Accuracy = 100.0 %\n"
     ]
    },
    {
     "name": "stderr",
     "output_type": "stream",
     "text": [
      "100%|██████████| 1/1 [00:00<00:00, 17.42it/s]\n",
      "100%|██████████| 1/1 [00:00<00:00,  6.21it/s]\n"
     ]
    },
    {
     "name": "stdout",
     "output_type": "stream",
     "text": [
      "Epoch 15 --- Train loss = 0.0032733527502023826 --- Valid loss = 0.0026229147595001508 -- Train set accuracy = 100.0 % Valid set Accuracy = 100.0 %\n"
     ]
    }
   ],
   "source": [
    "model = ViT(emg_size=(132300,8),patch_height=int(44100*0.2),num_classes=41,dim = 1024,depth=3,mlp_dim=2048,heads=8).to(device).double()\n",
    "criterion = nn.CrossEntropyLoss()\n",
    "optimizer = torch.optim.Adam(model.parameters())\n",
    "epochs = 15\n",
    "train_losses = []\n",
    "valid_losses = []\n",
    "train_accuracy = []\n",
    "val_accuracy = []\n",
    "for epoch in range(epochs):\n",
    "    # training\n",
    "    model,train_loss,optimizer = train(train_loader,model,criterion,optimizer,device)\n",
    "    \n",
    "    # validation\n",
    "    with torch.no_grad():\n",
    "        model, valid_loss = validate(valid_loader, model, criterion, device)\n",
    "    train_acc = get_accuracy(model,train_loader,device)\n",
    "    val_acc = get_accuracy(model,valid_loader,device)\n",
    "    print(\"Epoch {} --- Train loss = {} --- Valid loss = {} -- Train set accuracy = {} % Valid set Accuracy = {} %\".format\n",
    "          (epoch+1,train_loss,valid_loss,train_acc,val_acc))\n",
    "    # save loss value\n",
    "    train_losses.append(train_loss)\n",
    "    valid_losses.append(valid_loss)\n",
    "    \n",
    "    #save accuracy\n",
    "    train_accuracy.append(train_acc)\n",
    "    val_accuracy.append(val_acc)"
   ]
  },
  {
   "cell_type": "code",
   "execution_count": 6,
   "metadata": {},
   "outputs": [
    {
     "data": {
      "text/plain": [
       "100.0"
      ]
     },
     "execution_count": 6,
     "metadata": {},
     "output_type": "execute_result"
    }
   ],
   "source": [
    "get_accuracy(model,test_loader,device) # test"
   ]
  },
  {
   "cell_type": "code",
   "execution_count": null,
   "metadata": {},
   "outputs": [],
   "source": []
  }
 ],
 "metadata": {
  "kernelspec": {
   "display_name": "anhnct",
   "language": "python",
   "name": "python3"
  },
  "language_info": {
   "codemirror_mode": {
    "name": "ipython",
    "version": 3
   },
   "file_extension": ".py",
   "mimetype": "text/x-python",
   "name": "python",
   "nbconvert_exporter": "python",
   "pygments_lexer": "ipython3",
   "version": "3.9.17"
  },
  "orig_nbformat": 4
 },
 "nbformat": 4,
 "nbformat_minor": 2
}
