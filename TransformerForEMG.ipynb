{
 "cells": [
  {
   "cell_type": "code",
   "execution_count": 2,
   "metadata": {},
   "outputs": [],
   "source": [
    "import glob"
   ]
  },
  {
   "cell_type": "code",
   "execution_count": 32,
   "metadata": {},
   "outputs": [
    {
     "data": {
      "text/plain": [
       "['data/108_new/EMG/AJ_1_02072023_07.csv',\n",
       " 'data/108_new/EMG/AJ_2_02072023_07.csv',\n",
       " 'data/108_new/EMG/AJ_3_02072023_07.csv',\n",
       " 'data/108_new/EMG/AJ_4_02072023_07.csv',\n",
       " 'data/108_new/EMG/AJ_5_02072023_07.csv',\n",
       " 'data/108_new/EMG/AJ_6_02072023_07.csv',\n",
       " 'data/108_new/EMG/AJ_7_02072023_07.csv',\n",
       " 'data/108_new/EMG/AJ_8_02072023_07.csv']"
      ]
     },
     "execution_count": 32,
     "metadata": {},
     "output_type": "execute_result"
    }
   ],
   "source": [
    "def extract_frame(text,key):\n",
    "    idx = text.find(key)\n",
    "    return int(text[idx+len(key)])\n",
    "    \n",
    "file_list = glob.glob(\"data/108_new/EMG/\" + \"/AJ_*.csv\")\n",
    "sorted_strings = sorted(file_list, key=lambda x:extract_frame(x,\"AJ_\"))\n",
    "sorted_strings"
   ]
  },
  {
   "cell_type": "code",
   "execution_count": 33,
   "metadata": {},
   "outputs": [
    {
     "ename": "NameError",
     "evalue": "name 'sss' is not defined",
     "output_type": "error",
     "traceback": [
      "\u001b[0;31m---------------------------------------------------------------------------\u001b[0m",
      "\u001b[0;31mNameError\u001b[0m                                 Traceback (most recent call last)",
      "\u001b[1;32m/home/aiotlabws/Workspace/Project/anhnct/HAR/HumanActivityRecognition/TransformerForEMG.ipynb Cell 3\u001b[0m line \u001b[0;36m1\n\u001b[0;32m----> <a href='vscode-notebook-cell://ssh-remote%2Baiotlabws/home/aiotlabws/Workspace/Project/anhnct/HAR/HumanActivityRecognition/TransformerForEMG.ipynb#W2sdnNjb2RlLXJlbW90ZQ%3D%3D?line=0'>1</a>\u001b[0m sss\n",
      "\u001b[0;31mNameError\u001b[0m: name 'sss' is not defined"
     ]
    }
   ],
   "source": [
    "sss"
   ]
  },
  {
   "cell_type": "code",
   "execution_count": null,
   "metadata": {},
   "outputs": [],
   "source": []
  }
 ],
 "metadata": {
  "kernelspec": {
   "display_name": "anhnct",
   "language": "python",
   "name": "python3"
  },
  "language_info": {
   "codemirror_mode": {
    "name": "ipython",
    "version": 3
   },
   "file_extension": ".py",
   "mimetype": "text/x-python",
   "name": "python",
   "nbconvert_exporter": "python",
   "pygments_lexer": "ipython3",
   "version": "3.9.17"
  },
  "orig_nbformat": 4
 },
 "nbformat": 4,
 "nbformat_minor": 2
}
