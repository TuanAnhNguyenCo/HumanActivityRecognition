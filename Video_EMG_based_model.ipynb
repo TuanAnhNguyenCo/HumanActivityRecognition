{
 "cells": [
  {
   "cell_type": "code",
   "execution_count": 1,
   "metadata": {},
   "outputs": [
    {
     "name": "stderr",
     "output_type": "stream",
     "text": [
      "/mnt/disk1/anaconda3/envs/anhnct/lib/python3.9/site-packages/tqdm/auto.py:21: TqdmWarning: IProgress not found. Please update jupyter and ipywidgets. See https://ipywidgets.readthedocs.io/en/stable/user_install.html\n",
      "  from .autonotebook import tqdm as notebook_tqdm\n"
     ]
    }
   ],
   "source": [
    "import os\n",
    "import cv2\n",
    "import numpy as np\n",
    "import math\n",
    "import mediapipe as mp\n",
    "from matplotlib import pyplot as plt\n",
    "import glob\n",
    "from util.img2bone import HandDetector\n",
    "import torch\n",
    "import torch.nn as nn\n",
    "import torch.nn.functional as F\n",
    "from torchvision import transforms\n",
    "from torch.utils.data import Dataset,DataLoader\n",
    "from PIL import Image\n",
    "import glob\n",
    "from tqdm.auto import tqdm\n",
    "from einops import rearrange, repeat\n",
    "from einops.layers.torch import Rearrange\n",
    "from loader.dataloader import SkeletonAndEMGData"
   ]
  },
  {
   "cell_type": "code",
   "execution_count": 2,
   "metadata": {},
   "outputs": [],
   "source": [
    "device = torch.device('cuda:0' if torch.cuda.is_available() else 'cpu')\n",
    "def find_adjacency_matrix():\n",
    "    mp_hands = mp.solutions.hands\n",
    "    hands = mp_hands.Hands()\n",
    "    adj = torch.zeros((21,21))\n",
    "    for connection in mp_hands.HAND_CONNECTIONS:\n",
    "        adj[connection[0],connection[1]] = 1\n",
    "        adj[connection[1],connection[0]] = 1\n",
    "    return adj "
   ]
  },
  {
   "cell_type": "code",
   "execution_count": 3,
   "metadata": {},
   "outputs": [],
   "source": [
    "class GraphConvolution(nn.Module):\n",
    "\tdef __init__(self, input_dim, output_dim, num_vetex, act=F.relu, dropout=0.5, bias=True):\n",
    "\t\tsuper(GraphConvolution, self).__init__()\n",
    "\n",
    "\t\tself.alpha = 1.\n",
    "\n",
    "\t\tself.act = act\n",
    "\t\tself.dropout = nn.Dropout(dropout)\n",
    "\t\tself.weight = nn.Parameter(torch.randn(input_dim, output_dim)).to(device)\n",
    "\t\tif bias:\n",
    "\t\t\tself.bias = nn.Parameter(torch.randn(output_dim)).to(device)\n",
    "\t\telse:\n",
    "\t\t\tself.bias = None\n",
    "\n",
    "\t\tfor w in [self.weight]:\n",
    "\t\t\tnn.init.xavier_normal_(w)\n",
    "\n",
    "\tdef normalize(self, m):\n",
    "\t\trowsum = torch.sum(m, 0)\n",
    "\t\tr_inv = torch.pow(rowsum, -0.5)\n",
    "\t\tr_mat_inv = torch.diag(r_inv).float()\n",
    "\n",
    "\t\tm_norm = torch.mm(r_mat_inv, m)\n",
    "\t\tm_norm = torch.mm(m_norm, r_mat_inv)\n",
    "\n",
    "\t\treturn m_norm\n",
    "\n",
    "\tdef forward(self, adj, x):\n",
    "\n",
    "\t\tx = self.dropout(x)\n",
    "\n",
    "\t\t# K-ordered Chebyshev polynomial\n",
    "\t\tadj_norm = self.normalize(adj)\n",
    "\t\tsqr_norm = self.normalize(torch.mm(adj,adj))\n",
    "\t\tm_norm = (self.alpha*adj_norm + (1.-self.alpha)*sqr_norm).to(device)\n",
    "\n",
    "\t\tx_tmp = torch.einsum('abcd,de->abce', x, self.weight)\n",
    "\t\tx_out = torch.einsum('ij,abid->abjd', m_norm, x_tmp)\n",
    "\t\tif self.bias is not None:\n",
    "\t\t\tx_out += self.bias\n",
    "\t\tx_out = self.act(x_out)\n",
    "  \n",
    "\t\t\n",
    "\t\treturn x_out\n",
    "\t\t\n",
    "\t\t\n",
    "\n",
    "class StandConvolution(nn.Module):\n",
    "\tdef __init__(self, dims, num_classes, dropout):\n",
    "\t\tsuper(StandConvolution, self).__init__()\n",
    "\n",
    "\t\tself.dropout = nn.Dropout(dropout)\n",
    "\t\tself.conv = nn.Sequential(\n",
    "\t\t\t\t\t\t\t\t   nn.Conv2d(dims[0], dims[1], kernel_size=5, stride=2),\n",
    "\t\t\t\t\t\t\t\t   nn.InstanceNorm2d(dims[1]),\n",
    "\t\t\t\t\t\t\t\t   nn.ReLU(inplace=True),\n",
    "\t\t\t\t\t\t\t\t   #nn.AvgPool2d(3, stride=2),\n",
    "\t\t\t\t\t\t\t\t   nn.Conv2d(dims[1], dims[2], kernel_size=5, stride=2),\n",
    "\t\t\t\t\t\t\t\t   nn.InstanceNorm2d(dims[2]),\n",
    "\t\t\t\t\t\t\t\t   nn.ReLU(inplace=True),\n",
    "\t\t\t\t\t\t\t\t   #nn.AvgPool2d(3, stride=2),\n",
    "\t\t\t\t\t\t\t\t   nn.Conv2d(dims[2], dims[3], kernel_size=5, stride=2),\n",
    "\t\t\t\t\t\t\t\t   nn.InstanceNorm2d(dims[3]),\n",
    "\t\t\t\t\t\t\t\t   nn.ReLU(inplace=True),\n",
    "\t\t\t\t\t\t\t\t   #nn.AvgPool2d(3, stride=2)\n",
    "\t\t\t\t\t\t\t\t   ).to(device)\n",
    "\n",
    "\t\tself.fc = nn.Linear(dims[3]*5*5, num_classes).to(device)\n",
    "\n",
    "\tdef forward(self, x):\n",
    "\t\tx = self.dropout(x.permute(0,3,1,2))# (1,9,62,63)\n",
    "\t\tx_tmp = self.conv(x)\n",
    "\t\t\n",
    "\t\t# x_out = self.fc(x_tmp.view(x.size(0), -1))\n",
    "\n",
    "\t\t# return x_out\n",
    "\t\treturn x_tmp.view(x.size(0), -1)\n",
    "class GGCN(nn.Module):\n",
    "\tdef __init__(self, adj, num_classes, gc_dims, sc_dims, dropout=0.5):\n",
    "\t\tsuper(GGCN, self).__init__()\n",
    "\n",
    "\t\t\n",
    "\t\tadj = adj + torch.eye(adj.size(0)).to(adj).detach()\n",
    "\t\tident = torch.eye(adj.size(0)).to(adj)\n",
    "\t\tzeros = torch.zeros(adj.size(0), adj.size(1)).to(adj)\n",
    "\t\tself.adj = torch.cat([torch.cat([adj, ident, zeros], 1),\n",
    "\t\t\t\t\t\t\t  torch.cat([ident, adj, ident], 1),\n",
    "\t\t\t\t\t\t\t  torch.cat([zeros, ident, adj], 1)], 0).float()\n",
    "\t\n",
    "\t\tself.gcl = GraphConvolution(gc_dims[0], gc_dims[1], 21, dropout=dropout)\n",
    "\t\tself.conv= StandConvolution(sc_dims, num_classes, dropout=dropout)\n",
    "\n",
    "\tdef forward(self, x):\n",
    "\t\t# x: \n",
    "\t\tx = torch.cat([x[:,:-2],x[:,1:-1],x[:,2:]],dim = 2)\n",
    "\t\tmulti_conv = self.gcl(self.adj, x) \n",
    "\t\tlogit = self.conv(multi_conv) \n",
    "\t\treturn logit"
   ]
  },
  {
   "cell_type": "code",
   "execution_count": 4,
   "metadata": {},
   "outputs": [],
   "source": [
    "# helpers\n",
    "\n",
    "def pair(t):\n",
    "    return t if isinstance(t, tuple) else (t, t)\n",
    "\n",
    "# classes\n",
    "\n",
    "class FeedForward(nn.Module):\n",
    "    def __init__(self, dim, hidden_dim, dropout = 0.):\n",
    "        super().__init__()\n",
    "        self.net = nn.Sequential(\n",
    "            nn.LayerNorm(dim),\n",
    "            nn.Linear(dim, hidden_dim),\n",
    "            nn.GELU(),\n",
    "            nn.Dropout(dropout),\n",
    "            nn.Linear(hidden_dim, dim),\n",
    "            nn.Dropout(dropout)\n",
    "        )\n",
    "\n",
    "    def forward(self, x):\n",
    "        return self.net(x)\n",
    "\n",
    "class Attention(nn.Module):\n",
    "    def __init__(self, dim, heads = 8, dim_head = 64, dropout = 0.):\n",
    "        super().__init__()\n",
    "        inner_dim = dim_head *  heads\n",
    "        project_out = not (heads == 1 and dim_head == dim)\n",
    "\n",
    "        self.heads = heads\n",
    "        self.scale = dim_head ** -0.5\n",
    "\n",
    "        self.norm = nn.LayerNorm(dim)\n",
    "\n",
    "        self.attend = nn.Softmax(dim = -1)\n",
    "        self.dropout = nn.Dropout(dropout)\n",
    "\n",
    "        self.to_qkv = nn.Linear(dim, inner_dim * 3, bias = False)\n",
    "\n",
    "        self.to_out = nn.Sequential(\n",
    "            nn.Linear(inner_dim, dim),\n",
    "            nn.Dropout(dropout)\n",
    "        ) if project_out else nn.Identity()\n",
    "\n",
    "    def forward(self, x):\n",
    "        x = self.norm(x)\n",
    "\n",
    "        qkv = self.to_qkv(x).chunk(3, dim = -1)\n",
    "        q, k, v = map(lambda t: rearrange(t, 'b n (h d) -> b h n d', h = self.heads), qkv)\n",
    "\n",
    "        dots = torch.matmul(q, k.transpose(-1, -2)) * self.scale\n",
    "\n",
    "        attn = self.attend(dots)\n",
    "        attn = self.dropout(attn)\n",
    "\n",
    "        out = torch.matmul(attn, v)\n",
    "        out = rearrange(out, 'b h n d -> b n (h d)')\n",
    "        return self.to_out(out)\n",
    "\n",
    "class Transformer(nn.Module):\n",
    "    def __init__(self, dim, depth, heads, dim_head, mlp_dim, dropout = 0.):\n",
    "        super().__init__()\n",
    "        self.norm = nn.LayerNorm(dim)\n",
    "        self.layers = nn.ModuleList([])\n",
    "        for _ in range(depth):\n",
    "            self.layers.append(nn.ModuleList([\n",
    "                Attention(dim, heads = heads, dim_head = dim_head, dropout = dropout),\n",
    "                FeedForward(dim, mlp_dim, dropout = dropout)\n",
    "            ]))\n",
    "\n",
    "    def forward(self, x):\n",
    "        for attn, ff in self.layers:\n",
    "            x = attn(x) + x\n",
    "            x = ff(x) + x\n",
    "\n",
    "        return self.norm(x)\n",
    "\n",
    "class ViT(nn.Module):\n",
    "    def __init__(self, *, emg_size, patch_height, num_classes, dim, depth, heads, mlp_dim, pool = 'cls', dim_head = 64, dropout = 0., emb_dropout = 0.):\n",
    "        super().__init__()\n",
    "        emg_height, emg_width = pair(emg_size)\n",
    "\n",
    "\n",
    "        num_patches = int(emg_height//patch_height)\n",
    "        patch_dim = int(emg_width * patch_height )\n",
    "        \n",
    "        self.to_patch_embedding = nn.Sequential(\n",
    "            Rearrange('b (h p1) c -> b h (p1 c)', h = num_patches, c = emg_width),\n",
    "            nn.LayerNorm(patch_dim),\n",
    "            nn.Linear(patch_dim, dim),\n",
    "            nn.LayerNorm(dim),\n",
    "        )\n",
    "\n",
    "        self.pos_embedding = nn.Parameter(torch.randn(1, num_patches + 1, dim))\n",
    "        self.cls_token = nn.Parameter(torch.randn(1, 1, dim))\n",
    "        self.dropout = nn.Dropout(emb_dropout)\n",
    "\n",
    "        self.transformer = Transformer(dim, depth, heads, dim_head, mlp_dim, dropout)\n",
    "\n",
    "        self.pool = pool\n",
    "        self.to_latent = nn.Identity()\n",
    "\n",
    "        self.mlp_head = nn.Linear(dim, num_classes)\n",
    "\n",
    "    def forward(self, x):\n",
    "        x = self.to_patch_embedding(x)\n",
    "        \n",
    "        b, n, _ = x.shape\n",
    "\n",
    "        cls_tokens = repeat(self.cls_token, '1 1 d -> b 1 d', b = b)\n",
    "        x = torch.cat((cls_tokens, x), dim=1)\n",
    "        x += self.pos_embedding[:, :(n + 1)]\n",
    "        x = self.dropout(x)\n",
    "\n",
    "        x = self.transformer(x)\n",
    "\n",
    "        x = x.mean(dim = 1) if self.pool == 'mean' else x[:, 0]\n",
    "\n",
    "        x = self.to_latent(x)\n",
    "        # return self.mlp_head(x)\n",
    "        return x"
   ]
  },
  {
   "cell_type": "code",
   "execution_count": 5,
   "metadata": {},
   "outputs": [],
   "source": [
    "class MultiModel(nn.Module):\n",
    "    def __init__(self, adj, num_classes, gc_dims, sc_dims, \n",
    "                 emg_size, patch_height, dim, depth, heads, mlp_dim, pool = 'cls',\n",
    "                 dim_head = 64, vit_dropout = 0., emb_dropout = 0.,GCN_dropout=0.2\n",
    "                 ):\n",
    "        super(MultiModel, self).__init__()\n",
    "        self.gcn = GGCN(find_adjacency_matrix(),num_classes,gc_dims,sc_dims,GCN_dropout).float()\n",
    "        self.vit = ViT(emg_size=emg_size,patch_height=patch_height,num_classes=num_classes,dim = dim,depth=depth,mlp_dim=mlp_dim,heads=heads,\n",
    "                       dim_head=dim_head,dropout = vit_dropout,emb_dropout = emb_dropout).double()\n",
    "        self.fc = nn.Linear(2944, num_classes).double()\n",
    "    def forward(self, video,emg):\n",
    "        x1 = self.gcn(video).double()\n",
    "        x2 = self.vit(emg)\n",
    "        x = torch.cat([x1,x2],dim = -1)\n",
    "        print(x.shape)\n",
    "        return self.fc(x)\n",
    "        "
   ]
  },
  {
   "cell_type": "code",
   "execution_count": 6,
   "metadata": {},
   "outputs": [],
   "source": [
    "\n",
    "def train(train_loader,model,criterion,optimizer,device):\n",
    "    running_loss = 0\n",
    "    model.train()\n",
    "   \n",
    "    for videos,labels,emgs in tqdm(train_loader):\n",
    "        \n",
    "        videos = videos.to(device)\n",
    "        labels = labels.to(device)\n",
    "        emgs = emgs.to(device).double()\n",
    "        \n",
    "        # forward\n",
    "        outputs = model(videos,emgs)\n",
    "        loss = criterion(outputs,labels)\n",
    "        running_loss += loss.item()\n",
    "        \n",
    "        #backward\n",
    "        optimizer.zero_grad()\n",
    "        loss.backward()\n",
    "        optimizer.step()\n",
    "        \n",
    "        \n",
    "    \n",
    "    epoch_loss = running_loss / (len(train_loader))\n",
    "    return model,epoch_loss,optimizer\n",
    "\n",
    "def validate(valid_loader,model,criterion,device):\n",
    "    model.eval()\n",
    "    running_loss = 0\n",
    "   \n",
    "    \n",
    "    for videos,labels,emgs in tqdm(valid_loader):\n",
    "       \n",
    "        videos = videos.to(device)\n",
    "        labels = labels.to(device)\n",
    "        emgs = emgs.to(device).double()\n",
    "        \n",
    "        # forward\n",
    "        \n",
    "        outputs = model(videos,emgs)\n",
    "        loss = criterion(outputs,labels)\n",
    "        running_loss += loss.item()\n",
    "\n",
    "    epoch_loss = running_loss / (len(valid_loader))\n",
    "    return model,epoch_loss\n",
    "\n",
    "def get_accuracy(model,data_loader,device):\n",
    "    correct = 0\n",
    "    total = 0\n",
    "    \n",
    "    with torch.no_grad():\n",
    "        model.eval()\n",
    "        for videos,labels,emgs in data_loader:\n",
    "            videos = videos.to(device)\n",
    "            labels = labels.to(device)\n",
    "            emgs = emgs.to(device).double()\n",
    "            \n",
    "            # forward\n",
    "            outputs = model(videos,emgs)\n",
    "            predicted = torch.argmax(torch.softmax(outputs,1),1)\n",
    "            total += labels.shape[0]\n",
    "            correct += (predicted == labels).sum().item()\n",
    "    return correct*100/total\n",
    "\n",
    "def plot_losses(train_losses,valid_losses):\n",
    "    train_losses = np.array(train_losses)\n",
    "    valid_losses = np.array(valid_losses)\n",
    "    \n",
    "    fig, ax1 = plt.subplots(1, 1)\n",
    "    ax1.plot(train_losses, color=\"blue\", label=\"train_loss\")\n",
    "    ax1.plot(valid_losses, color=\"red\", label=\"valid_loss\")\n",
    "    ax1.set(title=\"Loss over epochs\",\n",
    "            xlabel=\"Epoch\",\n",
    "            ylabel=\"Loss\")\n",
    "    ax1.legend()\n",
    "    \n",
    "def plot_accuracy(train_acc,valid_acc):\n",
    "    train_acc = np.array(train_acc)\n",
    "    valid_acc = np.array(valid_acc)\n",
    "    \n",
    "    fig, ax1 = plt.subplots(1, 1)\n",
    "    ax1.plot(train_acc, color=\"blue\", label=\"train_acc\")\n",
    "    ax1.plot(valid_acc, color=\"red\", label=\"val_acc\")\n",
    "    ax1.set(title=\"Accuracy over epochs\",\n",
    "            xlabel=\"Epoch\",\n",
    "            ylabel=\"Accuracy\")\n",
    "    ax1.legend()"
   ]
  },
  {
   "cell_type": "code",
   "execution_count": 7,
   "metadata": {},
   "outputs": [
    {
     "name": "stdout",
     "output_type": "stream",
     "text": [
      "tensor([33, 10, 10, 37])\n",
      "tensor([33, 10, 37])\n",
      "tensor([33, 10])\n"
     ]
    }
   ],
   "source": [
    "train_set = SkeletonAndEMGData(\"data/108_new/train.pkl\")\n",
    "val_set = SkeletonAndEMGData(\"data/108_new/val.pkl\")\n",
    "test_set = SkeletonAndEMGData(\"data/108_new/test.pkl\")\n",
    "\n",
    "train_loader = DataLoader(train_set,batch_size = 128,drop_last = False)\n",
    "valid_loader = DataLoader(val_set,batch_size = 128,drop_last = False)\n",
    "test_loader = DataLoader(test_set,batch_size = 128,drop_last = False)\n",
    "    "
   ]
  },
  {
   "cell_type": "code",
   "execution_count": 8,
   "metadata": {},
   "outputs": [
    {
     "name": "stderr",
     "output_type": "stream",
     "text": [
      "INFO: Created TensorFlow Lite XNNPACK delegate for CPU.\n",
      "  0%|          | 0/1 [00:00<?, ?it/s]"
     ]
    },
    {
     "name": "stdout",
     "output_type": "stream",
     "text": [
      "torch.Size([4, 2944])\n"
     ]
    },
    {
     "name": "stderr",
     "output_type": "stream",
     "text": [
      "100%|██████████| 1/1 [00:02<00:00,  2.37s/it]\n",
      "100%|██████████| 1/1 [00:00<00:00, 19.74it/s]\n"
     ]
    },
    {
     "name": "stdout",
     "output_type": "stream",
     "text": [
      "torch.Size([3, 2944])\n",
      "torch.Size([4, 2944])\n",
      "torch.Size([3, 2944])\n",
      "Epoch 1 --- Train loss = 3.6026234289732315 --- Valid loss = 1.958267025951524 -- Train set accuracy = 50.0 % Valid set Accuracy = 33.333333333333336 %\n"
     ]
    },
    {
     "name": "stderr",
     "output_type": "stream",
     "text": [
      "100%|██████████| 1/1 [00:00<00:00, 10.67it/s]"
     ]
    },
    {
     "name": "stdout",
     "output_type": "stream",
     "text": [
      "torch.Size([4, 2944])\n"
     ]
    },
    {
     "name": "stderr",
     "output_type": "stream",
     "text": [
      "\n",
      "100%|██████████| 1/1 [00:00<00:00, 24.60it/s]\n"
     ]
    },
    {
     "name": "stdout",
     "output_type": "stream",
     "text": [
      "torch.Size([3, 2944])\n",
      "torch.Size([4, 2944])\n",
      "torch.Size([3, 2944])\n",
      "Epoch 2 --- Train loss = 1.3225289302248802 --- Valid loss = 1.7204879661502401 -- Train set accuracy = 50.0 % Valid set Accuracy = 66.66666666666667 %\n"
     ]
    },
    {
     "name": "stderr",
     "output_type": "stream",
     "text": [
      "100%|██████████| 1/1 [00:00<00:00, 10.88it/s]\n"
     ]
    },
    {
     "name": "stdout",
     "output_type": "stream",
     "text": [
      "torch.Size([4, 2944])\n"
     ]
    },
    {
     "name": "stderr",
     "output_type": "stream",
     "text": [
      "100%|██████████| 1/1 [00:00<00:00, 23.56it/s]"
     ]
    },
    {
     "name": "stdout",
     "output_type": "stream",
     "text": [
      "torch.Size([3, 2944])\n",
      "torch.Size([4, 2944])\n"
     ]
    },
    {
     "name": "stderr",
     "output_type": "stream",
     "text": [
      "\n"
     ]
    },
    {
     "name": "stdout",
     "output_type": "stream",
     "text": [
      "torch.Size([3, 2944])\n",
      "Epoch 3 --- Train loss = 2.430801912289857 --- Valid loss = 0.2947281647077583 -- Train set accuracy = 50.0 % Valid set Accuracy = 66.66666666666667 %\n"
     ]
    },
    {
     "name": "stderr",
     "output_type": "stream",
     "text": [
      "100%|██████████| 1/1 [00:00<00:00, 10.92it/s]"
     ]
    },
    {
     "name": "stdout",
     "output_type": "stream",
     "text": [
      "torch.Size([4, 2944])\n"
     ]
    },
    {
     "name": "stderr",
     "output_type": "stream",
     "text": [
      "\n",
      "100%|██████████| 1/1 [00:00<00:00, 23.05it/s]"
     ]
    },
    {
     "name": "stdout",
     "output_type": "stream",
     "text": [
      "torch.Size([3, 2944])\n",
      "torch.Size([4, 2944])\n",
      "torch.Size([3, 2944])\n"
     ]
    },
    {
     "name": "stderr",
     "output_type": "stream",
     "text": [
      "\n"
     ]
    },
    {
     "name": "stdout",
     "output_type": "stream",
     "text": [
      "Epoch 4 --- Train loss = 0.5157760964071995 --- Valid loss = 0.04721729486318799 -- Train set accuracy = 100.0 % Valid set Accuracy = 100.0 %\n"
     ]
    },
    {
     "name": "stderr",
     "output_type": "stream",
     "text": [
      "100%|██████████| 1/1 [00:00<00:00, 10.78it/s]\n"
     ]
    },
    {
     "name": "stdout",
     "output_type": "stream",
     "text": [
      "torch.Size([4, 2944])\n"
     ]
    },
    {
     "name": "stderr",
     "output_type": "stream",
     "text": [
      "100%|██████████| 1/1 [00:00<00:00, 21.99it/s]"
     ]
    },
    {
     "name": "stdout",
     "output_type": "stream",
     "text": [
      "torch.Size([3, 2944])\n",
      "torch.Size([4, 2944])\n"
     ]
    },
    {
     "name": "stderr",
     "output_type": "stream",
     "text": [
      "\n"
     ]
    },
    {
     "name": "stdout",
     "output_type": "stream",
     "text": [
      "torch.Size([3, 2944])\n",
      "Epoch 5 --- Train loss = 0.024008337453390895 --- Valid loss = 0.11334478769082669 -- Train set accuracy = 100.0 % Valid set Accuracy = 100.0 %\n"
     ]
    },
    {
     "name": "stderr",
     "output_type": "stream",
     "text": [
      "100%|██████████| 1/1 [00:00<00:00, 10.71it/s]"
     ]
    },
    {
     "name": "stdout",
     "output_type": "stream",
     "text": [
      "torch.Size([4, 2944])\n"
     ]
    },
    {
     "name": "stderr",
     "output_type": "stream",
     "text": [
      "\n",
      "100%|██████████| 1/1 [00:00<00:00, 23.62it/s]"
     ]
    },
    {
     "name": "stdout",
     "output_type": "stream",
     "text": [
      "torch.Size([3, 2944])\n",
      "torch.Size([4, 2944])\n"
     ]
    },
    {
     "name": "stderr",
     "output_type": "stream",
     "text": [
      "\n"
     ]
    },
    {
     "name": "stdout",
     "output_type": "stream",
     "text": [
      "torch.Size([3, 2944])\n",
      "Epoch 6 --- Train loss = 0.04406134113013788 --- Valid loss = 0.11920865600709123 -- Train set accuracy = 100.0 % Valid set Accuracy = 100.0 %\n"
     ]
    },
    {
     "name": "stderr",
     "output_type": "stream",
     "text": [
      "100%|██████████| 1/1 [00:00<00:00, 10.92it/s]\n"
     ]
    },
    {
     "name": "stdout",
     "output_type": "stream",
     "text": [
      "torch.Size([4, 2944])\n"
     ]
    },
    {
     "name": "stderr",
     "output_type": "stream",
     "text": [
      "100%|██████████| 1/1 [00:00<00:00, 23.73it/s]"
     ]
    },
    {
     "name": "stdout",
     "output_type": "stream",
     "text": [
      "torch.Size([3, 2944])\n",
      "torch.Size([4, 2944])\n",
      "torch.Size([3, 2944])\n"
     ]
    },
    {
     "name": "stderr",
     "output_type": "stream",
     "text": [
      "\n"
     ]
    },
    {
     "name": "stdout",
     "output_type": "stream",
     "text": [
      "Epoch 7 --- Train loss = 0.03926420168033675 --- Valid loss = 0.06139955916452688 -- Train set accuracy = 100.0 % Valid set Accuracy = 100.0 %\n"
     ]
    },
    {
     "name": "stderr",
     "output_type": "stream",
     "text": [
      "100%|██████████| 1/1 [00:00<00:00, 10.89it/s]\n"
     ]
    },
    {
     "name": "stdout",
     "output_type": "stream",
     "text": [
      "torch.Size([4, 2944])\n"
     ]
    },
    {
     "name": "stderr",
     "output_type": "stream",
     "text": [
      "100%|██████████| 1/1 [00:00<00:00, 19.75it/s]"
     ]
    },
    {
     "name": "stdout",
     "output_type": "stream",
     "text": [
      "torch.Size([3, 2944])\n",
      "torch.Size([4, 2944])\n"
     ]
    },
    {
     "name": "stderr",
     "output_type": "stream",
     "text": [
      "\n"
     ]
    },
    {
     "name": "stdout",
     "output_type": "stream",
     "text": [
      "torch.Size([3, 2944])\n",
      "Epoch 8 --- Train loss = 0.02234926939137077 --- Valid loss = 0.014674145057066447 -- Train set accuracy = 100.0 % Valid set Accuracy = 100.0 %\n"
     ]
    },
    {
     "name": "stderr",
     "output_type": "stream",
     "text": [
      "  0%|          | 0/1 [00:00<?, ?it/s]"
     ]
    },
    {
     "name": "stdout",
     "output_type": "stream",
     "text": [
      "torch.Size([4, 2944])\n"
     ]
    },
    {
     "name": "stderr",
     "output_type": "stream",
     "text": [
      "100%|██████████| 1/1 [00:00<00:00,  9.07it/s]\n",
      "  0%|          | 0/1 [00:00<?, ?it/s]"
     ]
    },
    {
     "name": "stdout",
     "output_type": "stream",
     "text": [
      "torch.Size([3, 2944])\n"
     ]
    },
    {
     "name": "stderr",
     "output_type": "stream",
     "text": [
      "100%|██████████| 1/1 [00:00<00:00, 17.29it/s]"
     ]
    },
    {
     "name": "stdout",
     "output_type": "stream",
     "text": [
      "torch.Size([4, 2944])\n"
     ]
    },
    {
     "name": "stderr",
     "output_type": "stream",
     "text": [
      "\n"
     ]
    },
    {
     "name": "stdout",
     "output_type": "stream",
     "text": [
      "torch.Size([3, 2944])\n",
      "Epoch 9 --- Train loss = 0.00489285830476895 --- Valid loss = 0.0033407466451638255 -- Train set accuracy = 100.0 % Valid set Accuracy = 100.0 %\n"
     ]
    },
    {
     "name": "stderr",
     "output_type": "stream",
     "text": [
      "  0%|          | 0/1 [00:00<?, ?it/s]"
     ]
    },
    {
     "name": "stdout",
     "output_type": "stream",
     "text": [
      "torch.Size([4, 2944])\n"
     ]
    },
    {
     "name": "stderr",
     "output_type": "stream",
     "text": [
      "100%|██████████| 1/1 [00:00<00:00,  7.64it/s]\n",
      "100%|██████████| 1/1 [00:00<00:00, 11.97it/s]"
     ]
    },
    {
     "name": "stdout",
     "output_type": "stream",
     "text": [
      "torch.Size([3, 2944])\n",
      "torch.Size([4, 2944])\n"
     ]
    },
    {
     "name": "stderr",
     "output_type": "stream",
     "text": [
      "\n"
     ]
    },
    {
     "name": "stdout",
     "output_type": "stream",
     "text": [
      "torch.Size([3, 2944])\n",
      "Epoch 10 --- Train loss = 0.00122952116873218 --- Valid loss = 0.0013493090466087654 -- Train set accuracy = 100.0 % Valid set Accuracy = 100.0 %\n"
     ]
    },
    {
     "name": "stderr",
     "output_type": "stream",
     "text": [
      "100%|██████████| 1/1 [00:00<00:00, 10.94it/s]"
     ]
    },
    {
     "name": "stdout",
     "output_type": "stream",
     "text": [
      "torch.Size([4, 2944])\n"
     ]
    },
    {
     "name": "stderr",
     "output_type": "stream",
     "text": [
      "\n",
      "100%|██████████| 1/1 [00:00<00:00, 23.55it/s]"
     ]
    },
    {
     "name": "stdout",
     "output_type": "stream",
     "text": [
      "torch.Size([3, 2944])\n",
      "torch.Size([4, 2944])\n"
     ]
    },
    {
     "name": "stderr",
     "output_type": "stream",
     "text": [
      "\n"
     ]
    },
    {
     "name": "stdout",
     "output_type": "stream",
     "text": [
      "torch.Size([3, 2944])\n",
      "Epoch 11 --- Train loss = 0.0006674797943961182 --- Valid loss = 0.0010872953946354212 -- Train set accuracy = 100.0 % Valid set Accuracy = 100.0 %\n"
     ]
    },
    {
     "name": "stderr",
     "output_type": "stream",
     "text": [
      "  0%|          | 0/1 [00:00<?, ?it/s]"
     ]
    },
    {
     "name": "stdout",
     "output_type": "stream",
     "text": [
      "torch.Size([4, 2944])\n"
     ]
    },
    {
     "name": "stderr",
     "output_type": "stream",
     "text": [
      "100%|██████████| 1/1 [00:00<00:00, 10.74it/s]\n",
      "100%|██████████| 1/1 [00:00<00:00, 23.13it/s]"
     ]
    },
    {
     "name": "stdout",
     "output_type": "stream",
     "text": [
      "torch.Size([3, 2944])\n",
      "torch.Size([4, 2944])\n"
     ]
    },
    {
     "name": "stderr",
     "output_type": "stream",
     "text": [
      "\n"
     ]
    },
    {
     "name": "stdout",
     "output_type": "stream",
     "text": [
      "torch.Size([3, 2944])\n",
      "Epoch 12 --- Train loss = 0.000887956244544908 --- Valid loss = 0.0013116753616869206 -- Train set accuracy = 100.0 % Valid set Accuracy = 100.0 %\n"
     ]
    },
    {
     "name": "stderr",
     "output_type": "stream",
     "text": [
      "100%|██████████| 1/1 [00:00<00:00, 10.71it/s]"
     ]
    },
    {
     "name": "stdout",
     "output_type": "stream",
     "text": [
      "torch.Size([4, 2944])\n"
     ]
    },
    {
     "name": "stderr",
     "output_type": "stream",
     "text": [
      "\n",
      "100%|██████████| 1/1 [00:00<00:00, 23.51it/s]"
     ]
    },
    {
     "name": "stdout",
     "output_type": "stream",
     "text": [
      "torch.Size([3, 2944])\n",
      "torch.Size([4, 2944])\n"
     ]
    },
    {
     "name": "stderr",
     "output_type": "stream",
     "text": [
      "\n"
     ]
    },
    {
     "name": "stdout",
     "output_type": "stream",
     "text": [
      "torch.Size([3, 2944])\n",
      "Epoch 13 --- Train loss = 0.0011341232663699945 --- Valid loss = 0.001779616268823212 -- Train set accuracy = 100.0 % Valid set Accuracy = 100.0 %\n"
     ]
    },
    {
     "name": "stderr",
     "output_type": "stream",
     "text": [
      "  0%|          | 0/1 [00:00<?, ?it/s]"
     ]
    },
    {
     "name": "stdout",
     "output_type": "stream",
     "text": [
      "torch.Size([4, 2944])\n"
     ]
    },
    {
     "name": "stderr",
     "output_type": "stream",
     "text": [
      "100%|██████████| 1/1 [00:00<00:00,  8.63it/s]\n",
      "  0%|          | 0/1 [00:00<?, ?it/s]"
     ]
    },
    {
     "name": "stdout",
     "output_type": "stream",
     "text": [
      "torch.Size([3, 2944])\n"
     ]
    },
    {
     "name": "stderr",
     "output_type": "stream",
     "text": [
      "100%|██████████| 1/1 [00:00<00:00, 13.52it/s]\n"
     ]
    },
    {
     "name": "stdout",
     "output_type": "stream",
     "text": [
      "torch.Size([4, 2944])\n",
      "torch.Size([3, 2944])\n",
      "Epoch 14 --- Train loss = 0.0013749096229111306 --- Valid loss = 0.0022768948459767186 -- Train set accuracy = 100.0 % Valid set Accuracy = 100.0 %\n"
     ]
    },
    {
     "name": "stderr",
     "output_type": "stream",
     "text": [
      "  0%|          | 0/1 [00:00<?, ?it/s]"
     ]
    },
    {
     "name": "stdout",
     "output_type": "stream",
     "text": [
      "torch.Size([4, 2944])\n"
     ]
    },
    {
     "name": "stderr",
     "output_type": "stream",
     "text": [
      "100%|██████████| 1/1 [00:00<00:00,  7.41it/s]\n",
      "100%|██████████| 1/1 [00:00<00:00, 17.01it/s]"
     ]
    },
    {
     "name": "stdout",
     "output_type": "stream",
     "text": [
      "torch.Size([3, 2944])\n",
      "torch.Size([4, 2944])\n",
      "torch.Size([3, 2944])\n",
      "Epoch 15 --- Train loss = 0.0012387379095335604 --- Valid loss = 0.0026892184261585153 -- Train set accuracy = 100.0 % Valid set Accuracy = 100.0 %\n"
     ]
    },
    {
     "name": "stderr",
     "output_type": "stream",
     "text": [
      "\n"
     ]
    }
   ],
   "source": [
    "model = MultiModel(find_adjacency_matrix(),41,[3,9],[9, 16, 32, 64],\n",
    "                   emg_size=(132300,8),patch_height=int(44100*0.2),\n",
    "                   dim = 1024,depth=3,mlp_dim=2048,heads=8\n",
    "                   ).to(device)\n",
    "criterion = nn.CrossEntropyLoss()\n",
    "optimizer = torch.optim.Adam(model.parameters())\n",
    "epochs = 15\n",
    "train_losses = []\n",
    "valid_losses = []\n",
    "train_accuracy = []\n",
    "val_accuracy = []\n",
    "for epoch in range(epochs):\n",
    "    # training\n",
    "    model,train_loss,optimizer = train(train_loader,model,criterion,optimizer,device)\n",
    "    \n",
    "    # validation\n",
    "    with torch.no_grad():\n",
    "        model, valid_loss = validate(valid_loader, model, criterion, device)\n",
    "    train_acc = get_accuracy(model,train_loader,device)\n",
    "    val_acc = get_accuracy(model,valid_loader,device)\n",
    "    print(\"Epoch {} --- Train loss = {} --- Valid loss = {} -- Train set accuracy = {} % Valid set Accuracy = {} %\".format\n",
    "          (epoch+1,train_loss,valid_loss,train_acc,val_acc))\n",
    "    # save loss value\n",
    "    train_losses.append(train_loss)\n",
    "    valid_losses.append(valid_loss)\n",
    "    \n",
    "    #save accuracy\n",
    "    train_accuracy.append(train_acc)\n",
    "    val_accuracy.append(val_acc)"
   ]
  },
  {
   "cell_type": "code",
   "execution_count": 9,
   "metadata": {},
   "outputs": [
    {
     "data": {
      "text/plain": [
       "(None, None)"
      ]
     },
     "execution_count": 9,
     "metadata": {},
     "output_type": "execute_result"
    },
    {
     "data": {
      "image/png": "[encoded data removed]",
      "text/plain": [
       "<Figure size 640x480 with 1 Axes>"
      ]
     },
     "metadata": {},
     "output_type": "display_data"
    },
    {
     "data": {
      "image/png": "[encoded data removed]",
      "text/plain": [
       "<Figure size 640x480 with 1 Axes>"
      ]
     },
     "metadata": {},
     "output_type": "display_data"
    }
   ],
   "source": [
    "plot_losses(train_losses,valid_losses),plot_accuracy(train_accuracy,val_accuracy)"
   ]
  },
  {
   "cell_type": "code",
   "execution_count": null,
   "metadata": {},
   "outputs": [],
   "source": []
  }
 ],
 "metadata": {
  "kernelspec": {
   "display_name": "anhnct",
   "language": "python",
   "name": "python3"
  },
  "language_info": {
   "codemirror_mode": {
    "name": "ipython",
    "version": 3
   },
   "file_extension": ".py",
   "mimetype": "text/x-python",
   "name": "python",
   "nbconvert_exporter": "python",
   "pygments_lexer": "ipython3",
   "version": "3.9.17"
  },
  "orig_nbformat": 4
 },
 "nbformat": 4,
 "nbformat_minor": 2
}
