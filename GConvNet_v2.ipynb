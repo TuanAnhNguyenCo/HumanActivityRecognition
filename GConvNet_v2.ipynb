{
 "cells": [
  {
   "cell_type": "code",
   "execution_count": 2,
   "metadata": {},
   "outputs": [
    {
     "name": "stderr",
     "output_type": "stream",
     "text": [
      "/home/aiotlab3/anaconda3/envs/hungvv/lib/python3.10/site-packages/tqdm/auto.py:21: TqdmWarning: IProgress not found. Please update jupyter and ipywidgets. See https://ipywidgets.readthedocs.io/en/stable/user_install.html\n",
      "  from .autonotebook import tqdm as notebook_tqdm\n"
     ]
    }
   ],
   "source": [
    "import os\n",
    "import cv2\n",
    "import numpy as np\n",
    "import math\n",
    "import mediapipe as mp\n",
    "from matplotlib import pyplot as plt\n",
    "import torch\n",
    "import torch.nn as nn\n",
    "import torch.nn.functional as F\n",
    "from torchvision import transforms\n",
    "from torch.utils.data import Dataset,DataLoader\n",
    "from PIL import Image\n",
    "import os\n",
    "import glob\n",
    "import numpy as np\n",
    "from tqdm.auto import tqdm\n",
    "\n",
    "\n",
    "BaseOptions = mp.tasks.BaseOptions\n",
    "HandLandmarker = mp.tasks.vision.HandLandmarker\n",
    "HandLandmarkerOptions = mp.tasks.vision.HandLandmarkerOptions\n",
    "VisionRunningMode = mp.tasks.vision.RunningMode\n",
    "\n",
    "class HandDetector:\n",
    "    def __init__(self, mode=VisionRunningMode.IMAGE, maxHands=1, detectionCon=0.5, minTrackCon=0.5):\n",
    "        self.mode = mode\n",
    "        self.maxHands = maxHands\n",
    "        self.detectionCon = detectionCon\n",
    "        self.minTrackCon = minTrackCon\n",
    "        self.mpHands = mp.solutions.hands\n",
    "        self.hands = self.mpHands.Hands(static_image_mode=self.mode, max_num_hands=self.maxHands,\n",
    "                                        min_detection_confidence=self.detectionCon,\n",
    "                                        min_tracking_confidence=self.minTrackCon)\n",
    "        self.mpDraw = mp.solutions.drawing_utils\n",
    "        self.tipIds = [4, 8, 12, 16, 20]\n",
    "        self.fingers = []\n",
    "        self.lmList = []\n",
    "        \n",
    "    def findHands(self, img_url, draw = True):\n",
    "        img = cv2.imread(img_url)\n",
    "        img_bone = np.ones((img.shape[0], img.shape[1], 3)) * 255\n",
    "        \n",
    "        img_RGB = cv2.cvtColor(img, cv2.COLOR_BGR2RGB)\n",
    "        self.results = self.hands.process(img_RGB)\n",
    "        all_hands = []\n",
    "        h, w, c = img.shape\n",
    "        if self.results.multi_hand_landmarks:\n",
    "            mylmList = []\n",
    "            for handType, handLms in zip(self.results.multi_handedness, self.results.multi_hand_landmarks):\n",
    "                myHand = {}\n",
    "                ## lmList\n",
    "              \n",
    "                xList = []\n",
    "                yList = []\n",
    "                zList = []\n",
    "                for id, lm in enumerate(handLms.landmark):\n",
    "                    px, py, pz = int(lm.x * w), int(lm.y * h), int(lm.z * w)\n",
    "                    mylmList.append([lm.x, lm.y, lm.z])\n",
    "                    xList.append(px)\n",
    "                    yList.append(py)\n",
    "                    zList.append(pz)\n",
    "                ## bbox\n",
    "                x_min, x_max = min(xList), max(xList)\n",
    "                y_min, y_max = min(yList), max(yList)\n",
    "                boxW, boxH = x_max - x_min, y_max - y_min\n",
    "                bbox = x_min, y_min, boxW, boxH\n",
    "\n",
    "                myHand[\"lmList\"] = mylmList\n",
    "                myHand[\"bbox\"] = bbox\n",
    "                myHand[\"xList\"] = xList\n",
    "                myHand[\"yList\"] = yList\n",
    "                myHand[\"zList\"] = zList\n",
    "                all_hands.append(myHand)\n",
    "                # draw\n",
    "                if draw:\n",
    "                    self.mpDraw.draw_landmarks(img_bone, handLms,\n",
    "                                               self.mpHands.HAND_CONNECTIONS)\n",
    "            return torch.tensor(mylmList)\n",
    "        return None\n",
    "        \n",
    "  "
   ]
  },
  {
   "cell_type": "markdown",
   "metadata": {},
   "source": [
    "# I use self attention in this version"
   ]
  },
  {
   "cell_type": "code",
   "execution_count": 3,
   "metadata": {},
   "outputs": [],
   "source": [
    "def find_adjacency_matrix():\n",
    "    mp_hands = mp.solutions.hands\n",
    "    hands = mp_hands.Hands()\n",
    "    adj = torch.zeros((21,21))\n",
    "    for connection in mp_hands.HAND_CONNECTIONS:\n",
    "        adj[connection[0],connection[1]] = 1\n",
    "        adj[connection[1],connection[0]] = 1\n",
    "    return adj "
   ]
  },
  {
   "cell_type": "code",
   "execution_count": 4,
   "metadata": {},
   "outputs": [],
   "source": [
    "device = torch.device('cuda:0' if torch.cuda.is_available() else 'cpu')\n",
    "\n",
    "class GraphConvolution(nn.Module):\n",
    "\tdef __init__(self, input_dim, output_dim, num_vetex, act=F.relu, dropout=0.5, bias=True):\n",
    "\t\tsuper(GraphConvolution, self).__init__()\n",
    "\n",
    "\t\tself.alpha = 1.\n",
    "\n",
    "\t\tself.act = act\n",
    "\t\tself.dropout = nn.Dropout(dropout)\n",
    "\t\tself.weight = nn.Parameter(torch.randn(input_dim, output_dim)).to(device)\n",
    "\t\tif bias:\n",
    "\t\t\tself.bias = nn.Parameter(torch.randn(output_dim)).to(device)\n",
    "\t\telse:\n",
    "\t\t\tself.bias = None\n",
    "\n",
    "\t\tfor w in [self.weight]:\n",
    "\t\t\tnn.init.xavier_normal_(w)\n",
    "\n",
    "\tdef normalize(self, m):\n",
    "\t\trowsum = torch.sum(m, 0)\n",
    "\t\tr_inv = torch.pow(rowsum, -0.5)\n",
    "\t\tr_mat_inv = torch.diag(r_inv).float()\n",
    "\n",
    "\t\tm_norm = torch.mm(r_mat_inv, m)\n",
    "\t\tm_norm = torch.mm(m_norm, r_mat_inv)\n",
    "\n",
    "\t\treturn m_norm\n",
    "\n",
    "\tdef forward(self, adj, x):\n",
    "\n",
    "\t\tx = self.dropout(x)\n",
    "\n",
    "\t\t# K-ordered Chebyshev polynomial\n",
    "\t\tadj_norm = self.normalize(adj)\n",
    "\t\tsqr_norm = self.normalize(torch.mm(adj,adj))\n",
    "\t\tm_norm = (self.alpha*adj_norm + (1.-self.alpha)*sqr_norm).to(device)\n",
    "\n",
    "\t\tx_tmp = torch.einsum('abd,de->abe', x, self.weight)\n",
    "\t\t\n",
    "\t\tx_out = torch.einsum('ij,aid->ajd', m_norm, x_tmp)\n",
    "\t\tif self.bias is not None:\n",
    "\t\t\tx_out += self.bias\n",
    "\n",
    "\t\tx_out = self.act(x_out)\n",
    "\t\t\n",
    "\t\treturn x_out\n",
    "\t\t\n",
    "\t\t\n",
    "\n",
    "class StandConvolution(nn.Module):\n",
    "\tdef __init__(self, dims, num_classes, dropout):\n",
    "\t\tsuper(StandConvolution, self).__init__()\n",
    "\n",
    "\t\tself.dropout = nn.Dropout(dropout)\n",
    "\t\tself.conv = nn.Sequential(\n",
    "                        nn.Conv1d(dims[0], dims[1], kernel_size=3, stride=1,padding = 1),\n",
    "                        nn.InstanceNorm1d(dims[1]),\n",
    "                        nn.ReLU(inplace=True),\n",
    "                        \n",
    "                        #nn.AvgPool2d(3, stride=2),\n",
    "                        nn.Conv1d(dims[1], dims[2], kernel_size=3, stride=1,padding = 1),\n",
    "                        nn.InstanceNorm1d(dims[2]),\n",
    "                        nn.ReLU(inplace=True),\n",
    "                        \n",
    "                        #nn.AvgPool2d(3, stride=2),\n",
    "                        nn.Conv1d(dims[2], dims[3], kernel_size=3, stride=1,padding = 1),\n",
    "                        nn.InstanceNorm1d(dims[3]),\n",
    "                        nn.ReLU(inplace=True),\n",
    "                        \n",
    "                        #nn.AvgPool2d(3, stride=2)\n",
    "                        ).to(device)\n",
    "\t\tself.fc = nn.Linear(64*21, num_classes).to(device)\n",
    "\n",
    "\tdef forward(self, x):\n",
    "\t\t\n",
    "\t\tx = self.dropout(x.permute(0,2,1))\n",
    "\t\tx_tmp = self.conv(x)\n",
    "\t\tx_out = self.fc(x_tmp.view(x.size(0), -1))\n",
    "\n",
    "\t\treturn x_out\n"
   ]
  },
  {
   "cell_type": "code",
   "execution_count": 5,
   "metadata": {},
   "outputs": [],
   "source": [
    "class GGCN(nn.Module):\n",
    "\tdef __init__(self, adj, num_classes, gc_dims, sc_dims, dropout=0.5):\n",
    "\t\tsuper(GGCN, self).__init__()\n",
    "\n",
    "\t\tterminal_cnt = 5\n",
    "\t\tactor_cnt = 1\n",
    "\t\tself.adj = adj + torch.eye(adj.size(0)).to(adj).detach()\n",
    "\t\n",
    "\t\tself.gcl = GraphConvolution(gc_dims[0], gc_dims[1], 21, dropout=dropout)\n",
    "\t\tself.conv= StandConvolution(sc_dims, num_classes, dropout=dropout)\n",
    "\n",
    "\tdef forward(self, x):\n",
    "\t\t\n",
    "\t\tmulti_conv = self.gcl(self.adj, x) # 1,21,3\n",
    "\t\tlogit = self.conv(multi_conv)\n",
    "\t\treturn logit"
   ]
  },
  {
   "cell_type": "code",
   "execution_count": 6,
   "metadata": {},
   "outputs": [
    {
     "name": "stderr",
     "output_type": "stream",
     "text": [
      "INFO: Created TensorFlow Lite XNNPACK delegate for CPU.\n"
     ]
    }
   ],
   "source": [
    "handDetector = HandDetector()\n",
    "node = handDetector.findHands(\"./data/image/subsampleHAR/dislike/001c6f56-85cf-4e45-bfc1-1af53c0e501b.jpg\")\n"
   ]
  },
  {
   "cell_type": "code",
   "execution_count": 7,
   "metadata": {},
   "outputs": [],
   "source": [
    "class HandSignData(Dataset):\n",
    "    def __init__(self,img_dir,img_labels,transform = None):\n",
    "        self.img_dir = img_dir\n",
    "        self.img_labels = img_labels\n",
    "        self.transform = transform\n",
    "    def __len__(self):\n",
    "        return len(self.img_dir)\n",
    "    def __getitem__(self, idx):\n",
    "        node = handDetector.findHands(self.img_dir[idx])\n",
    "        cnt = 0\n",
    "        while node == None:\n",
    "            node = handDetector.findHands(self.img_dir[cnt])\n",
    "            cnt +=1\n",
    "        \n",
    "        node = torch.tensor(node)\n",
    "        # print(self.img_dir[idx])\n",
    "        return (node,self.img_labels[idx])\n",
    "    \n",
    "    \n",
    "def load_data(ROOT,train_size,valid_size,test_size,n = 5):\n",
    "    folder_name = os.listdir(ROOT)\n",
    "    labels = {}\n",
    "    X_train = []\n",
    "    X_val = []\n",
    "    X_test = []\n",
    "    y_train = []\n",
    "    y_val = []\n",
    "    y_test = []\n",
    "    # read and save to X,y\n",
    "    for i in range(len(folder_name)):\n",
    "        labels[folder_name[i]] = i\n",
    "        file_list = glob.glob(os.path.join(ROOT,folder_name[i])+\"/*\")\n",
    "        subset_len = len(file_list)//n\n",
    "        #shuffle\n",
    "        np.random.shuffle(file_list)\n",
    "        \n",
    "        X_train.extend(file_list[:subset_len*(n-2)])\n",
    "        X_val.extend(file_list[subset_len*(n-2):subset_len*(n-1)])\n",
    "        X_test.extend(file_list[subset_len*(n-1):])\n",
    "        \n",
    "        y_train.extend(np.full(len(file_list[:subset_len*(n-2)]),i))\n",
    "        y_val.extend(np.full(len(file_list[subset_len*(n-2):subset_len*(n-1)]),i))\n",
    "        y_test.extend(np.full(len(file_list[subset_len*(n-1):]),i))\n",
    "    \n",
    "   \n",
    "    train_loader = DataLoader(HandSignData(X_train,y_train),batch_size = train_size,drop_last = False)\n",
    "    valid_loader = DataLoader(HandSignData(X_val,y_val),batch_size = valid_size,drop_last = False)\n",
    "    test_loader = DataLoader(HandSignData(X_test,y_test),batch_size = test_size,drop_last = False)  \n",
    "   \n",
    "    return train_loader,valid_loader,test_loader"
   ]
  },
  {
   "cell_type": "code",
   "execution_count": 8,
   "metadata": {},
   "outputs": [],
   "source": [
    "train_loader,valid_loader,test_loader = load_data(\"./data/image/subsampleHAR\",128,64,64)\n",
    "model = GGCN(find_adjacency_matrix(),18,[3,9],[9, 16, 32, 64],0).to(device)\n"
   ]
  },
  {
   "cell_type": "code",
   "execution_count": 13,
   "metadata": {},
   "outputs": [],
   "source": [
    "def train(train_loader,model,criterion,optimizer,device):\n",
    "    running_loss = 0\n",
    "    model.train()\n",
    "   \n",
    "    for images,labels in tqdm(train_loader):\n",
    "        \n",
    "        images = images.to(device)\n",
    "        labels = labels.to(device)\n",
    "        \n",
    "        # forward\n",
    "        outputs = model(images)\n",
    "        loss = criterion(outputs,labels)\n",
    "        running_loss += loss.item()\n",
    "        \n",
    "        #backward\n",
    "        optimizer.zero_grad()\n",
    "        loss.backward()\n",
    "        optimizer.step()\n",
    "        \n",
    "        \n",
    "    \n",
    "    epoch_loss = running_loss / (len(train_loader))\n",
    "    return model,epoch_loss,optimizer\n",
    "\n",
    "def validate(valid_loader,model,criterion,device):\n",
    "    model.eval()\n",
    "    running_loss = 0\n",
    "   \n",
    "    \n",
    "    for images,labels in tqdm(valid_loader):\n",
    "       \n",
    "        images = images.to(device)\n",
    "        labels = labels.to(device)\n",
    "        \n",
    "        # forward\n",
    "        outputs = model(images)\n",
    "        loss = criterion(outputs,labels)\n",
    "        running_loss += loss.item()\n",
    "\n",
    "    epoch_loss = running_loss / (len(valid_loader))\n",
    "    return model,epoch_loss\n",
    "\n",
    "def get_accuracy(model,data_loader,device):\n",
    "    correct = 0\n",
    "    total = 0\n",
    "    \n",
    "    with torch.no_grad():\n",
    "        model.eval()\n",
    "        for images, labels in data_loader:\n",
    "            images = images.to(device)\n",
    "            labels = labels.to(device)\n",
    "            \n",
    "            outputs = model(images)\n",
    "            predicted = torch.argmax(outputs,1)\n",
    "            total += labels.shape[0]\n",
    "            correct += (predicted == labels).sum().item()\n",
    "    return correct*100/total\n",
    "\n",
    "def plot_losses(train_losses,valid_losses):\n",
    "    train_losses = np.array(train_losses)\n",
    "    valid_losses = np.array(valid_losses)\n",
    "    \n",
    "    fig, ax1 = plt.subplots(1, 1)\n",
    "    ax1.plot(train_losses, color=\"blue\", label=\"train_loss\")\n",
    "    ax1.plot(valid_losses, color=\"red\", label=\"valid_loss\")\n",
    "    ax1.set(title=\"Loss over epochs\",\n",
    "            xlabel=\"Epoch\",\n",
    "            ylabel=\"Loss\")\n",
    "    ax1.legend()\n",
    "    \n",
    "def plot_accuracy(train_acc,valid_acc):\n",
    "    train_acc = np.array(train_acc)\n",
    "    valid_acc = np.array(valid_acc)\n",
    "    \n",
    "    fig, ax1 = plt.subplots(1, 1)\n",
    "    ax1.plot(train_acc, color=\"blue\", label=\"train_acc\")\n",
    "    ax1.plot(valid_acc, color=\"red\", label=\"loss_acc\")\n",
    "    ax1.set(title=\"Accuracy over epochs\",\n",
    "            xlabel=\"Epoch\",\n",
    "            ylabel=\"Accuracy\")\n",
    "    ax1.legend()\n",
    "    "
   ]
  },
  {
   "cell_type": "code",
   "execution_count": 20,
   "metadata": {},
   "outputs": [
    {
     "name": "stderr",
     "output_type": "stream",
     "text": [
      "  0%|          | 0/17 [00:00<?, ?it/s]"
     ]
    },
    {
     "name": "stderr",
     "output_type": "stream",
     "text": [
      "/tmp/ipykernel_2358984/3279650794.py:15: UserWarning: To copy construct from a tensor, it is recommended to use sourceTensor.clone().detach() or sourceTensor.clone().detach().requires_grad_(True), rather than torch.tensor(sourceTensor).\n",
      "  node = torch.tensor(node)\n",
      "100%|██████████| 17/17 [01:45<00:00,  6.20s/it]\n",
      "100%|██████████| 6/6 [00:38<00:00,  6.43s/it]\n"
     ]
    },
    {
     "name": "stdout",
     "output_type": "stream",
     "text": [
      "Epoch 1 --- Train loss = 4.915017857271082 --- Valid loss = 3.380215565363566 -- Train set accuracy = 16.71309192200557 % Valid set Accuracy = 15.32033426183844 %\n"
     ]
    },
    {
     "name": "stderr",
     "output_type": "stream",
     "text": [
      "100%|██████████| 17/17 [01:45<00:00,  6.18s/it]\n",
      "100%|██████████| 6/6 [00:38<00:00,  6.41s/it]\n"
     ]
    },
    {
     "name": "stdout",
     "output_type": "stream",
     "text": [
      "Epoch 2 --- Train loss = 2.77279928151299 --- Valid loss = 2.6003263791402182 -- Train set accuracy = 24.048282265552462 % Valid set Accuracy = 20.61281337047354 %\n"
     ]
    },
    {
     "name": "stderr",
     "output_type": "stream",
     "text": [
      "100%|██████████| 17/17 [01:45<00:00,  6.19s/it]\n",
      "100%|██████████| 6/6 [00:38<00:00,  6.38s/it]\n"
     ]
    },
    {
     "name": "stdout",
     "output_type": "stream",
     "text": [
      "Epoch 3 --- Train loss = 2.74358289382037 --- Valid loss = 2.25987708568573 -- Train set accuracy = 45.682451253481894 % Valid set Accuracy = 39.27576601671309 %\n"
     ]
    },
    {
     "name": "stderr",
     "output_type": "stream",
     "text": [
      "100%|██████████| 17/17 [01:45<00:00,  6.21s/it]\n",
      "100%|██████████| 6/6 [00:38<00:00,  6.49s/it]\n"
     ]
    },
    {
     "name": "stdout",
     "output_type": "stream",
     "text": [
      "Epoch 4 --- Train loss = 2.356709255891688 --- Valid loss = 2.029486656188965 -- Train set accuracy = 49.30362116991643 % Valid set Accuracy = 43.17548746518106 %\n"
     ]
    },
    {
     "name": "stderr",
     "output_type": "stream",
     "text": [
      "100%|██████████| 17/17 [01:45<00:00,  6.21s/it]\n",
      "100%|██████████| 6/6 [00:38<00:00,  6.36s/it]\n"
     ]
    },
    {
     "name": "stdout",
     "output_type": "stream",
     "text": [
      "Epoch 5 --- Train loss = 2.0273171873653637 --- Valid loss = 1.8339449961980183 -- Train set accuracy = 54.317548746518106 % Valid set Accuracy = 50.69637883008357 %\n"
     ]
    },
    {
     "name": "stderr",
     "output_type": "stream",
     "text": [
      "100%|██████████| 17/17 [01:45<00:00,  6.21s/it]\n",
      "100%|██████████| 6/6 [00:38<00:00,  6.38s/it]\n"
     ]
    },
    {
     "name": "stdout",
     "output_type": "stream",
     "text": [
      "Epoch 6 --- Train loss = 1.8132723008885103 --- Valid loss = 1.717790424823761 -- Train set accuracy = 59.33147632311978 % Valid set Accuracy = 54.03899721448468 %\n"
     ]
    },
    {
     "name": "stderr",
     "output_type": "stream",
     "text": [
      "100%|██████████| 17/17 [01:45<00:00,  6.20s/it]\n",
      "100%|██████████| 6/6 [00:38<00:00,  6.36s/it]\n"
     ]
    },
    {
     "name": "stdout",
     "output_type": "stream",
     "text": [
      "Epoch 7 --- Train loss = 1.6351461200153126 --- Valid loss = 1.6560647090276082 -- Train set accuracy = 62.859795728876506 % Valid set Accuracy = 56.54596100278552 %\n"
     ]
    },
    {
     "name": "stderr",
     "output_type": "stream",
     "text": [
      "100%|██████████| 17/17 [01:45<00:00,  6.20s/it]\n",
      "100%|██████████| 6/6 [00:38<00:00,  6.40s/it]\n"
     ]
    },
    {
     "name": "stdout",
     "output_type": "stream",
     "text": [
      "Epoch 8 --- Train loss = 1.5071794075124405 --- Valid loss = 1.6249880989392598 -- Train set accuracy = 65.36675951717734 % Valid set Accuracy = 59.05292479108635 %\n"
     ]
    },
    {
     "name": "stderr",
     "output_type": "stream",
     "text": [
      "100%|██████████| 17/17 [01:45<00:00,  6.19s/it]\n",
      "100%|██████████| 6/6 [00:38<00:00,  6.39s/it]\n"
     ]
    },
    {
     "name": "stdout",
     "output_type": "stream",
     "text": [
      "Epoch 9 --- Train loss = 1.4113272077897017 --- Valid loss = 1.6061641573905945 -- Train set accuracy = 67.59517177344475 % Valid set Accuracy = 61.28133704735376 %\n"
     ]
    },
    {
     "name": "stderr",
     "output_type": "stream",
     "text": [
      "100%|██████████| 17/17 [01:45<00:00,  6.20s/it]\n",
      "100%|██████████| 6/6 [00:38<00:00,  6.40s/it]\n"
     ]
    },
    {
     "name": "stdout",
     "output_type": "stream",
     "text": [
      "Epoch 10 --- Train loss = 1.3371079038171207 --- Valid loss = 1.6008256673812866 -- Train set accuracy = 69.35933147632312 % Valid set Accuracy = 62.116991643454035 %\n"
     ]
    },
    {
     "name": "stderr",
     "output_type": "stream",
     "text": [
      "100%|██████████| 17/17 [01:45<00:00,  6.20s/it]\n",
      "100%|██████████| 6/6 [00:38<00:00,  6.41s/it]\n"
     ]
    },
    {
     "name": "stdout",
     "output_type": "stream",
     "text": [
      "Epoch 11 --- Train loss = 1.2704062672222363 --- Valid loss = 1.5954113006591797 -- Train set accuracy = 69.82358402971217 % Valid set Accuracy = 64.06685236768803 %\n"
     ]
    },
    {
     "name": "stderr",
     "output_type": "stream",
     "text": [
      "100%|██████████| 17/17 [01:45<00:00,  6.19s/it]\n",
      "100%|██████████| 6/6 [00:38<00:00,  6.35s/it]\n"
     ]
    },
    {
     "name": "stdout",
     "output_type": "stream",
     "text": [
      "Epoch 12 --- Train loss = 1.2232170069918913 --- Valid loss = 1.6036472916603088 -- Train set accuracy = 70.65923862581243 % Valid set Accuracy = 65.45961002785515 %\n"
     ]
    },
    {
     "name": "stderr",
     "output_type": "stream",
     "text": [
      "100%|██████████| 17/17 [01:45<00:00,  6.19s/it]\n",
      "100%|██████████| 6/6 [00:38<00:00,  6.43s/it]\n"
     ]
    },
    {
     "name": "stdout",
     "output_type": "stream",
     "text": [
      "Epoch 13 --- Train loss = 1.1738286544294918 --- Valid loss = 1.6055636803309123 -- Train set accuracy = 71.49489322191272 % Valid set Accuracy = 65.18105849582173 %\n"
     ]
    },
    {
     "name": "stderr",
     "output_type": "stream",
     "text": [
      "100%|██████████| 17/17 [01:45<00:00,  6.19s/it]\n",
      "100%|██████████| 6/6 [00:38<00:00,  6.39s/it]\n"
     ]
    },
    {
     "name": "stdout",
     "output_type": "stream",
     "text": [
      "Epoch 14 --- Train loss = 1.141448157675126 --- Valid loss = 1.6121184825897217 -- Train set accuracy = 72.2376973073352 % Valid set Accuracy = 66.29526462395543 %\n"
     ]
    },
    {
     "name": "stderr",
     "output_type": "stream",
     "text": [
      "100%|██████████| 17/17 [01:45<00:00,  6.21s/it]\n",
      "100%|██████████| 6/6 [00:38<00:00,  6.37s/it]\n"
     ]
    },
    {
     "name": "stdout",
     "output_type": "stream",
     "text": [
      "Epoch 15 --- Train loss = 1.1037202021654915 --- Valid loss = 1.6183745463689168 -- Train set accuracy = 72.51624883936861 % Valid set Accuracy = 66.85236768802228 %\n"
     ]
    },
    {
     "name": "stderr",
     "output_type": "stream",
     "text": [
      "100%|██████████| 17/17 [01:45<00:00,  6.19s/it]\n",
      "100%|██████████| 6/6 [00:38<00:00,  6.40s/it]\n"
     ]
    },
    {
     "name": "stdout",
     "output_type": "stream",
     "text": [
      "Epoch 16 --- Train loss = 1.077984308495241 --- Valid loss = 1.6272729237874348 -- Train set accuracy = 73.4447539461467 % Valid set Accuracy = 67.13091922005572 %\n"
     ]
    },
    {
     "name": "stderr",
     "output_type": "stream",
     "text": [
      "100%|██████████| 17/17 [01:46<00:00,  6.26s/it]\n",
      "100%|██████████| 6/6 [00:38<00:00,  6.44s/it]\n"
     ]
    },
    {
     "name": "stdout",
     "output_type": "stream",
     "text": [
      "Epoch 17 --- Train loss = 1.0495525633587557 --- Valid loss = 1.6411737203598022 -- Train set accuracy = 73.72330547818012 % Valid set Accuracy = 66.85236768802228 %\n"
     ]
    },
    {
     "name": "stderr",
     "output_type": "stream",
     "text": [
      "100%|██████████| 17/17 [01:46<00:00,  6.28s/it]\n",
      "100%|██████████| 6/6 [00:39<00:00,  6.51s/it]\n"
     ]
    },
    {
     "name": "stdout",
     "output_type": "stream",
     "text": [
      "Epoch 18 --- Train loss = 1.0269311911919539 --- Valid loss = 1.6453794240951538 -- Train set accuracy = 74.65181058495821 % Valid set Accuracy = 66.85236768802228 %\n"
     ]
    },
    {
     "name": "stderr",
     "output_type": "stream",
     "text": [
      "100%|██████████| 17/17 [01:45<00:00,  6.19s/it]\n",
      "100%|██████████| 6/6 [00:38<00:00,  6.42s/it]\n"
     ]
    },
    {
     "name": "stdout",
     "output_type": "stream",
     "text": [
      "Epoch 19 --- Train loss = 0.9988832053016213 --- Valid loss = 1.6557385325431824 -- Train set accuracy = 74.93036211699165 % Valid set Accuracy = 67.68802228412257 %\n"
     ]
    },
    {
     "name": "stderr",
     "output_type": "stream",
     "text": [
      "100%|██████████| 17/17 [01:45<00:00,  6.19s/it]\n",
      "100%|██████████| 6/6 [00:38<00:00,  6.40s/it]\n"
     ]
    },
    {
     "name": "stdout",
     "output_type": "stream",
     "text": [
      "Epoch 20 --- Train loss = 0.9828448961762821 --- Valid loss = 1.6684913833936055 -- Train set accuracy = 75.20891364902506 % Valid set Accuracy = 67.40947075208913 %\n"
     ]
    },
    {
     "name": "stderr",
     "output_type": "stream",
     "text": [
      "100%|██████████| 17/17 [01:45<00:00,  6.21s/it]\n",
      "100%|██████████| 6/6 [00:38<00:00,  6.44s/it]\n"
     ]
    },
    {
     "name": "stdout",
     "output_type": "stream",
     "text": [
      "Epoch 21 --- Train loss = 0.9623377323150635 --- Valid loss = 1.6804890433947246 -- Train set accuracy = 75.76601671309193 % Valid set Accuracy = 67.68802228412257 %\n"
     ]
    },
    {
     "name": "stderr",
     "output_type": "stream",
     "text": [
      "100%|██████████| 17/17 [01:45<00:00,  6.19s/it]\n",
      "100%|██████████| 6/6 [00:38<00:00,  6.42s/it]\n"
     ]
    },
    {
     "name": "stdout",
     "output_type": "stream",
     "text": [
      "Epoch 22 --- Train loss = 0.9456640867625966 --- Valid loss = 1.6797518531481426 -- Train set accuracy = 76.13741875580315 % Valid set Accuracy = 68.24512534818942 %\n"
     ]
    },
    {
     "name": "stderr",
     "output_type": "stream",
     "text": [
      "100%|██████████| 17/17 [01:45<00:00,  6.19s/it]\n",
      "100%|██████████| 6/6 [00:38<00:00,  6.37s/it]\n"
     ]
    }
   ],
   "source": [
    "\n",
    "device = 'cuda:0'\n",
    "train_loader,valid_loader,test_loader = load_data(\"./data/image/subsampleHAR\",64,64,64)\n",
    "model = GGCN(find_adjacency_matrix(),18,[3,9],[9, 16, 32, 64],0).to(device)\n",
    "criterion = nn.CrossEntropyLoss()\n",
    "optimizer = torch.optim.Adam(model.parameters())\n",
    "epochs = 30\n",
    "train_losses = []\n",
    "valid_losses = []\n",
    "train_accuracy = []\n",
    "val_accuracy = []\n",
    "for epoch in range(epochs):\n",
    "    # training\n",
    "    model,train_loss,optimizer = train(train_loader,model,criterion,optimizer,device)\n",
    "    \n",
    "    # validation\n",
    "    with torch.no_grad():\n",
    "        model, valid_loss = validate(valid_loader, model, criterion, device)\n",
    "    train_acc = get_accuracy(model,train_loader,device)\n",
    "    val_acc = get_accuracy(model,valid_loader,device)\n",
    "    print(\"Epoch {} --- Train loss = {} --- Valid loss = {} -- Train set accuracy = {} % Valid set Accuracy = {} %\".format\n",
    "          (epoch+1,train_loss,valid_loss,train_acc,val_acc))\n",
    "    # save loss value\n",
    "    train_losses.append(train_loss)\n",
    "    valid_losses.append(valid_loss)\n",
    "    \n",
    "    #save accuracy\n",
    "    train_accuracy.append(train_acc)\n",
    "    val_accuracy.append(val_acc)"
   ]
  },
  {
   "cell_type": "code",
   "execution_count": null,
   "metadata": {},
   "outputs": [
    {
     "data": {
      "image/png": "[encoded data removed]",
      "text/plain": [
       "<Figure size 640x480 with 1 Axes>"
      ]
     },
     "metadata": {},
     "output_type": "display_data"
    }
   ],
   "source": [
    "plot_losses(train_losses,valid_losses)"
   ]
  },
  {
   "cell_type": "code",
   "execution_count": null,
   "metadata": {},
   "outputs": [
    {
     "data": {
      "image/png": "[encoded data removed]",
      "text/plain": [
       "<Figure size 640x480 with 1 Axes>"
      ]
     },
     "metadata": {},
     "output_type": "display_data"
    }
   ],
   "source": [
    "plot_accuracy(train_accuracy,val_accuracy)"
   ]
  },
  {
   "cell_type": "code",
   "execution_count": null,
   "metadata": {},
   "outputs": [],
   "source": []
  },
  {
   "cell_type": "code",
   "execution_count": null,
   "metadata": {},
   "outputs": [],
   "source": []
  }
 ],
 "metadata": {
  "kernelspec": {
   "display_name": "hungvv",
   "language": "python",
   "name": "python3"
  },
  "language_info": {
   "codemirror_mode": {
    "name": "ipython",
    "version": 3
   },
   "file_extension": ".py",
   "mimetype": "text/x-python",
   "name": "python",
   "nbconvert_exporter": "python",
   "pygments_lexer": "ipython3",
   "version": "3.10.12"
  },
  "orig_nbformat": 4
 },
 "nbformat": 4,
 "nbformat_minor": 2
}
