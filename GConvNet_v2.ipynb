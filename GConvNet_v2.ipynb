{
 "cells": [
  {
   "cell_type": "code",
   "execution_count": 3,
   "metadata": {},
   "outputs": [
    {
     "name": "stderr",
     "output_type": "stream",
     "text": [
      "/home/aiotlab3/anaconda3/envs/hungvv/lib/python3.10/site-packages/tqdm/auto.py:21: TqdmWarning: IProgress not found. Please update jupyter and ipywidgets. See https://ipywidgets.readthedocs.io/en/stable/user_install.html\n",
      "  from .autonotebook import tqdm as notebook_tqdm\n"
     ]
    }
   ],
   "source": [
    "import os\n",
    "import cv2\n",
    "import numpy as np\n",
    "import math\n",
    "import mediapipe as mp\n",
    "from matplotlib import pyplot as plt\n",
    "import torch\n",
    "import torch.nn as nn\n",
    "import torch.nn.functional as F\n",
    "from torchvision import transforms\n",
    "from torch.utils.data import Dataset,DataLoader\n",
    "from PIL import Image\n",
    "import os\n",
    "import glob\n",
    "import numpy as np\n",
    "from tqdm.auto import tqdm\n",
    "\n",
    "\n",
    "BaseOptions = mp.tasks.BaseOptions\n",
    "HandLandmarker = mp.tasks.vision.HandLandmarker\n",
    "HandLandmarkerOptions = mp.tasks.vision.HandLandmarkerOptions\n",
    "VisionRunningMode = mp.tasks.vision.RunningMode\n",
    "\n",
    "class HandDetector:\n",
    "    def __init__(self, mode=VisionRunningMode.IMAGE, maxHands=1, detectionCon=0.5, minTrackCon=0.5):\n",
    "        self.mode = mode\n",
    "        self.maxHands = maxHands\n",
    "        self.detectionCon = detectionCon\n",
    "        self.minTrackCon = minTrackCon\n",
    "        self.mpHands = mp.solutions.hands\n",
    "        self.hands = self.mpHands.Hands(static_image_mode=self.mode, max_num_hands=self.maxHands,\n",
    "                                        min_detection_confidence=self.detectionCon,\n",
    "                                        min_tracking_confidence=self.minTrackCon)\n",
    "        self.mpDraw = mp.solutions.drawing_utils\n",
    "        self.tipIds = [4, 8, 12, 16, 20]\n",
    "        self.fingers = []\n",
    "        self.lmList = []\n",
    "        \n",
    "    def findHands(self, img_url, draw = True):\n",
    "        img = cv2.imread(img_url)\n",
    "        img_bone = np.ones((img.shape[0], img.shape[1], 3)) * 255\n",
    "        \n",
    "        img_RGB = cv2.cvtColor(img, cv2.COLOR_BGR2RGB)\n",
    "        self.results = self.hands.process(img_RGB)\n",
    "        all_hands = []\n",
    "        h, w, c = img.shape\n",
    "        if self.results.multi_hand_landmarks:\n",
    "            mylmList = []\n",
    "            for handType, handLms in zip(self.results.multi_handedness, self.results.multi_hand_landmarks):\n",
    "                myHand = {}\n",
    "                ## lmList\n",
    "              \n",
    "                xList = []\n",
    "                yList = []\n",
    "                zList = []\n",
    "                for id, lm in enumerate(handLms.landmark):\n",
    "                    px, py, pz = int(lm.x * w), int(lm.y * h), int(lm.z * w)\n",
    "                    mylmList.append([lm.x, lm.y, lm.z])\n",
    "                    xList.append(px)\n",
    "                    yList.append(py)\n",
    "                    zList.append(pz)\n",
    "                ## bbox\n",
    "                x_min, x_max = min(xList), max(xList)\n",
    "                y_min, y_max = min(yList), max(yList)\n",
    "                boxW, boxH = x_max - x_min, y_max - y_min\n",
    "                bbox = x_min, y_min, boxW, boxH\n",
    "\n",
    "                myHand[\"lmList\"] = mylmList\n",
    "                myHand[\"bbox\"] = bbox\n",
    "                myHand[\"xList\"] = xList\n",
    "                myHand[\"yList\"] = yList\n",
    "                myHand[\"zList\"] = zList\n",
    "                all_hands.append(myHand)\n",
    "                # draw\n",
    "                if draw:\n",
    "                    self.mpDraw.draw_landmarks(img_bone, handLms,\n",
    "                                               self.mpHands.HAND_CONNECTIONS)\n",
    "            return torch.tensor(mylmList)\n",
    "        return None\n",
    "        \n",
    "  "
   ]
  },
  {
   "cell_type": "markdown",
   "metadata": {},
   "source": [
    "# I use self attention in this version"
   ]
  },
  {
   "cell_type": "code",
   "execution_count": 4,
   "metadata": {},
   "outputs": [],
   "source": [
    "def find_adjacency_matrix():\n",
    "    mp_hands = mp.solutions.hands\n",
    "    hands = mp_hands.Hands()\n",
    "    adj = torch.zeros((21,21))\n",
    "    for connection in mp_hands.HAND_CONNECTIONS:\n",
    "        adj[connection[0],connection[1]] = 1\n",
    "        adj[connection[1],connection[0]] = 1\n",
    "    return adj "
   ]
  },
  {
   "cell_type": "code",
   "execution_count": 5,
   "metadata": {},
   "outputs": [],
   "source": [
    "device = torch.device('cuda:0' if torch.cuda.is_available() else 'cpu')\n",
    "\n",
    "class GraphConvolution(nn.Module):\n",
    "\tdef __init__(self, input_dim, output_dim, num_vetex, act=F.relu, dropout=0.5, bias=True):\n",
    "\t\tsuper(GraphConvolution, self).__init__()\n",
    "\n",
    "\t\tself.alpha = 1.\n",
    "\n",
    "\t\tself.act = act\n",
    "\t\tself.dropout = nn.Dropout(dropout)\n",
    "\t\tself.weight = nn.Parameter(torch.randn(input_dim, output_dim)).to(device)\n",
    "\t\tself.weight1 = nn.Parameter(torch.randn(input_dim, input_dim)).to(device)\n",
    "\t\tif bias:\n",
    "\t\t\tself.bias = nn.Parameter(torch.randn(output_dim)).to(device)\n",
    "\t\telse:\n",
    "\t\t\tself.bias = None\n",
    "\n",
    "\t\tfor w in [self.weight]:\n",
    "\t\t\tnn.init.xavier_normal_(w)\n",
    "\n",
    "\tdef normalize(self, m):\n",
    "\t\trowsum = torch.sum(m, 0)\n",
    "\t\tr_inv = torch.pow(rowsum, -0.5)\n",
    "\t\tr_mat_inv = torch.diag(r_inv).float()\n",
    "\n",
    "\t\tm_norm = torch.mm(r_mat_inv, m)\n",
    "\t\tm_norm = torch.mm(m_norm, r_mat_inv)\n",
    "\n",
    "\t\treturn m_norm\n",
    "\n",
    "\tdef caculate_attention_matrix(self,x,adj):\n",
    "\t\tscore = torch.einsum(\"abd,dk->abk\",x,self.weight1).to(device)\n",
    "\t\tscore = torch.einsum(\"abd,acd->abc\",score,x).to(device)\n",
    "\t\tscore = score*( (torch.ones(adj.shape) - adj).to(device) )\n",
    "\t\treturn torch.softmax(score,dim=1).to(device)\n",
    "\t\t\n",
    "\n",
    "\tdef forward(self, adj, x):\n",
    "\n",
    "\t\tx = self.dropout(x)\n",
    "\t\tscore = self.caculate_attention_matrix(x,adj)\n",
    "\t\t# K-ordered Chebyshev polynomial\n",
    "\t\tadj_norm = self.normalize(adj)\n",
    "\t\tsqr_norm = self.normalize(torch.mm(adj,adj))\n",
    "\t\tm_norm = (self.alpha*adj_norm + (1.-self.alpha)*sqr_norm).to(device)\n",
    "\n",
    "\t\tscore = m_norm + score*0.5\n",
    "\t\tx_tmp = torch.einsum('abd,de->abe', x, self.weight)\n",
    "\t\t\n",
    "\t\tx_out = torch.einsum('aij,aid->ajd', score, x_tmp)\n",
    "\t\tif self.bias is not None:\n",
    "\t\t\tx_out += self.bias\n",
    "\n",
    "\t\tx_out = self.act(x_out)\n",
    "\t\t\n",
    "\t\treturn x_out\n",
    "\t\t\n",
    "\t\t\n",
    "\n",
    "class StandConvolution(nn.Module):\n",
    "\tdef __init__(self, dims, num_classes, dropout):\n",
    "\t\tsuper(StandConvolution, self).__init__()\n",
    "\n",
    "\t\tself.dropout = nn.Dropout(dropout)\n",
    "\t\tself.conv = nn.Sequential(\n",
    "                        nn.Conv1d(dims[0], dims[1], kernel_size=3, stride=1,padding = 1),\n",
    "                        nn.InstanceNorm1d(dims[1]),\n",
    "                        nn.ReLU(inplace=True),\n",
    "                        \n",
    "                        #nn.AvgPool2d(3, stride=2),\n",
    "                        nn.Conv1d(dims[1], dims[2], kernel_size=3, stride=1,padding = 1),\n",
    "                        nn.InstanceNorm1d(dims[2]),\n",
    "                        nn.ReLU(inplace=True),\n",
    "                        \n",
    "                        #nn.AvgPool2d(3, stride=2),\n",
    "                        nn.Conv1d(dims[2], dims[3], kernel_size=3, stride=1,padding = 1),\n",
    "                        nn.InstanceNorm1d(dims[3]),\n",
    "                        nn.ReLU(inplace=True),\n",
    "                        \n",
    "                        #nn.AvgPool2d(3, stride=2)\n",
    "                        ).to(device)\n",
    "\t\tself.fc = nn.Linear(64*21, num_classes).to(device)\n",
    "\n",
    "\tdef forward(self, x):\n",
    "\t\t\n",
    "\t\tx = self.dropout(x.permute(0,2,1))\n",
    "\t\tx_tmp = self.conv(x)\n",
    "\t\tx_out = self.fc(x_tmp.view(x.size(0), -1))\n",
    "\n",
    "\t\treturn x_out\n"
   ]
  },
  {
   "cell_type": "code",
   "execution_count": 6,
   "metadata": {},
   "outputs": [],
   "source": [
    "class GGCN(nn.Module):\n",
    "\tdef __init__(self, adj, num_classes, gc_dims, sc_dims, dropout=0.5):\n",
    "\t\tsuper(GGCN, self).__init__()\n",
    "\n",
    "\t\tterminal_cnt = 5\n",
    "\t\tactor_cnt = 1\n",
    "\t\tself.adj = adj + torch.eye(adj.size(0)).to(adj).detach()\n",
    "\t\n",
    "\t\tself.gcl = GraphConvolution(gc_dims[0], gc_dims[1], 21, dropout=dropout)\n",
    "\t\tself.conv= StandConvolution(sc_dims, num_classes, dropout=dropout)\n",
    "\n",
    "\tdef forward(self, x):\n",
    "\t\t\n",
    "\t\tmulti_conv = self.gcl(self.adj, x) # 1,21,3\n",
    "\t\tlogit = self.conv(multi_conv)\n",
    "\t\treturn logit"
   ]
  },
  {
   "cell_type": "code",
   "execution_count": 7,
   "metadata": {},
   "outputs": [
    {
     "name": "stderr",
     "output_type": "stream",
     "text": [
      "INFO: Created TensorFlow Lite XNNPACK delegate for CPU.\n"
     ]
    }
   ],
   "source": [
    "handDetector = HandDetector()\n",
    "node = handDetector.findHands(\"./data/image/subsampleHAR/dislike/001c6f56-85cf-4e45-bfc1-1af53c0e501b.jpg\")\n"
   ]
  },
  {
   "cell_type": "code",
   "execution_count": 8,
   "metadata": {},
   "outputs": [],
   "source": [
    "class HandSignData(Dataset):\n",
    "    def __init__(self,img_dir,img_labels,transform = None):\n",
    "        self.img_dir = img_dir\n",
    "        self.img_labels = img_labels\n",
    "        self.transform = transform\n",
    "    def __len__(self):\n",
    "        return len(self.img_dir)\n",
    "    def __getitem__(self, idx):\n",
    "        node = handDetector.findHands(self.img_dir[idx])\n",
    "        cnt = 0\n",
    "        while node == None:\n",
    "            node = handDetector.findHands(self.img_dir[cnt])\n",
    "            cnt +=1\n",
    "        \n",
    "        node = torch.tensor(node)\n",
    "        # print(self.img_dir[idx])\n",
    "        return (node,self.img_labels[idx])\n",
    "    \n",
    "    \n",
    "def load_data(ROOT,train_size,valid_size,test_size,n = 5):\n",
    "    folder_name = os.listdir(ROOT)\n",
    "    labels = {}\n",
    "    X_train = []\n",
    "    X_val = []\n",
    "    X_test = []\n",
    "    y_train = []\n",
    "    y_val = []\n",
    "    y_test = []\n",
    "    # read and save to X,y\n",
    "    for i in range(len(folder_name)):\n",
    "        labels[folder_name[i]] = i\n",
    "        file_list = glob.glob(os.path.join(ROOT,folder_name[i])+\"/*\")\n",
    "        subset_len = len(file_list)//n\n",
    "        #shuffle\n",
    "        np.random.shuffle(file_list)\n",
    "        \n",
    "        X_train.extend(file_list[:subset_len*(n-2)])\n",
    "        X_val.extend(file_list[subset_len*(n-2):subset_len*(n-1)])\n",
    "        X_test.extend(file_list[subset_len*(n-1):])\n",
    "        \n",
    "        y_train.extend(np.full(len(file_list[:subset_len*(n-2)]),i))\n",
    "        y_val.extend(np.full(len(file_list[subset_len*(n-2):subset_len*(n-1)]),i))\n",
    "        y_test.extend(np.full(len(file_list[subset_len*(n-1):]),i))\n",
    "    \n",
    "   \n",
    "    train_loader = DataLoader(HandSignData(X_train,y_train),batch_size = train_size,drop_last = False)\n",
    "    valid_loader = DataLoader(HandSignData(X_val,y_val),batch_size = valid_size,drop_last = False)\n",
    "    test_loader = DataLoader(HandSignData(X_test,y_test),batch_size = test_size,drop_last = False)  \n",
    "   \n",
    "    return train_loader,valid_loader,test_loader"
   ]
  },
  {
   "cell_type": "code",
   "execution_count": 9,
   "metadata": {},
   "outputs": [],
   "source": [
    "train_loader,valid_loader,test_loader = load_data(\"./data/image/subsampleHAR\",128,64,64)\n",
    "model = GGCN(find_adjacency_matrix(),18,[3,9],[9, 16, 32, 64],0).to(device)\n"
   ]
  },
  {
   "cell_type": "code",
   "execution_count": 12,
   "metadata": {},
   "outputs": [],
   "source": [
    "def train(train_loader,model,criterion,optimizer,device):\n",
    "    running_loss = 0\n",
    "    model.train()\n",
    "   \n",
    "    for images,labels in tqdm(train_loader):\n",
    "        \n",
    "        images = images.to(device)\n",
    "        labels = labels.to(device)\n",
    "        \n",
    "        # forward\n",
    "        outputs = model(images)\n",
    "        loss = criterion(outputs,labels)\n",
    "        running_loss += loss.item()\n",
    "        \n",
    "        #backward\n",
    "        optimizer.zero_grad()\n",
    "        loss.backward()\n",
    "        optimizer.step()\n",
    "        \n",
    "        \n",
    "    \n",
    "    epoch_loss = running_loss / (len(train_loader))\n",
    "    return model,epoch_loss,optimizer\n",
    "\n",
    "def validate(valid_loader,model,criterion,device):\n",
    "    model.eval()\n",
    "    running_loss = 0\n",
    "   \n",
    "    \n",
    "    for images,labels in tqdm(valid_loader):\n",
    "       \n",
    "        images = images.to(device)\n",
    "        labels = labels.to(device)\n",
    "        \n",
    "        # forward\n",
    "        outputs = model(images)\n",
    "        loss = criterion(outputs,labels)\n",
    "        running_loss += loss.item()\n",
    "\n",
    "    epoch_loss = running_loss / (len(valid_loader))\n",
    "    return model,epoch_loss\n",
    "\n",
    "def get_accuracy(model,data_loader,device):\n",
    "    correct = 0\n",
    "    total = 0\n",
    "    \n",
    "    with torch.no_grad():\n",
    "        model.eval()\n",
    "        for images, labels in data_loader:\n",
    "            images = images.to(device)\n",
    "            labels = labels.to(device)\n",
    "            \n",
    "            outputs = model(images)\n",
    "            predicted = torch.argmax(outputs,1)\n",
    "            total += labels.shape[0]\n",
    "            correct += (predicted == labels).sum().item()\n",
    "    return correct*100/total\n",
    "\n",
    "def plot_losses(train_losses,valid_losses):\n",
    "    train_losses = np.array(train_losses)\n",
    "    valid_losses = np.array(valid_losses)\n",
    "    \n",
    "    fig, ax1 = plt.subplots(1, 1)\n",
    "    ax1.plot(train_losses, color=\"blue\", label=\"train_loss\")\n",
    "    ax1.plot(valid_losses, color=\"red\", label=\"valid_loss\")\n",
    "    ax1.set(title=\"Loss over epochs\",\n",
    "            xlabel=\"Epoch\",\n",
    "            ylabel=\"Loss\")\n",
    "    ax1.legend()\n",
    "    \n",
    "def plot_accuracy(train_acc,valid_acc):\n",
    "    train_acc = np.array(train_acc)\n",
    "    valid_acc = np.array(valid_acc)\n",
    "    \n",
    "    fig, ax1 = plt.subplots(1, 1)\n",
    "    ax1.plot(train_acc, color=\"blue\", label=\"train_acc\")\n",
    "    ax1.plot(valid_acc, color=\"red\", label=\"loss_acc\")\n",
    "    ax1.set(title=\"Accuracy over epochs\",\n",
    "            xlabel=\"Epoch\",\n",
    "            ylabel=\"Accuracy\")\n",
    "    ax1.legend()\n",
    "    "
   ]
  },
  {
   "cell_type": "code",
   "execution_count": 14,
   "metadata": {},
   "outputs": [
    {
     "name": "stderr",
     "output_type": "stream",
     "text": [
      "  0%|          | 0/9 [00:00<?, ?it/s]"
     ]
    },
    {
     "name": "stderr",
     "output_type": "stream",
     "text": [
      "/tmp/ipykernel_144295/3279650794.py:15: UserWarning: To copy construct from a tensor, it is recommended to use sourceTensor.clone().detach() or sourceTensor.clone().detach().requires_grad_(True), rather than torch.tensor(sourceTensor).\n",
      "  node = torch.tensor(node)\n",
      "100%|██████████| 9/9 [01:47<00:00, 11.98s/it]\n",
      "100%|██████████| 3/3 [00:35<00:00, 11.81s/it]\n"
     ]
    },
    {
     "name": "stdout",
     "output_type": "stream",
     "text": [
      "Epoch 1 --- Train loss = 4.190168513192071 --- Valid loss = 3.201916217803955 -- Train set accuracy = 11.699164345403899 % Valid set Accuracy = 9.470752089136491 %\n"
     ]
    },
    {
     "name": "stderr",
     "output_type": "stream",
     "text": [
      "100%|██████████| 9/9 [01:47<00:00, 11.92s/it]\n",
      "100%|██████████| 3/3 [00:34<00:00, 11.65s/it]\n"
     ]
    },
    {
     "name": "stdout",
     "output_type": "stream",
     "text": [
      "Epoch 2 --- Train loss = 2.871625237994724 --- Valid loss = 2.855815569559733 -- Train set accuracy = 9.842154131847725 % Valid set Accuracy = 9.749303621169917 %\n"
     ]
    },
    {
     "name": "stderr",
     "output_type": "stream",
     "text": [
      "100%|██████████| 9/9 [01:47<00:00, 11.93s/it]\n",
      "100%|██████████| 3/3 [00:34<00:00, 11.62s/it]\n"
     ]
    },
    {
     "name": "stdout",
     "output_type": "stream",
     "text": [
      "Epoch 3 --- Train loss = 2.7885931862725153 --- Valid loss = 2.789914925893148 -- Train set accuracy = 5.8495821727019495 % Valid set Accuracy = 5.571030640668524 %\n"
     ]
    },
    {
     "name": "stderr",
     "output_type": "stream",
     "text": [
      "100%|██████████| 9/9 [01:47<00:00, 11.95s/it]\n",
      "100%|██████████| 3/3 [00:34<00:00, 11.64s/it]\n"
     ]
    },
    {
     "name": "stdout",
     "output_type": "stream",
     "text": [
      "Epoch 4 --- Train loss = 2.8292976882722645 --- Valid loss = 2.656076510747274 -- Train set accuracy = 7.520891364902507 % Valid set Accuracy = 6.963788300835654 %\n"
     ]
    },
    {
     "name": "stderr",
     "output_type": "stream",
     "text": [
      "100%|██████████| 9/9 [01:47<00:00, 11.93s/it]\n",
      "100%|██████████| 3/3 [00:35<00:00, 11.72s/it]\n"
     ]
    },
    {
     "name": "stdout",
     "output_type": "stream",
     "text": [
      "Epoch 5 --- Train loss = 2.697111209233602 --- Valid loss = 2.501605192820231 -- Train set accuracy = 27.948003714020427 % Valid set Accuracy = 24.79108635097493 %\n"
     ]
    },
    {
     "name": "stderr",
     "output_type": "stream",
     "text": [
      "100%|██████████| 9/9 [01:46<00:00, 11.88s/it]\n",
      "100%|██████████| 3/3 [00:35<00:00, 11.72s/it]\n"
     ]
    },
    {
     "name": "stdout",
     "output_type": "stream",
     "text": [
      "Epoch 6 --- Train loss = 2.499053637186686 --- Valid loss = 2.3480445543924966 -- Train set accuracy = 37.79015784586815 % Valid set Accuracy = 33.147632311977716 %\n"
     ]
    },
    {
     "name": "stderr",
     "output_type": "stream",
     "text": [
      "100%|██████████| 9/9 [01:47<00:00, 11.97s/it]\n",
      "100%|██████████| 3/3 [00:35<00:00, 11.70s/it]\n"
     ]
    },
    {
     "name": "stdout",
     "output_type": "stream",
     "text": [
      "Epoch 7 --- Train loss = 2.2957293457455106 --- Valid loss = 2.180894056955973 -- Train set accuracy = 44.84679665738162 % Valid set Accuracy = 40.66852367688022 %\n"
     ]
    },
    {
     "name": "stderr",
     "output_type": "stream",
     "text": [
      "100%|██████████| 9/9 [01:47<00:00, 11.98s/it]\n",
      "100%|██████████| 3/3 [00:35<00:00, 11.70s/it]\n"
     ]
    },
    {
     "name": "stdout",
     "output_type": "stream",
     "text": [
      "Epoch 8 --- Train loss = 2.1204879416359796 --- Valid loss = 2.0200604597727456 -- Train set accuracy = 48.18941504178273 % Valid set Accuracy = 47.353760445682454 %\n"
     ]
    },
    {
     "name": "stderr",
     "output_type": "stream",
     "text": [
      "100%|██████████| 9/9 [01:46<00:00, 11.88s/it]\n",
      "100%|██████████| 3/3 [00:34<00:00, 11.53s/it]\n"
     ]
    },
    {
     "name": "stdout",
     "output_type": "stream",
     "text": [
      "Epoch 9 --- Train loss = 1.9577700429492526 --- Valid loss = 1.8846697012583415 -- Train set accuracy = 55.06035283194058 % Valid set Accuracy = 52.646239554317546 %\n"
     ]
    },
    {
     "name": "stderr",
     "output_type": "stream",
     "text": [
      "100%|██████████| 9/9 [01:45<00:00, 11.75s/it]\n",
      "100%|██████████| 3/3 [00:34<00:00, 11.53s/it]\n"
     ]
    },
    {
     "name": "stdout",
     "output_type": "stream",
     "text": [
      "Epoch 10 --- Train loss = 1.8011399375067816 --- Valid loss = 1.7757317225138347 -- Train set accuracy = 58.681522748375116 % Valid set Accuracy = 54.03899721448468 %\n"
     ]
    },
    {
     "name": "stderr",
     "output_type": "stream",
     "text": [
      "100%|██████████| 9/9 [01:45<00:00, 11.77s/it]\n",
      "100%|██████████| 3/3 [00:34<00:00, 11.45s/it]\n"
     ]
    },
    {
     "name": "stdout",
     "output_type": "stream",
     "text": [
      "Epoch 11 --- Train loss = 1.6613669130537245 --- Valid loss = 1.6887977123260498 -- Train set accuracy = 61.46703806870938 % Valid set Accuracy = 56.54596100278552 %\n"
     ]
    },
    {
     "name": "stderr",
     "output_type": "stream",
     "text": [
      "100%|██████████| 9/9 [01:56<00:00, 12.96s/it]\n",
      "100%|██████████| 3/3 [00:36<00:00, 12.14s/it]\n"
     ]
    },
    {
     "name": "stdout",
     "output_type": "stream",
     "text": [
      "Epoch 12 --- Train loss = 1.5508631997638278 --- Valid loss = 1.6140926678975422 -- Train set accuracy = 64.06685236768803 % Valid set Accuracy = 58.77437325905292 %\n"
     ]
    },
    {
     "name": "stderr",
     "output_type": "stream",
     "text": [
      "100%|██████████| 9/9 [01:45<00:00, 11.75s/it]\n",
      "100%|██████████| 3/3 [00:34<00:00, 11.57s/it]\n"
     ]
    },
    {
     "name": "stdout",
     "output_type": "stream",
     "text": [
      "Epoch 13 --- Train loss = 1.453713509771559 --- Valid loss = 1.5597774982452393 -- Train set accuracy = 65.9238625812442 % Valid set Accuracy = 59.88857938718663 %\n"
     ]
    },
    {
     "name": "stderr",
     "output_type": "stream",
     "text": [
      "100%|██████████| 9/9 [01:47<00:00, 11.98s/it]\n",
      "100%|██████████| 3/3 [00:35<00:00, 11.71s/it]\n"
     ]
    },
    {
     "name": "stdout",
     "output_type": "stream",
     "text": [
      "Epoch 14 --- Train loss = 1.3759374221165974 --- Valid loss = 1.5191094875335693 -- Train set accuracy = 67.22376973073352 % Valid set Accuracy = 61.559888579387184 %\n"
     ]
    },
    {
     "name": "stderr",
     "output_type": "stream",
     "text": [
      "100%|██████████| 9/9 [01:45<00:00, 11.67s/it]\n",
      "100%|██████████| 3/3 [00:33<00:00, 11.33s/it]\n"
     ]
    },
    {
     "name": "stdout",
     "output_type": "stream",
     "text": [
      "Epoch 15 --- Train loss = 1.3127790424558852 --- Valid loss = 1.4788309733072917 -- Train set accuracy = 68.43082636954503 % Valid set Accuracy = 62.39554317548747 %\n"
     ]
    },
    {
     "name": "stderr",
     "output_type": "stream",
     "text": [
      "100%|██████████| 9/9 [01:47<00:00, 11.93s/it]\n",
      "100%|██████████| 3/3 [00:34<00:00, 11.36s/it]\n"
     ]
    },
    {
     "name": "stdout",
     "output_type": "stream",
     "text": [
      "Epoch 16 --- Train loss = 1.2562377055486043 --- Valid loss = 1.451457182566325 -- Train set accuracy = 69.45218198700093 % Valid set Accuracy = 64.9025069637883 %\n"
     ]
    },
    {
     "name": "stderr",
     "output_type": "stream",
     "text": [
      "100%|██████████| 9/9 [01:44<00:00, 11.65s/it]\n",
      "100%|██████████| 3/3 [00:34<00:00, 11.41s/it]\n"
     ]
    },
    {
     "name": "stdout",
     "output_type": "stream",
     "text": [
      "Epoch 17 --- Train loss = 1.2071411742104425 --- Valid loss = 1.4309553305308025 -- Train set accuracy = 70.28783658310121 % Valid set Accuracy = 64.34540389972145 %\n"
     ]
    },
    {
     "name": "stderr",
     "output_type": "stream",
     "text": [
      "100%|██████████| 9/9 [01:44<00:00, 11.66s/it]\n",
      "100%|██████████| 3/3 [00:34<00:00, 11.44s/it]\n"
     ]
    },
    {
     "name": "stdout",
     "output_type": "stream",
     "text": [
      "Epoch 18 --- Train loss = 1.1750164031982422 --- Valid loss = 1.4113444089889526 -- Train set accuracy = 71.12349117920148 % Valid set Accuracy = 65.18105849582173 %\n"
     ]
    },
    {
     "name": "stderr",
     "output_type": "stream",
     "text": [
      "100%|██████████| 9/9 [01:45<00:00, 11.71s/it]\n",
      "100%|██████████| 3/3 [00:34<00:00, 11.38s/it]\n"
     ]
    },
    {
     "name": "stdout",
     "output_type": "stream",
     "text": [
      "Epoch 19 --- Train loss = 1.1286775138643053 --- Valid loss = 1.3975953658421834 -- Train set accuracy = 70.93779015784587 % Valid set Accuracy = 65.18105849582173 %\n"
     ]
    },
    {
     "name": "stderr",
     "output_type": "stream",
     "text": [
      "100%|██████████| 9/9 [01:45<00:00, 11.77s/it]\n",
      "100%|██████████| 3/3 [00:35<00:00, 11.72s/it]\n"
     ]
    },
    {
     "name": "stdout",
     "output_type": "stream",
     "text": [
      "Epoch 20 --- Train loss = 1.1012599799368117 --- Valid loss = 1.3874351183573406 -- Train set accuracy = 71.3091922005571 % Valid set Accuracy = 65.18105849582173 %\n"
     ]
    },
    {
     "name": "stderr",
     "output_type": "stream",
     "text": [
      "100%|██████████| 9/9 [01:47<00:00, 11.89s/it]\n",
      "100%|██████████| 3/3 [00:35<00:00, 11.72s/it]\n"
     ]
    },
    {
     "name": "stdout",
     "output_type": "stream",
     "text": [
      "Epoch 21 --- Train loss = 1.0723603434032865 --- Valid loss = 1.3739269574483235 -- Train set accuracy = 72.14484679665738 % Valid set Accuracy = 65.73816155988858 %\n"
     ]
    },
    {
     "name": "stderr",
     "output_type": "stream",
     "text": [
      "100%|██████████| 9/9 [01:47<00:00, 11.95s/it]\n",
      "100%|██████████| 3/3 [00:35<00:00, 11.80s/it]\n"
     ]
    },
    {
     "name": "stdout",
     "output_type": "stream",
     "text": [
      "Epoch 22 --- Train loss = 1.0453834997283087 --- Valid loss = 1.369459629058838 -- Train set accuracy = 72.60909935004642 % Valid set Accuracy = 65.73816155988858 %\n"
     ]
    },
    {
     "name": "stderr",
     "output_type": "stream",
     "text": [
      "100%|██████████| 9/9 [01:47<00:00, 11.93s/it]\n",
      "100%|██████████| 3/3 [00:35<00:00, 11.69s/it]\n"
     ]
    },
    {
     "name": "stdout",
     "output_type": "stream",
     "text": [
      "Epoch 23 --- Train loss = 1.022765530480279 --- Valid loss = 1.3623360792795818 -- Train set accuracy = 73.3519034354689 % Valid set Accuracy = 65.73816155988858 %\n"
     ]
    },
    {
     "name": "stderr",
     "output_type": "stream",
     "text": [
      " 33%|███▎      | 3/9 [00:43<01:26, 14.47s/it]\n"
     ]
    },
    {
     "ename": "KeyboardInterrupt",
     "evalue": "",
     "output_type": "error",
     "traceback": [
      "\u001b[0;31m---------------------------------------------------------------------------\u001b[0m",
      "\u001b[0;31mKeyboardInterrupt\u001b[0m                         Traceback (most recent call last)",
      "Cell \u001b[0;32mIn[14], line 13\u001b[0m\n\u001b[1;32m     10\u001b[0m val_accuracy \u001b[39m=\u001b[39m []\n\u001b[1;32m     11\u001b[0m \u001b[39mfor\u001b[39;00m epoch \u001b[39min\u001b[39;00m \u001b[39mrange\u001b[39m(epochs):\n\u001b[1;32m     12\u001b[0m     \u001b[39m# training\u001b[39;00m\n\u001b[0;32m---> 13\u001b[0m     model,train_loss,optimizer \u001b[39m=\u001b[39m train(train_loader,model,criterion,optimizer,device)\n\u001b[1;32m     15\u001b[0m     \u001b[39m# validation\u001b[39;00m\n\u001b[1;32m     16\u001b[0m     \u001b[39mwith\u001b[39;00m torch\u001b[39m.\u001b[39mno_grad():\n",
      "Cell \u001b[0;32mIn[12], line 5\u001b[0m, in \u001b[0;36mtrain\u001b[0;34m(train_loader, model, criterion, optimizer, device)\u001b[0m\n\u001b[1;32m      2\u001b[0m running_loss \u001b[39m=\u001b[39m \u001b[39m0\u001b[39m\n\u001b[1;32m      3\u001b[0m model\u001b[39m.\u001b[39mtrain()\n\u001b[0;32m----> 5\u001b[0m \u001b[39mfor\u001b[39;00m images,labels \u001b[39min\u001b[39;00m tqdm(train_loader):\n\u001b[1;32m      7\u001b[0m     images \u001b[39m=\u001b[39m images\u001b[39m.\u001b[39mto(device)\n\u001b[1;32m      8\u001b[0m     labels \u001b[39m=\u001b[39m labels\u001b[39m.\u001b[39mto(device)\n",
      "File \u001b[0;32m~/anaconda3/envs/hungvv/lib/python3.10/site-packages/tqdm/std.py:1178\u001b[0m, in \u001b[0;36mtqdm.__iter__\u001b[0;34m(self)\u001b[0m\n\u001b[1;32m   1175\u001b[0m time \u001b[39m=\u001b[39m \u001b[39mself\u001b[39m\u001b[39m.\u001b[39m_time\n\u001b[1;32m   1177\u001b[0m \u001b[39mtry\u001b[39;00m:\n\u001b[0;32m-> 1178\u001b[0m     \u001b[39mfor\u001b[39;00m obj \u001b[39min\u001b[39;00m iterable:\n\u001b[1;32m   1179\u001b[0m         \u001b[39myield\u001b[39;00m obj\n\u001b[1;32m   1180\u001b[0m         \u001b[39m# Update and possibly print the progressbar.\u001b[39;00m\n\u001b[1;32m   1181\u001b[0m         \u001b[39m# Note: does not call self.update(1) for speed optimisation.\u001b[39;00m\n",
      "File \u001b[0;32m~/anaconda3/envs/hungvv/lib/python3.10/site-packages/torch/utils/data/dataloader.py:681\u001b[0m, in \u001b[0;36m_BaseDataLoaderIter.__next__\u001b[0;34m(self)\u001b[0m\n\u001b[1;32m    678\u001b[0m \u001b[39mif\u001b[39;00m \u001b[39mself\u001b[39m\u001b[39m.\u001b[39m_sampler_iter \u001b[39mis\u001b[39;00m \u001b[39mNone\u001b[39;00m:\n\u001b[1;32m    679\u001b[0m     \u001b[39m# TODO(https://github.com/pytorch/pytorch/issues/76750)\u001b[39;00m\n\u001b[1;32m    680\u001b[0m     \u001b[39mself\u001b[39m\u001b[39m.\u001b[39m_reset()  \u001b[39m# type: ignore[call-arg]\u001b[39;00m\n\u001b[0;32m--> 681\u001b[0m data \u001b[39m=\u001b[39m \u001b[39mself\u001b[39;49m\u001b[39m.\u001b[39;49m_next_data()\n\u001b[1;32m    682\u001b[0m \u001b[39mself\u001b[39m\u001b[39m.\u001b[39m_num_yielded \u001b[39m+\u001b[39m\u001b[39m=\u001b[39m \u001b[39m1\u001b[39m\n\u001b[1;32m    683\u001b[0m \u001b[39mif\u001b[39;00m \u001b[39mself\u001b[39m\u001b[39m.\u001b[39m_dataset_kind \u001b[39m==\u001b[39m _DatasetKind\u001b[39m.\u001b[39mIterable \u001b[39mand\u001b[39;00m \\\n\u001b[1;32m    684\u001b[0m         \u001b[39mself\u001b[39m\u001b[39m.\u001b[39m_IterableDataset_len_called \u001b[39mis\u001b[39;00m \u001b[39mnot\u001b[39;00m \u001b[39mNone\u001b[39;00m \u001b[39mand\u001b[39;00m \\\n\u001b[1;32m    685\u001b[0m         \u001b[39mself\u001b[39m\u001b[39m.\u001b[39m_num_yielded \u001b[39m>\u001b[39m \u001b[39mself\u001b[39m\u001b[39m.\u001b[39m_IterableDataset_len_called:\n",
      "File \u001b[0;32m~/anaconda3/envs/hungvv/lib/python3.10/site-packages/torch/utils/data/dataloader.py:721\u001b[0m, in \u001b[0;36m_SingleProcessDataLoaderIter._next_data\u001b[0;34m(self)\u001b[0m\n\u001b[1;32m    719\u001b[0m \u001b[39mdef\u001b[39;00m \u001b[39m_next_data\u001b[39m(\u001b[39mself\u001b[39m):\n\u001b[1;32m    720\u001b[0m     index \u001b[39m=\u001b[39m \u001b[39mself\u001b[39m\u001b[39m.\u001b[39m_next_index()  \u001b[39m# may raise StopIteration\u001b[39;00m\n\u001b[0;32m--> 721\u001b[0m     data \u001b[39m=\u001b[39m \u001b[39mself\u001b[39;49m\u001b[39m.\u001b[39;49m_dataset_fetcher\u001b[39m.\u001b[39;49mfetch(index)  \u001b[39m# may raise StopIteration\u001b[39;00m\n\u001b[1;32m    722\u001b[0m     \u001b[39mif\u001b[39;00m \u001b[39mself\u001b[39m\u001b[39m.\u001b[39m_pin_memory:\n\u001b[1;32m    723\u001b[0m         data \u001b[39m=\u001b[39m _utils\u001b[39m.\u001b[39mpin_memory\u001b[39m.\u001b[39mpin_memory(data, \u001b[39mself\u001b[39m\u001b[39m.\u001b[39m_pin_memory_device)\n",
      "File \u001b[0;32m~/anaconda3/envs/hungvv/lib/python3.10/site-packages/torch/utils/data/_utils/fetch.py:49\u001b[0m, in \u001b[0;36m_MapDatasetFetcher.fetch\u001b[0;34m(self, possibly_batched_index)\u001b[0m\n\u001b[1;32m     47\u001b[0m \u001b[39mdef\u001b[39;00m \u001b[39mfetch\u001b[39m(\u001b[39mself\u001b[39m, possibly_batched_index):\n\u001b[1;32m     48\u001b[0m     \u001b[39mif\u001b[39;00m \u001b[39mself\u001b[39m\u001b[39m.\u001b[39mauto_collation:\n\u001b[0;32m---> 49\u001b[0m         data \u001b[39m=\u001b[39m [\u001b[39mself\u001b[39m\u001b[39m.\u001b[39mdataset[idx] \u001b[39mfor\u001b[39;00m idx \u001b[39min\u001b[39;00m possibly_batched_index]\n\u001b[1;32m     50\u001b[0m     \u001b[39melse\u001b[39;00m:\n\u001b[1;32m     51\u001b[0m         data \u001b[39m=\u001b[39m \u001b[39mself\u001b[39m\u001b[39m.\u001b[39mdataset[possibly_batched_index]\n",
      "File \u001b[0;32m~/anaconda3/envs/hungvv/lib/python3.10/site-packages/torch/utils/data/_utils/fetch.py:49\u001b[0m, in \u001b[0;36m<listcomp>\u001b[0;34m(.0)\u001b[0m\n\u001b[1;32m     47\u001b[0m \u001b[39mdef\u001b[39;00m \u001b[39mfetch\u001b[39m(\u001b[39mself\u001b[39m, possibly_batched_index):\n\u001b[1;32m     48\u001b[0m     \u001b[39mif\u001b[39;00m \u001b[39mself\u001b[39m\u001b[39m.\u001b[39mauto_collation:\n\u001b[0;32m---> 49\u001b[0m         data \u001b[39m=\u001b[39m [\u001b[39mself\u001b[39;49m\u001b[39m.\u001b[39;49mdataset[idx] \u001b[39mfor\u001b[39;00m idx \u001b[39min\u001b[39;00m possibly_batched_index]\n\u001b[1;32m     50\u001b[0m     \u001b[39melse\u001b[39;00m:\n\u001b[1;32m     51\u001b[0m         data \u001b[39m=\u001b[39m \u001b[39mself\u001b[39m\u001b[39m.\u001b[39mdataset[possibly_batched_index]\n",
      "Cell \u001b[0;32mIn[8], line 9\u001b[0m, in \u001b[0;36mHandSignData.__getitem__\u001b[0;34m(self, idx)\u001b[0m\n\u001b[1;32m      8\u001b[0m \u001b[39mdef\u001b[39;00m \u001b[39m__getitem__\u001b[39m(\u001b[39mself\u001b[39m, idx):\n\u001b[0;32m----> 9\u001b[0m     node \u001b[39m=\u001b[39m handDetector\u001b[39m.\u001b[39;49mfindHands(\u001b[39mself\u001b[39;49m\u001b[39m.\u001b[39;49mimg_dir[idx])\n\u001b[1;32m     10\u001b[0m     cnt \u001b[39m=\u001b[39m \u001b[39m0\u001b[39m\n\u001b[1;32m     11\u001b[0m     \u001b[39mwhile\u001b[39;00m node \u001b[39m==\u001b[39m \u001b[39mNone\u001b[39;00m:\n",
      "Cell \u001b[0;32mIn[3], line 40\u001b[0m, in \u001b[0;36mHandDetector.findHands\u001b[0;34m(self, img_url, draw)\u001b[0m\n\u001b[1;32m     39\u001b[0m \u001b[39mdef\u001b[39;00m \u001b[39mfindHands\u001b[39m(\u001b[39mself\u001b[39m, img_url, draw \u001b[39m=\u001b[39m \u001b[39mTrue\u001b[39;00m):\n\u001b[0;32m---> 40\u001b[0m     img \u001b[39m=\u001b[39m cv2\u001b[39m.\u001b[39;49mimread(img_url)\n\u001b[1;32m     41\u001b[0m     img_bone \u001b[39m=\u001b[39m np\u001b[39m.\u001b[39mones((img\u001b[39m.\u001b[39mshape[\u001b[39m0\u001b[39m], img\u001b[39m.\u001b[39mshape[\u001b[39m1\u001b[39m], \u001b[39m3\u001b[39m)) \u001b[39m*\u001b[39m \u001b[39m255\u001b[39m\n\u001b[1;32m     43\u001b[0m     img_RGB \u001b[39m=\u001b[39m cv2\u001b[39m.\u001b[39mcvtColor(img, cv2\u001b[39m.\u001b[39mCOLOR_BGR2RGB)\n",
      "\u001b[0;31mKeyboardInterrupt\u001b[0m: "
     ]
    }
   ],
   "source": [
    "\n",
    "device = 'cuda:0'\n",
    "train_loader,valid_loader,test_loader = load_data(\"./data/image/subsampleHAR\",128,128,128)\n",
    "model = GGCN(find_adjacency_matrix(),18,[3,9],[9, 16, 32, 64],0).to(device)\n",
    "criterion = nn.CrossEntropyLoss()\n",
    "optimizer = torch.optim.Adam(model.parameters())\n",
    "epochs = 50\n",
    "train_losses = []\n",
    "valid_losses = []\n",
    "train_accuracy = []\n",
    "val_accuracy = []\n",
    "for epoch in range(epochs):\n",
    "    # training\n",
    "    model,train_loss,optimizer = train(train_loader,model,criterion,optimizer,device)\n",
    "    \n",
    "    # validation\n",
    "    with torch.no_grad():\n",
    "        model, valid_loss = validate(valid_loader, model, criterion, device)\n",
    "    train_acc = get_accuracy(model,train_loader,device)\n",
    "    val_acc = get_accuracy(model,valid_loader,device)\n",
    "    print(\"Epoch {} --- Train loss = {} --- Valid loss = {} -- Train set accuracy = {} % Valid set Accuracy = {} %\".format\n",
    "          (epoch+1,train_loss,valid_loss,train_acc,val_acc))\n",
    "    # save loss value\n",
    "    train_losses.append(train_loss)\n",
    "    valid_losses.append(valid_loss)\n",
    "    \n",
    "    #save accuracy\n",
    "    train_accuracy.append(train_acc)\n",
    "    val_accuracy.append(val_acc)"
   ]
  },
  {
   "cell_type": "code",
   "execution_count": 15,
   "metadata": {},
   "outputs": [
    {
     "data": {
      "image/png": "[encoded data removed]",
      "text/plain": [
       "<Figure size 640x480 with 1 Axes>"
      ]
     },
     "metadata": {},
     "output_type": "display_data"
    }
   ],
   "source": [
    "plot_losses(train_losses,valid_losses)"
   ]
  },
  {
   "cell_type": "code",
   "execution_count": 16,
   "metadata": {},
   "outputs": [
    {
     "data": {
      "image/png": "[encoded data removed]",
      "text/plain": [
       "<Figure size 640x480 with 1 Axes>"
      ]
     },
     "metadata": {},
     "output_type": "display_data"
    }
   ],
   "source": [
    "plot_accuracy(train_accuracy,val_accuracy)"
   ]
  },
  {
   "cell_type": "code",
   "execution_count": null,
   "metadata": {},
   "outputs": [],
   "source": []
  },
  {
   "cell_type": "code",
   "execution_count": null,
   "metadata": {},
   "outputs": [],
   "source": []
  }
 ],
 "metadata": {
  "kernelspec": {
   "display_name": "hungvv",
   "language": "python",
   "name": "python3"
  },
  "language_info": {
   "codemirror_mode": {
    "name": "ipython",
    "version": 3
   },
   "file_extension": ".py",
   "mimetype": "text/x-python",
   "name": "python",
   "nbconvert_exporter": "python",
   "pygments_lexer": "ipython3",
   "version": "3.10.12"
  },
  "orig_nbformat": 4
 },
 "nbformat": 4,
 "nbformat_minor": 2
}
