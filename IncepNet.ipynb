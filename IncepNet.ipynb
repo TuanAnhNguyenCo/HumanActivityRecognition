{
 "cells": [
  {
   "cell_type": "code",
   "execution_count": 1,
   "metadata": {},
   "outputs": [
    {
     "name": "stderr",
     "output_type": "stream",
     "text": [
      "/mnt/disk1/anaconda3/envs/anhnct/lib/python3.9/site-packages/tqdm/auto.py:21: TqdmWarning: IProgress not found. Please update jupyter and ipywidgets. See https://ipywidgets.readthedocs.io/en/stable/user_install.html\n",
      "  from .autonotebook import tqdm as notebook_tqdm\n"
     ]
    }
   ],
   "source": [
    "import torch\n",
    "import torch.nn.functional as F\n",
    "from typing import Optional\n",
    "import random\n",
    "import torch\n",
    "from torch import nn\n",
    "from einops import rearrange, repeat\n",
    "from einops.layers.torch import Rearrange\n",
    "import os\n",
    "import cv2\n",
    "import numpy as np\n",
    "import math\n",
    "import mediapipe as mp\n",
    "from matplotlib import pyplot as plt\n",
    "import glob\n",
    "from util.img2bone import HandDetector\n",
    "import torch\n",
    "import torch.nn as nn\n",
    "\n",
    "from torchvision import transforms\n",
    "from torch.utils.data import Dataset, DataLoader\n",
    "from PIL import Image\n",
    "import glob\n",
    "from tqdm.auto import tqdm\n",
    "from einops import rearrange, repeat\n",
    "from einops.layers.torch import Rearrange\n",
    "from loader.dataloader import SkeletonAndEMGData1\n",
    "from sklearn.metrics import precision_score, recall_score, f1_score\n",
    "from util.log import Log\n",
    "from trainer import train, validate, get_accuracy\n"
   ]
  },
  {
   "cell_type": "code",
   "execution_count": 2,
   "metadata": {},
   "outputs": [],
   "source": [
    "# helpers\n",
    "device = \"cuda:1\"\n",
    "\n",
    "\n",
    "class SE(nn.Module):\n",
    "    def __init__(self, out_dim, hidden_dim, expansion=0.1):\n",
    "        super().__init__()\n",
    "        self.avg_pool = nn.AdaptiveAvgPool1d(1)\n",
    "        self.fc = nn.Sequential(\n",
    "            nn.Linear(out_dim, int(hidden_dim * expansion), bias=False),\n",
    "            nn.ReLU(),\n",
    "            nn.Linear(int(hidden_dim * expansion), out_dim, bias=False),\n",
    "            nn.Sigmoid()\n",
    "        )\n",
    "\n",
    "    def forward(self, x):\n",
    "        b, c, _ = x.size()\n",
    "        y = self.avg_pool(x).view(b, c)\n",
    "        y = self.fc(y).view(b, c, 1)\n",
    "        return x * y\n",
    "\n",
    "\n",
    "def cd_adaptiveconcatpool(relevant, irrelevant, module):\n",
    "    mpr, mpi = module.mp.attrib(relevant, irrelevant)\n",
    "    apr, api = module.ap.attrib(relevant, irrelevant)\n",
    "    return torch.cat([mpr, apr], 1), torch.cat([mpi, api], 1)\n",
    "\n",
    "\n",
    "def attrib_adaptiveconcatpool(self, relevant, irrelevant):\n",
    "    return cd_adaptiveconcatpool(relevant, irrelevant, self)\n",
    "\n",
    "\n",
    "class AdaptiveConcatPool1d(nn.Module):\n",
    "    \"Layer that concats `AdaptiveAvgPool1d` and `AdaptiveMaxPool1d`.\"\n",
    "\n",
    "    def __init__(self, sz: Optional[int] = None):\n",
    "        \"Output will be 2*sz or 2 if sz is None\"\n",
    "        super().__init__()\n",
    "        sz = sz or 1\n",
    "        self.ap, self.mp = nn.AdaptiveAvgPool1d(sz), nn.AdaptiveMaxPool1d(sz)\n",
    "\n",
    "    def forward(self, x): return torch.cat([self.mp(x), self.ap(x)], 1)\n",
    "\n",
    "    def attrib(self, relevant, irrelevant):\n",
    "        return attrib_adaptiveconcatpool(self, relevant, irrelevant)\n",
    "\n",
    "\n",
    "def maxpool(kernel, stride):\n",
    "    return nn.MaxPool1d(kernel, stride=stride, padding=(kernel-1)//2)\n",
    "\n",
    "\n",
    "def conv(in_planes, out_planes, kernel_size=3, stride=1, groups=1):\n",
    "    return nn.Conv1d(in_planes, out_planes, kernel_size=kernel_size, stride=stride,\n",
    "                     padding=(kernel_size-1)//2, bias=False, groups=groups)\n",
    "\n",
    "\n",
    "def avgpool(kernel, stride):\n",
    "    return nn.AvgPool1d(kernel, stride=stride, padding=(kernel-1)//2)\n",
    "\n",
    "\n",
    "t = 4   # number of branches\n",
    "\n",
    "class Model_conv_block(nn.Module):\n",
    "    def __init__(self, ic, oc_filter, bottle_neck=32, stride=1):\n",
    "        super().__init__()\n",
    "        self.s_conv = nn.Conv1d(ic, bottle_neck, 1, stride=1)\n",
    "        self.se = SE(bottle_neck, bottle_neck)\n",
    "\n",
    "        self.s_convb = conv(bottle_neck, oc_filter, 39, stride=stride)\n",
    "        self.s_convm = conv(bottle_neck, oc_filter, 19, stride=stride)\n",
    "        self.s_convs = conv(bottle_neck, oc_filter, 9, stride=stride)\n",
    "\n",
    "        self.t_pool = maxpool(3, stride=stride)\n",
    "        self.t_conv = conv(ic, oc_filter, 3)\n",
    "\n",
    "        self.skip = conv(ic, oc_filter*t, 3, stride=stride)\n",
    "\n",
    "        self.bn_relu = nn.Sequential(nn.BatchNorm1d(oc_filter*t), nn.ReLU())\n",
    "\n",
    "    def forward(self, x):\n",
    "        bs = []\n",
    "        # spatial\n",
    "        b = self.s_conv(x)\n",
    "        b = self.se(b)\n",
    "        bs.append(self.s_convb(b))\n",
    "        bs.append(self.s_convm(b))\n",
    "        bs.append(self.s_convs(b))\n",
    "        bs.append(self.t_conv(self.t_pool(x)))\n",
    "\n",
    "        bs = torch.concatenate(bs, dim=1)\n",
    "        return self.bn_relu(bs + self.skip(x))\n",
    "\n",
    "\n",
    "class IncepSE(nn.Module):\n",
    "    def __init__(self, num_class=5, ic=12, oc_filter=32, bottle_neck=32, depth=4, stride=1, dropout=0.1):\n",
    "        super().__init__()\n",
    "        self.blocks = nn.Sequential(*[Model_conv_block(ic=oc_filter*t*2 if i >= depth-1 else oc_filter*t,\n",
    "                                                       oc_filter=2*oc_filter if i >= depth-2 else oc_filter,\n",
    "                                                       bottle_neck=2*bottle_neck if i >= depth-2 else bottle_neck,\n",
    "                                                       stride=2 if i >= depth-2 else stride) for i in range(depth-1)])\n",
    "        self.blocks.insert(0, Model_conv_block(\n",
    "            ic=ic, oc_filter=oc_filter, bottle_neck=bottle_neck, stride=stride))\n",
    "\n",
    "        self.pool = AdaptiveConcatPool1d(1)\n",
    "        self.downsample = nn.Sequential(\n",
    "            nn.Conv1d(8, 8, kernel_size=45, stride=33, groups=8),\n",
    "            nn.BatchNorm1d(8),\n",
    "            nn.GELU()\n",
    "        )\n",
    "        # self.downsample = nn.AdaptiveAvgPool1d(1024)\n",
    "        classify = [nn.Flatten()]\n",
    "\n",
    "        classify.append(nn.Linear(4*oc_filter*t,num_class))\n",
    "        classify.append(nn.Dropout(dropout))\n",
    "        # classify.append(nn.Sigmoid())\n",
    "\n",
    "        self.classify = nn.Sequential(*classify)\n",
    "\n",
    "    def forward(self, x):\n",
    "\n",
    "        x = self.downsample(x)\n",
    "\n",
    "        x = self.blocks(x)\n",
    "        x = self.pool(x)\n",
    "       \n",
    "        return self.classify(x)"
   ]
  },
  {
   "cell_type": "code",
   "execution_count": 3,
   "metadata": {},
   "outputs": [
    {
     "name": "stdout",
     "output_type": "stream",
     "text": [
      "12000\n",
      "4500\n",
      "4033\n"
     ]
    },
    {
     "name": "stdout",
     "output_type": "stream",
     "text": [
      "3 32 32 0 step 20 gamma 0.8\n"
     ]
    },
    {
     "name": "stderr",
     "output_type": "stream",
     "text": [
      "100%|██████████| 375/375 [00:55<00:00,  6.79it/s]\n",
      "100%|██████████| 126/126 [00:06<00:00, 18.07it/s]\n"
     ]
    },
    {
     "name": "stdout",
     "output_type": "stream",
     "text": [
      "Epoch 1 --- Train loss = 3.6627190246427586 --- Valid loss = 3.356564815609377 -- Train set accuracy = 11.691666666666666 % Valid set Accuracy = 10.887896825396826 %\n"
     ]
    },
    {
     "name": "stderr",
     "output_type": "stream",
     "text": [
      "100%|██████████| 375/375 [00:49<00:00,  7.64it/s]\n",
      "100%|██████████| 126/126 [00:07<00:00, 17.17it/s]\n"
     ]
    },
    {
     "name": "stdout",
     "output_type": "stream",
     "text": [
      "Epoch 2 --- Train loss = 3.3791941683987345 --- Valid loss = 3.0256205543810015 -- Train set accuracy = 19.741666666666667 % Valid set Accuracy = 19.270833333333332 %\n"
     ]
    },
    {
     "name": "stderr",
     "output_type": "stream",
     "text": [
      "100%|██████████| 375/375 [00:53<00:00,  7.02it/s]\n",
      "100%|██████████| 126/126 [00:05<00:00, 21.35it/s]\n"
     ]
    },
    {
     "name": "stdout",
     "output_type": "stream",
     "text": [
      "Epoch 3 --- Train loss = 3.1976743124447222 --- Valid loss = 2.6659810342285737 -- Train set accuracy = 30.708333333333332 % Valid set Accuracy = 30.133928571428573 %\n"
     ]
    },
    {
     "name": "stderr",
     "output_type": "stream",
     "text": [
      "100%|██████████| 375/375 [00:51<00:00,  7.25it/s]\n",
      "100%|██████████| 126/126 [00:05<00:00, 22.82it/s]\n"
     ]
    },
    {
     "name": "stdout",
     "output_type": "stream",
     "text": [
      "Epoch 4 --- Train loss = 3.0121064233106845 --- Valid loss = 2.5529371521509807 -- Train set accuracy = 32.333333333333336 % Valid set Accuracy = 29.439484126984127 %\n"
     ]
    },
    {
     "name": "stderr",
     "output_type": "stream",
     "text": [
      "100%|██████████| 375/375 [00:47<00:00,  7.87it/s]\n",
      "100%|██████████| 126/126 [00:06<00:00, 18.46it/s]\n"
     ]
    },
    {
     "name": "stdout",
     "output_type": "stream",
     "text": [
      "Epoch 5 --- Train loss = 2.8638420986671598 --- Valid loss = 2.3291303237884677 -- Train set accuracy = 36.53333333333333 % Valid set Accuracy = 34.35019841269841 %\n"
     ]
    },
    {
     "name": "stderr",
     "output_type": "stream",
     "text": [
      "100%|██████████| 375/375 [00:48<00:00,  7.70it/s]\n",
      "100%|██████████| 126/126 [00:06<00:00, 18.38it/s]\n"
     ]
    },
    {
     "name": "stdout",
     "output_type": "stream",
     "text": [
      "Epoch 6 --- Train loss = 2.7329934262521824 --- Valid loss = 2.008785903852408 -- Train set accuracy = 49.475 % Valid set Accuracy = 45.28769841269841 %\n"
     ]
    },
    {
     "name": "stderr",
     "output_type": "stream",
     "text": [
      "100%|██████████| 375/375 [00:52<00:00,  7.12it/s]\n",
      "100%|██████████| 126/126 [00:05<00:00, 21.31it/s]\n"
     ]
    },
    {
     "name": "stdout",
     "output_type": "stream",
     "text": [
      "Epoch 7 --- Train loss = 2.6207429259255948 --- Valid loss = 1.7504916293856727 -- Train set accuracy = 58.15 % Valid set Accuracy = 53.37301587301587 %\n"
     ]
    },
    {
     "name": "stderr",
     "output_type": "stream",
     "text": [
      "100%|██████████| 375/375 [00:53<00:00,  7.04it/s]\n",
      "100%|██████████| 126/126 [00:06<00:00, 20.55it/s]\n"
     ]
    },
    {
     "name": "stdout",
     "output_type": "stream",
     "text": [
      "Epoch 8 --- Train loss = 2.5563198952179746 --- Valid loss = 1.7622471290488846 -- Train set accuracy = 57.583333333333336 % Valid set Accuracy = 53.17460317460318 %\n"
     ]
    },
    {
     "name": "stderr",
     "output_type": "stream",
     "text": [
      "100%|██████████| 375/375 [00:47<00:00,  7.84it/s]\n",
      "100%|██████████| 126/126 [00:06<00:00, 19.16it/s]\n"
     ]
    },
    {
     "name": "stdout",
     "output_type": "stream",
     "text": [
      "Epoch 9 --- Train loss = 2.4655601882505196 --- Valid loss = 1.627150466037909 -- Train set accuracy = 60.541666666666664 % Valid set Accuracy = 57.06845238095238 %\n"
     ]
    },
    {
     "name": "stderr",
     "output_type": "stream",
     "text": [
      "100%|██████████| 375/375 [00:47<00:00,  7.89it/s]\n",
      "100%|██████████| 126/126 [00:07<00:00, 17.97it/s]\n"
     ]
    },
    {
     "name": "stdout",
     "output_type": "stream",
     "text": [
      "Epoch 10 --- Train loss = 2.405364822496636 --- Valid loss = 1.5965900180389316 -- Train set accuracy = 61.458333333333336 % Valid set Accuracy = 57.142857142857146 %\n"
     ]
    },
    {
     "name": "stderr",
     "output_type": "stream",
     "text": [
      "100%|██████████| 375/375 [00:52<00:00,  7.21it/s]\n",
      "100%|██████████| 126/126 [00:06<00:00, 19.60it/s]\n"
     ]
    },
    {
     "name": "stdout",
     "output_type": "stream",
     "text": [
      "Epoch 11 --- Train loss = 2.3275503074767556 --- Valid loss = 1.469304477816191 -- Train set accuracy = 67.825 % Valid set Accuracy = 60.63988095238095 %\n"
     ]
    },
    {
     "name": "stderr",
     "output_type": "stream",
     "text": [
      "100%|██████████| 375/375 [00:53<00:00,  7.04it/s]\n",
      "100%|██████████| 126/126 [00:06<00:00, 19.61it/s]\n"
     ]
    },
    {
     "name": "stdout",
     "output_type": "stream",
     "text": [
      "Epoch 12 --- Train loss = 2.3030337956396423 --- Valid loss = 1.3790625273088166 -- Train set accuracy = 70.05833333333334 % Valid set Accuracy = 63.29365079365079 %\n"
     ]
    },
    {
     "name": "stderr",
     "output_type": "stream",
     "text": [
      "100%|██████████| 375/375 [00:48<00:00,  7.75it/s]\n",
      "100%|██████████| 126/126 [00:06<00:00, 19.66it/s]\n"
     ]
    },
    {
     "name": "stdout",
     "output_type": "stream",
     "text": [
      "Epoch 13 --- Train loss = 2.255425482322706 --- Valid loss = 1.3165566568651939 -- Train set accuracy = 70.075 % Valid set Accuracy = 63.78968253968254 %\n"
     ]
    },
    {
     "name": "stderr",
     "output_type": "stream",
     "text": [
      "100%|██████████| 375/375 [00:47<00:00,  7.92it/s]\n",
      "100%|██████████| 126/126 [00:07<00:00, 17.54it/s]\n"
     ]
    },
    {
     "name": "stdout",
     "output_type": "stream",
     "text": [
      "Epoch 14 --- Train loss = 2.1968138947870814 --- Valid loss = 1.1888647756324007 -- Train set accuracy = 76.31666666666666 % Valid set Accuracy = 68.60119047619048 %\n"
     ]
    },
    {
     "name": "stderr",
     "output_type": "stream",
     "text": [
      "100%|██████████| 375/375 [00:52<00:00,  7.13it/s]\n",
      "100%|██████████| 126/126 [00:06<00:00, 20.26it/s]\n"
     ]
    },
    {
     "name": "stdout",
     "output_type": "stream",
     "text": [
      "Epoch 15 --- Train loss = 2.168647735743005 --- Valid loss = 1.2313365068597995 -- Train set accuracy = 75.65833333333333 % Valid set Accuracy = 68.40277777777777 %\n"
     ]
    },
    {
     "name": "stderr",
     "output_type": "stream",
     "text": [
      "100%|██████████| 375/375 [00:52<00:00,  7.08it/s]\n",
      "100%|██████████| 126/126 [00:05<00:00, 21.66it/s]\n"
     ]
    },
    {
     "name": "stdout",
     "output_type": "stream",
     "text": [
      "Epoch 16 --- Train loss = 2.1236439862630605 --- Valid loss = 1.1183251655494137 -- Train set accuracy = 77.375 % Valid set Accuracy = 69.04761904761905 %\n"
     ]
    },
    {
     "name": "stderr",
     "output_type": "stream",
     "text": [
      "100%|██████████| 375/375 [00:47<00:00,  7.92it/s]\n",
      "100%|██████████| 126/126 [00:07<00:00, 17.46it/s]\n"
     ]
    },
    {
     "name": "stdout",
     "output_type": "stream",
     "text": [
      "Epoch 17 --- Train loss = 2.092411036335292 --- Valid loss = 1.2992108098356188 -- Train set accuracy = 70.56666666666666 % Valid set Accuracy = 62.84722222222222 %\n"
     ]
    },
    {
     "name": "stderr",
     "output_type": "stream",
     "text": [
      "100%|██████████| 375/375 [00:52<00:00,  7.21it/s]\n",
      "100%|██████████| 126/126 [00:06<00:00, 18.14it/s]\n"
     ]
    },
    {
     "name": "stdout",
     "output_type": "stream",
     "text": [
      "Epoch 18 --- Train loss = 2.0779415607152325 --- Valid loss = 0.9781328724323493 -- Train set accuracy = 82.74166666666666 % Valid set Accuracy = 74.15674603174604 %\n"
     ]
    },
    {
     "name": "stderr",
     "output_type": "stream",
     "text": [
      "100%|██████████| 375/375 [00:54<00:00,  6.94it/s]\n",
      "100%|██████████| 126/126 [00:06<00:00, 20.21it/s]\n"
     ]
    },
    {
     "name": "stdout",
     "output_type": "stream",
     "text": [
      "Epoch 19 --- Train loss = 2.0731973701788755 --- Valid loss = 1.0554423445997396 -- Train set accuracy = 78.33333333333333 % Valid set Accuracy = 69.5436507936508 %\n"
     ]
    },
    {
     "name": "stderr",
     "output_type": "stream",
     "text": [
      "100%|██████████| 375/375 [00:48<00:00,  7.67it/s]\n",
      "100%|██████████| 126/126 [00:06<00:00, 18.09it/s]\n"
     ]
    },
    {
     "name": "stdout",
     "output_type": "stream",
     "text": [
      "Epoch 20 --- Train loss = 2.057290935612411 --- Valid loss = 1.002705807426551 -- Train set accuracy = 80.3 % Valid set Accuracy = 71.57738095238095 %\n"
     ]
    },
    {
     "name": "stderr",
     "output_type": "stream",
     "text": [
      "100%|██████████| 375/375 [00:50<00:00,  7.43it/s]\n",
      "100%|██████████| 126/126 [00:07<00:00, 17.34it/s]\n"
     ]
    },
    {
     "name": "stdout",
     "output_type": "stream",
     "text": [
      "Epoch 21 --- Train loss = 1.9953243613186458 --- Valid loss = 0.965010582552187 -- Train set accuracy = 83.81666666666666 % Valid set Accuracy = 73.04067460317461 %\n"
     ]
    },
    {
     "name": "stderr",
     "output_type": "stream",
     "text": [
      "100%|██████████| 375/375 [00:53<00:00,  7.00it/s]\n",
      "100%|██████████| 126/126 [00:06<00:00, 19.61it/s]\n"
     ]
    },
    {
     "name": "stdout",
     "output_type": "stream",
     "text": [
      "Epoch 22 --- Train loss = 1.9905773652130687 --- Valid loss = 0.9008002963158532 -- Train set accuracy = 85.63333333333334 % Valid set Accuracy = 74.95039682539682 %\n"
     ]
    },
    {
     "name": "stderr",
     "output_type": "stream",
     "text": [
      "100%|██████████| 375/375 [00:49<00:00,  7.64it/s]\n",
      "100%|██████████| 126/126 [00:05<00:00, 21.93it/s]\n"
     ]
    },
    {
     "name": "stdout",
     "output_type": "stream",
     "text": [
      "Epoch 23 --- Train loss = 1.9659221326429017 --- Valid loss = 0.8466855462247709 -- Train set accuracy = 86.96666666666667 % Valid set Accuracy = 76.11607142857143 %\n"
     ]
    },
    {
     "name": "stderr",
     "output_type": "stream",
     "text": [
      "100%|██████████| 375/375 [00:45<00:00,  8.16it/s]\n",
      "100%|██████████| 126/126 [00:07<00:00, 17.84it/s]\n"
     ]
    },
    {
     "name": "stdout",
     "output_type": "stream",
     "text": [
      "Epoch 24 --- Train loss = 1.9561723019462434 --- Valid loss = 0.9370220423916917 -- Train set accuracy = 83.50833333333334 % Valid set Accuracy = 72.91666666666667 %\n"
     ]
    },
    {
     "name": "stderr",
     "output_type": "stream",
     "text": [
      "100%|██████████| 375/375 [00:46<00:00,  8.11it/s]\n",
      "100%|██████████| 126/126 [00:06<00:00, 18.14it/s]\n"
     ]
    },
    {
     "name": "stdout",
     "output_type": "stream",
     "text": [
      "Epoch 25 --- Train loss = 1.9317717651885107 --- Valid loss = 0.9041182365217996 -- Train set accuracy = 85.10833333333333 % Valid set Accuracy = 73.53670634920636 %\n"
     ]
    },
    {
     "name": "stderr",
     "output_type": "stream",
     "text": [
      "100%|██████████| 375/375 [00:53<00:00,  6.97it/s]\n",
      "100%|██████████| 126/126 [00:06<00:00, 19.19it/s]\n"
     ]
    },
    {
     "name": "stdout",
     "output_type": "stream",
     "text": [
      "Epoch 26 --- Train loss = 1.918340585962824 --- Valid loss = 0.8807922418233832 -- Train set accuracy = 85.06666666666666 % Valid set Accuracy = 74.25595238095238 %\n"
     ]
    },
    {
     "name": "stderr",
     "output_type": "stream",
     "text": [
      "100%|██████████| 375/375 [00:53<00:00,  7.04it/s]\n",
      "100%|██████████| 126/126 [00:06<00:00, 19.90it/s]\n"
     ]
    },
    {
     "name": "stdout",
     "output_type": "stream",
     "text": [
      "Epoch 27 --- Train loss = 1.8955287331338069 --- Valid loss = 0.8519071205611598 -- Train set accuracy = 87.55833333333334 % Valid set Accuracy = 76.11607142857143 %\n"
     ]
    },
    {
     "name": "stderr",
     "output_type": "stream",
     "text": [
      "100%|██████████| 375/375 [00:47<00:00,  7.81it/s]\n",
      "100%|██████████| 126/126 [00:05<00:00, 21.07it/s]\n"
     ]
    },
    {
     "name": "stdout",
     "output_type": "stream",
     "text": [
      "Epoch 28 --- Train loss = 1.885556063521001 --- Valid loss = 0.9046687456698155 -- Train set accuracy = 85.0 % Valid set Accuracy = 73.2390873015873 %\n"
     ]
    },
    {
     "name": "stderr",
     "output_type": "stream",
     "text": [
      "100%|██████████| 375/375 [00:47<00:00,  7.92it/s]\n",
      "100%|██████████| 126/126 [00:07<00:00, 17.88it/s]\n"
     ]
    },
    {
     "name": "stdout",
     "output_type": "stream",
     "text": [
      "Epoch 29 --- Train loss = 1.8711553437785582 --- Valid loss = 0.7601757616037469 -- Train set accuracy = 90.46666666666667 % Valid set Accuracy = 78.57142857142857 %\n"
     ]
    },
    {
     "name": "stderr",
     "output_type": "stream",
     "text": [
      "100%|██████████| 375/375 [00:53<00:00,  7.07it/s]\n",
      "100%|██████████| 126/126 [00:07<00:00, 17.83it/s]\n"
     ]
    },
    {
     "name": "stdout",
     "output_type": "stream",
     "text": [
      "Epoch 30 --- Train loss = 1.8832708739100608 --- Valid loss = 0.7719913690334559 -- Train set accuracy = 90.45 % Valid set Accuracy = 78.05059523809524 %\n"
     ]
    },
    {
     "name": "stderr",
     "output_type": "stream",
     "text": [
      "100%|██████████| 375/375 [00:56<00:00,  6.64it/s]\n",
      "100%|██████████| 126/126 [00:05<00:00, 21.83it/s]\n"
     ]
    },
    {
     "name": "stdout",
     "output_type": "stream",
     "text": [
      "Epoch 31 --- Train loss = 1.8965148983501914 --- Valid loss = 0.8751678813056746 -- Train set accuracy = 88.60833333333333 % Valid set Accuracy = 74.75198412698413 %\n"
     ]
    },
    {
     "name": "stderr",
     "output_type": "stream",
     "text": [
      "100%|██████████| 375/375 [00:51<00:00,  7.26it/s]\n",
      "100%|██████████| 126/126 [00:07<00:00, 16.11it/s]\n"
     ]
    },
    {
     "name": "stdout",
     "output_type": "stream",
     "text": [
      "Epoch 32 --- Train loss = 1.8564847711099193 --- Valid loss = 0.891325245894826 -- Train set accuracy = 86.925 % Valid set Accuracy = 73.31349206349206 %\n"
     ]
    },
    {
     "name": "stderr",
     "output_type": "stream",
     "text": [
      "100%|██████████| 375/375 [00:53<00:00,  6.99it/s]\n",
      "100%|██████████| 126/126 [00:07<00:00, 16.57it/s]\n"
     ]
    },
    {
     "name": "stdout",
     "output_type": "stream",
     "text": [
      "Epoch 33 --- Train loss = 1.840734914090645 --- Valid loss = 0.7976734761986809 -- Train set accuracy = 89.10833333333333 % Valid set Accuracy = 75.29761904761905 %\n"
     ]
    },
    {
     "name": "stderr",
     "output_type": "stream",
     "text": [
      "100%|██████████| 375/375 [00:57<00:00,  6.51it/s]\n",
      "100%|██████████| 126/126 [00:06<00:00, 18.13it/s]\n"
     ]
    },
    {
     "name": "stdout",
     "output_type": "stream",
     "text": [
      "Epoch 34 --- Train loss = 1.7958450256233351 --- Valid loss = 0.7209334555172173 -- Train set accuracy = 92.55833333333334 % Valid set Accuracy = 78.62103174603175 %\n"
     ]
    },
    {
     "name": "stderr",
     "output_type": "stream",
     "text": [
      "100%|██████████| 375/375 [00:55<00:00,  6.80it/s]\n",
      "100%|██████████| 126/126 [00:06<00:00, 18.51it/s]\n"
     ]
    },
    {
     "name": "stdout",
     "output_type": "stream",
     "text": [
      "Epoch 35 --- Train loss = 1.81726405510696 --- Valid loss = 0.8537332368707112 -- Train set accuracy = 90.2 % Valid set Accuracy = 75.27281746031746 %\n"
     ]
    },
    {
     "name": "stderr",
     "output_type": "stream",
     "text": [
      "100%|██████████| 375/375 [00:51<00:00,  7.35it/s]\n",
      "100%|██████████| 126/126 [00:08<00:00, 15.17it/s]\n"
     ]
    },
    {
     "name": "stdout",
     "output_type": "stream",
     "text": [
      "Epoch 36 --- Train loss = 1.8067917485415355 --- Valid loss = 0.9394638036370521 -- Train set accuracy = 85.85833333333333 % Valid set Accuracy = 73.04067460317461 %\n"
     ]
    },
    {
     "name": "stderr",
     "output_type": "stream",
     "text": [
      "100%|██████████| 375/375 [00:53<00:00,  6.96it/s]\n",
      "100%|██████████| 126/126 [00:07<00:00, 16.94it/s]\n"
     ]
    },
    {
     "name": "stdout",
     "output_type": "stream",
     "text": [
      "Epoch 37 --- Train loss = 1.82615208623598 --- Valid loss = 0.8076405906780395 -- Train set accuracy = 89.31666666666666 % Valid set Accuracy = 75.5704365079365 %\n"
     ]
    },
    {
     "name": "stderr",
     "output_type": "stream",
     "text": [
      "100%|██████████| 375/375 [00:56<00:00,  6.59it/s]\n",
      "100%|██████████| 126/126 [00:06<00:00, 18.98it/s]\n"
     ]
    },
    {
     "name": "stdout",
     "output_type": "stream",
     "text": [
      "Epoch 38 --- Train loss = 1.8048838673557956 --- Valid loss = 0.7601698742472452 -- Train set accuracy = 92.20833333333333 % Valid set Accuracy = 78.42261904761905 %\n"
     ]
    },
    {
     "name": "stderr",
     "output_type": "stream",
     "text": [
      "100%|██████████| 375/375 [00:55<00:00,  6.76it/s]\n",
      "100%|██████████| 126/126 [00:05<00:00, 21.62it/s]\n"
     ]
    },
    {
     "name": "stdout",
     "output_type": "stream",
     "text": [
      "Epoch 39 --- Train loss = 1.791041321552674 --- Valid loss = 0.8362404610420219 -- Train set accuracy = 89.01666666666667 % Valid set Accuracy = 74.33035714285714 %\n"
     ]
    },
    {
     "name": "stderr",
     "output_type": "stream",
     "text": [
      "100%|██████████| 375/375 [00:51<00:00,  7.29it/s]\n",
      "100%|██████████| 126/126 [00:07<00:00, 17.23it/s]\n"
     ]
    },
    {
     "name": "stdout",
     "output_type": "stream",
     "text": [
      "Epoch 40 --- Train loss = 1.7473247603144992 --- Valid loss = 0.7051194745591945 -- Train set accuracy = 94.49166666666666 % Valid set Accuracy = 79.81150793650794 %\n"
     ]
    },
    {
     "name": "stderr",
     "output_type": "stream",
     "text": [
      "100%|██████████| 375/375 [00:55<00:00,  6.72it/s]\n",
      "100%|██████████| 126/126 [00:07<00:00, 16.77it/s]\n"
     ]
    },
    {
     "name": "stdout",
     "output_type": "stream",
     "text": [
      "Epoch 41 --- Train loss = 1.7343711595506797 --- Valid loss = 0.7847121116588721 -- Train set accuracy = 92.1 % Valid set Accuracy = 77.40575396825396 %\n"
     ]
    },
    {
     "name": "stderr",
     "output_type": "stream",
     "text": [
      "100%|██████████| 375/375 [00:57<00:00,  6.57it/s]\n",
      "100%|██████████| 126/126 [00:06<00:00, 19.88it/s]\n"
     ]
    },
    {
     "name": "stdout",
     "output_type": "stream",
     "text": [
      "Epoch 42 --- Train loss = 1.7785026241536135 --- Valid loss = 0.737072515692757 -- Train set accuracy = 92.325 % Valid set Accuracy = 78.37301587301587 %\n"
     ]
    },
    {
     "name": "stderr",
     "output_type": "stream",
     "text": [
      "100%|██████████| 375/375 [00:52<00:00,  7.11it/s]\n",
      "100%|██████████| 126/126 [00:06<00:00, 20.48it/s]\n"
     ]
    },
    {
     "name": "stdout",
     "output_type": "stream",
     "text": [
      "Epoch 43 --- Train loss = 1.7455705774099481 --- Valid loss = 0.782631790475571 -- Train set accuracy = 92.76666666666667 % Valid set Accuracy = 76.83531746031746 %\n"
     ]
    },
    {
     "name": "stderr",
     "output_type": "stream",
     "text": [
      "100%|██████████| 375/375 [00:50<00:00,  7.46it/s]\n",
      "100%|██████████| 126/126 [00:07<00:00, 17.06it/s]\n"
     ]
    },
    {
     "name": "stdout",
     "output_type": "stream",
     "text": [
      "Epoch 44 --- Train loss = 1.7574360485272422 --- Valid loss = 0.8004125924261843 -- Train set accuracy = 91.70833333333333 % Valid set Accuracy = 75.64484126984127 %\n"
     ]
    },
    {
     "name": "stderr",
     "output_type": "stream",
     "text": [
      "100%|██████████| 375/375 [00:55<00:00,  6.74it/s]\n",
      "100%|██████████| 126/126 [00:06<00:00, 18.71it/s]\n"
     ]
    },
    {
     "name": "stdout",
     "output_type": "stream",
     "text": [
      "Epoch 45 --- Train loss = 1.7471135001207925 --- Valid loss = 0.6411155669452385 -- Train set accuracy = 95.25 % Valid set Accuracy = 81.96924603174604 %\n"
     ]
    },
    {
     "name": "stderr",
     "output_type": "stream",
     "text": [
      "100%|██████████| 375/375 [00:57<00:00,  6.52it/s]\n",
      "100%|██████████| 126/126 [00:06<00:00, 19.93it/s]\n"
     ]
    },
    {
     "name": "stdout",
     "output_type": "stream",
     "text": [
      "Epoch 46 --- Train loss = 1.7273896628427103 --- Valid loss = 0.7429177966474897 -- Train set accuracy = 93.675 % Valid set Accuracy = 77.9265873015873 %\n"
     ]
    },
    {
     "name": "stderr",
     "output_type": "stream",
     "text": [
      "100%|██████████| 375/375 [00:53<00:00,  7.03it/s]\n",
      "100%|██████████| 126/126 [00:06<00:00, 19.53it/s]\n"
     ]
    },
    {
     "name": "stdout",
     "output_type": "stream",
     "text": [
      "Epoch 47 --- Train loss = 1.736564419455756 --- Valid loss = 0.8143935188269291 -- Train set accuracy = 90.94166666666666 % Valid set Accuracy = 76.71130952380952 %\n"
     ]
    },
    {
     "name": "stderr",
     "output_type": "stream",
     "text": [
      "100%|██████████| 375/375 [00:51<00:00,  7.28it/s]\n",
      "100%|██████████| 126/126 [00:07<00:00, 17.32it/s]\n"
     ]
    },
    {
     "name": "stdout",
     "output_type": "stream",
     "text": [
      "Epoch 48 --- Train loss = 1.7342070113567067 --- Valid loss = 0.6786147765166204 -- Train set accuracy = 95.81666666666666 % Valid set Accuracy = 80.75396825396825 %\n"
     ]
    },
    {
     "name": "stderr",
     "output_type": "stream",
     "text": [
      "100%|██████████| 375/375 [00:53<00:00,  7.02it/s]\n",
      "100%|██████████| 126/126 [00:05<00:00, 21.21it/s]\n"
     ]
    },
    {
     "name": "stdout",
     "output_type": "stream",
     "text": [
      "Epoch 49 --- Train loss = 1.7306488162951734 --- Valid loss = 0.8912372318695725 -- Train set accuracy = 88.70833333333333 % Valid set Accuracy = 73.68551587301587 %\n"
     ]
    },
    {
     "name": "stderr",
     "output_type": "stream",
     "text": [
      "100%|██████████| 375/375 [00:51<00:00,  7.31it/s]\n",
      "100%|██████████| 126/126 [00:05<00:00, 21.97it/s]\n"
     ]
    },
    {
     "name": "stdout",
     "output_type": "stream",
     "text": [
      "Epoch 50 --- Train loss = 1.7230261953130621 --- Valid loss = 0.6788148372931853 -- Train set accuracy = 94.70833333333333 % Valid set Accuracy = 79.81150793650794 %\n"
     ]
    },
    {
     "name": "stderr",
     "output_type": "stream",
     "text": [
      "100%|██████████| 375/375 [00:45<00:00,  8.15it/s]\n",
      "100%|██████████| 126/126 [00:07<00:00, 17.98it/s]\n"
     ]
    },
    {
     "name": "stdout",
     "output_type": "stream",
     "text": [
      "Epoch 51 --- Train loss = 1.6947342959954836 --- Valid loss = 0.7149070519121873 -- Train set accuracy = 94.225 % Valid set Accuracy = 79.41468253968254 %\n"
     ]
    },
    {
     "name": "stderr",
     "output_type": "stream",
     "text": [
      "100%|██████████| 375/375 [00:51<00:00,  7.35it/s]\n",
      "100%|██████████| 126/126 [00:07<00:00, 17.06it/s]\n"
     ]
    },
    {
     "name": "stdout",
     "output_type": "stream",
     "text": [
      "Epoch 52 --- Train loss = 1.6908038485395898 --- Valid loss = 0.6023966424059949 -- Train set accuracy = 97.375 % Valid set Accuracy = 83.18452380952381 %\n"
     ]
    },
    {
     "name": "stderr",
     "output_type": "stream",
     "text": [
      "100%|██████████| 375/375 [00:53<00:00,  7.04it/s]\n",
      "100%|██████████| 126/126 [00:05<00:00, 21.28it/s]\n"
     ]
    },
    {
     "name": "stdout",
     "output_type": "stream",
     "text": [
      "Epoch 53 --- Train loss = 1.6641689087826432 --- Valid loss = 0.5748466747570904 -- Train set accuracy = 97.35833333333333 % Valid set Accuracy = 82.49007936507937 %\n"
     ]
    },
    {
     "name": "stderr",
     "output_type": "stream",
     "text": [
      "100%|██████████| 375/375 [00:48<00:00,  7.72it/s]\n",
      "100%|██████████| 126/126 [00:06<00:00, 19.30it/s]\n"
     ]
    },
    {
     "name": "stdout",
     "output_type": "stream",
     "text": [
      "Epoch 54 --- Train loss = 1.6338339843128318 --- Valid loss = 0.7294195993242629 -- Train set accuracy = 95.475 % Valid set Accuracy = 79.61309523809524 %\n"
     ]
    },
    {
     "name": "stderr",
     "output_type": "stream",
     "text": [
      "100%|██████████| 375/375 [00:46<00:00,  8.03it/s]\n",
      "100%|██████████| 126/126 [00:06<00:00, 18.39it/s]\n"
     ]
    }
   ],
   "source": [
    "def seed_everything(seed):\n",
    "    random.seed(seed)\n",
    "    os.environ['PYTHONHASHSEED'] = str(seed)\n",
    "    np.random.seed(seed)\n",
    "    torch.manual_seed(seed)\n",
    "    torch.cuda.manual_seed(seed)\n",
    "    torch.backends.cudnn.deterministic = True\n",
    "    torch.backends.cudnn.benchmark = True\n",
    "\n",
    "\n",
    "seed_everything(20)\n",
    "\n",
    "data = []\n",
    "data.extend(glob.glob('data/new_data/emg_data/*'))\n",
    "\n",
    "\n",
    "index = np.random.permutation(len(data))\n",
    "data = np.array(data)[index]\n",
    "train_size = 12000\n",
    "test_size = 4500\n",
    "val_size = data.shape[0]-train_size - test_size\n",
    "trainset = data[:train_size]\n",
    "testset = data[train_size:train_size+test_size]\n",
    "valset = data[train_size+test_size:]\n",
    "\n",
    "train_set = SkeletonAndEMGData1(trainset)\n",
    "test_set = SkeletonAndEMGData1(testset)\n",
    "val_set = SkeletonAndEMGData1(valset)\n",
    "\n",
    "train_loader = DataLoader(train_set, batch_size=32,\n",
    "                          drop_last=True, num_workers=3, shuffle=True)\n",
    "valid_loader = DataLoader(val_set, batch_size=32,\n",
    "                          drop_last=True, num_workers=3)\n",
    "test_loader = DataLoader(test_set, batch_size=32,\n",
    "                         drop_last=True, num_workers=3)\n",
    "\n",
    "# model = model = IncepSE(num_class=41,ic = 8,depth = 5,bottle_neck=32,oc_filter=32,dropout=0).to(device).double()\n",
    "model = IncepSE(num_class=41, ic=8, depth=8, bottle_neck=32,\n",
    "                oc_filter=32, dropout=0.5).to(device).double()\n",
    "\n",
    "log = Log(\"log/InceptionNet1\", \"vit_emg\")\n",
    "\n",
    "\n",
    "criterion = nn.CrossEntropyLoss()\n",
    "optimizer = torch.optim.Adam(model.parameters())\n",
    "stepLR = torch.optim.lr_scheduler.ReduceLROnPlateau(optimizer,patience=5,factor = 0.8, threshold=1e-5)\n",
    "print(3,32,32,0,\"step\",20,\"gamma\",0.8)\n",
    "epochs = 500\n",
    "train_losses = []\n",
    "valid_losses = []\n",
    "train_accuracy = []\n",
    "val_accuracy = []\n",
    "\n",
    "train_f1score_weighted = []\n",
    "val_f1scroe_weighted = []\n",
    "\n",
    "train_f1score_micro = []\n",
    "val_f1scroe_micro = []\n",
    "\n",
    "test_log = []\n",
    "\n",
    "best_f1 = -1000\n",
    "\n",
    "for epoch in range(epochs):\n",
    "    # training\n",
    "    model, train_loss, optimizer = train(\n",
    "        train_loader, model, criterion, optimizer, device)\n",
    "\n",
    "    # validation\n",
    "    with torch.no_grad():\n",
    "        model, valid_loss = validate(valid_loader, model, criterion, device)\n",
    "    stepLR.step(valid_loss)\n",
    "\n",
    "    train_acc, f1_score_weighted, f1_score_micro = get_accuracy(\n",
    "        model, train_loader, device)\n",
    "    \n",
    "    # save f1 score\n",
    "    train_f1score_weighted.append(f1_score_weighted)\n",
    "    train_f1score_micro.append(f1_score_micro)\n",
    "\n",
    "    val_acc, f1_score_weighted, f1_score_micro = get_accuracy(\n",
    "        model, valid_loader, device)\n",
    "    # save f1 score\n",
    "    if best_f1 < f1_score_micro:\n",
    "        torch.save(model.state_dict(),\n",
    "                   f\"log/InceptionNet/best_model{epoch}.pth\")\n",
    "        log.save_model(model)\n",
    "        best_f1 = f1_score_micro\n",
    "    val_f1scroe_weighted.append(f1_score_weighted)\n",
    "    val_f1scroe_micro.append(f1_score_micro)\n",
    "    print(\"Epoch {} --- Train loss = {} --- Valid loss = {} -- Train set accuracy = {} % Valid set Accuracy = {} %\".format\n",
    "          (epoch+1, train_loss, valid_loss, train_acc, val_acc))\n",
    "    # save loss value\n",
    "    train_losses.append(train_loss)\n",
    "    valid_losses.append(valid_loss)\n",
    "\n",
    "    # save accuracy\n",
    "    train_accuracy.append(train_acc)\n",
    "    val_accuracy.append(val_acc)\n",
    "\n",
    "    test_log.append(get_accuracy(model, test_loader, device))\n",
    "\n",
    "    log.save_training_log(train_losses, train_accuracy,\n",
    "                          train_f1score_weighted, train_f1score_micro)\n",
    "    log.save_val_log(valid_losses, val_accuracy,\n",
    "                     val_f1scroe_weighted, val_f1scroe_micro)\n",
    "    log.save_test_log(test_log)\n"
   ]
  },
  {
   "cell_type": "code",
   "execution_count": null,
   "metadata": {},
   "outputs": [],
   "source": []
  }
 ],
 "metadata": {
  "kernelspec": {
   "display_name": "anhnct",
   "language": "python",
   "name": "python3"
  },
  "language_info": {
   "codemirror_mode": {
    "name": "ipython",
    "version": 3
   },
   "file_extension": ".py",
   "mimetype": "text/x-python",
   "name": "python",
   "nbconvert_exporter": "python",
   "pygments_lexer": "ipython3",
   "version": "3.9.17"
  }
 },
 "nbformat": 4,
 "nbformat_minor": 2
}
