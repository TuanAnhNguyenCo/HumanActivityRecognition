{
 "cells": [
  {
   "cell_type": "code",
   "execution_count": 1,
   "metadata": {},
   "outputs": [
    {
     "name": "stderr",
     "output_type": "stream",
     "text": [
      "/mnt/disk1/anaconda3/envs/anhnct/lib/python3.9/site-packages/tqdm/auto.py:21: TqdmWarning: IProgress not found. Please update jupyter and ipywidgets. See https://ipywidgets.readthedocs.io/en/stable/user_install.html\n",
      "  from .autonotebook import tqdm as notebook_tqdm\n"
     ]
    }
   ],
   "source": [
    "import os\n",
    "import cv2\n",
    "import numpy as np\n",
    "import math\n",
    "import mediapipe as mp\n",
    "from matplotlib import pyplot as plt\n",
    "import glob\n",
    "from util.img2bone import HandDetector\n",
    "import os\n",
    "import numpy as np\n",
    "import cv2\n",
    "\n",
    "import torch\n",
    "import torch.nn as nn\n",
    "import torch.nn.functional as F\n",
    "from torchvision import transforms\n",
    "from torch.utils.data import Dataset,DataLoader\n",
    "from PIL import Image\n",
    "import os\n",
    "import glob\n",
    "import numpy as np\n",
    "from tqdm.auto import tqdm\n",
    "from loader.dataloader import SkeletonData\n"
   ]
  },
  {
   "cell_type": "code",
   "execution_count": 2,
   "metadata": {},
   "outputs": [],
   "source": [
    "def find_adjacency_matrix():\n",
    "    mp_hands = mp.solutions.hands\n",
    "    hands = mp_hands.Hands()\n",
    "    adj = torch.zeros((21,21))\n",
    "    for connection in mp_hands.HAND_CONNECTIONS:\n",
    "        adj[connection[0],connection[1]] = 1\n",
    "        adj[connection[1],connection[0]] = 1\n",
    "    return adj "
   ]
  },
  {
   "cell_type": "code",
   "execution_count": 3,
   "metadata": {},
   "outputs": [],
   "source": [
    "device = torch.device('cuda:0' if torch.cuda.is_available() else 'cpu')\n",
    "\n",
    "class GraphConvolution(nn.Module):\n",
    "\tdef __init__(self, input_dim, output_dim, num_vetex, act=F.relu, dropout=0.5, bias=True):\n",
    "\t\tsuper(GraphConvolution, self).__init__()\n",
    "\n",
    "\t\tself.alpha = 1.\n",
    "\n",
    "\t\tself.act = act\n",
    "\t\tself.dropout = nn.Dropout(dropout)\n",
    "\t\tself.weight = nn.Parameter(torch.randn(input_dim, output_dim)).to(device)\n",
    "\t\tif bias:\n",
    "\t\t\tself.bias = nn.Parameter(torch.randn(output_dim)).to(device)\n",
    "\t\telse:\n",
    "\t\t\tself.bias = None\n",
    "\n",
    "\t\tfor w in [self.weight]:\n",
    "\t\t\tnn.init.xavier_normal_(w)\n",
    "\n",
    "\tdef normalize(self, m):\n",
    "\t\trowsum = torch.sum(m, 0)\n",
    "\t\tr_inv = torch.pow(rowsum, -0.5)\n",
    "\t\tr_mat_inv = torch.diag(r_inv).float()\n",
    "\n",
    "\t\tm_norm = torch.mm(r_mat_inv, m)\n",
    "\t\tm_norm = torch.mm(m_norm, r_mat_inv)\n",
    "\n",
    "\t\treturn m_norm\n",
    "\n",
    "\tdef forward(self, adj, x):\n",
    "\n",
    "\t\tx = self.dropout(x)\n",
    "\n",
    "\t\t# K-ordered Chebyshev polynomial\n",
    "\t\tadj_norm = self.normalize(adj)\n",
    "\t\tsqr_norm = self.normalize(torch.mm(adj,adj))\n",
    "\t\tm_norm = (self.alpha*adj_norm + (1.-self.alpha)*sqr_norm).to(device)\n",
    "\n",
    "\t\tx_tmp = torch.einsum('abcd,de->abce', x, self.weight)\n",
    "\t\tx_out = torch.einsum('ij,abid->abjd', m_norm, x_tmp)\n",
    "\t\tif self.bias is not None:\n",
    "\t\t\tx_out += self.bias\n",
    "\t\tx_out = self.act(x_out)\n",
    "  \n",
    "\t\t\n",
    "\t\treturn x_out\n",
    "\t\t\n",
    "\t\t\n",
    "\n",
    "class StandConvolution(nn.Module):\n",
    "\tdef __init__(self, dims, num_classes, dropout):\n",
    "\t\tsuper(StandConvolution, self).__init__()\n",
    "\n",
    "\t\tself.dropout = nn.Dropout(dropout)\n",
    "\t\tself.conv = nn.Sequential(\n",
    "\t\t\t\t\t\t\t\t   nn.Conv2d(dims[0], dims[1], kernel_size=5, stride=2),\n",
    "\t\t\t\t\t\t\t\t   nn.InstanceNorm2d(dims[1]),\n",
    "\t\t\t\t\t\t\t\t   nn.ReLU(inplace=True),\n",
    "\t\t\t\t\t\t\t\t   #nn.AvgPool2d(3, stride=2),\n",
    "\t\t\t\t\t\t\t\t   nn.Conv2d(dims[1], dims[2], kernel_size=5, stride=2),\n",
    "\t\t\t\t\t\t\t\t   nn.InstanceNorm2d(dims[2]),\n",
    "\t\t\t\t\t\t\t\t   nn.ReLU(inplace=True),\n",
    "\t\t\t\t\t\t\t\t   #nn.AvgPool2d(3, stride=2),\n",
    "\t\t\t\t\t\t\t\t   nn.Conv2d(dims[2], dims[3], kernel_size=5, stride=2),\n",
    "\t\t\t\t\t\t\t\t   nn.InstanceNorm2d(dims[3]),\n",
    "\t\t\t\t\t\t\t\t   nn.ReLU(inplace=True),\n",
    "\t\t\t\t\t\t\t\t   #nn.AvgPool2d(3, stride=2)\n",
    "\t\t\t\t\t\t\t\t   ).to(device)\n",
    "\n",
    "\t\tself.fc = nn.Linear(dims[3]*5*5, num_classes).to(device)\n",
    "\n",
    "\tdef forward(self, x):\n",
    "\t\tx = self.dropout(x.permute(0,3,1,2))# (1,9,62,63)\n",
    "\t\tx_tmp = self.conv(x)\n",
    "\t\t\n",
    "\t\tx_out = self.fc(x_tmp.view(x.size(0), -1))\n",
    "\n",
    "\t\treturn x_out\n"
   ]
  },
  {
   "cell_type": "code",
   "execution_count": 4,
   "metadata": {},
   "outputs": [],
   "source": [
    "class GGCN(nn.Module):\n",
    "\tdef __init__(self, adj, num_classes, gc_dims, sc_dims, dropout=0.5):\n",
    "\t\tsuper(GGCN, self).__init__()\n",
    "\n",
    "\t\t\n",
    "\t\tadj = adj + torch.eye(adj.size(0)).to(adj).detach()\n",
    "\t\tident = torch.eye(adj.size(0)).to(adj)\n",
    "\t\tzeros = torch.zeros(adj.size(0), adj.size(1)).to(adj)\n",
    "\t\tself.adj = torch.cat([torch.cat([adj, ident, zeros], 1),\n",
    "\t\t\t\t\t\t\t  torch.cat([ident, adj, ident], 1),\n",
    "\t\t\t\t\t\t\t  torch.cat([zeros, ident, adj], 1)], 0).float()\n",
    "\t\n",
    "\t\tself.gcl = GraphConvolution(gc_dims[0], gc_dims[1], 21, dropout=dropout)\n",
    "\t\tself.conv= StandConvolution(sc_dims, num_classes, dropout=dropout)\n",
    "\n",
    "\tdef forward(self, x):\n",
    "\t\t# x: \n",
    "\t\tx = torch.cat([x[:,:-2],x[:,1:-1],x[:,2:]],dim = 2)\n",
    "\t\tmulti_conv = self.gcl(self.adj, x) \n",
    "\t\tlogit = self.conv(multi_conv) # (1,62,63,9)\n",
    "\t\treturn logit"
   ]
  },
  {
   "cell_type": "code",
   "execution_count": 5,
   "metadata": {},
   "outputs": [],
   "source": [
    "def train(train_loader,model,criterion,optimizer,device):\n",
    "    running_loss = 0\n",
    "    model.train()\n",
    "   \n",
    "    for images,labels in tqdm(train_loader):\n",
    "        \n",
    "        images = images.to(device)\n",
    "        labels = labels.to(device)\n",
    "        \n",
    "        # forward\n",
    "        outputs = model(images)\n",
    "        loss = criterion(outputs,labels)\n",
    "        running_loss += loss.item()\n",
    "        \n",
    "        #backward\n",
    "        optimizer.zero_grad()\n",
    "        loss.backward()\n",
    "        optimizer.step()\n",
    "        \n",
    "        \n",
    "    \n",
    "    epoch_loss = running_loss / (len(train_loader))\n",
    "    return model,epoch_loss,optimizer\n",
    "\n",
    "def validate(valid_loader,model,criterion,device):\n",
    "    model.eval()\n",
    "    running_loss = 0\n",
    "   \n",
    "    \n",
    "    for images,labels in tqdm(valid_loader):\n",
    "       \n",
    "        images = images.to(device)\n",
    "        labels = labels.to(device)\n",
    "        \n",
    "        # forward\n",
    "        outputs = model(images)\n",
    "        loss = criterion(outputs,labels)\n",
    "        running_loss += loss.item()\n",
    "\n",
    "    epoch_loss = running_loss / (len(valid_loader))\n",
    "    return model,epoch_loss\n",
    "\n",
    "def get_accuracy(model,data_loader,device):\n",
    "    correct = 0\n",
    "    total = 0\n",
    "    \n",
    "    with torch.no_grad():\n",
    "        model.eval()\n",
    "        for images, labels in data_loader:\n",
    "            images = images.to(device)\n",
    "            labels = labels.to(device)\n",
    "            \n",
    "            outputs = model(images)\n",
    "            predicted = torch.argmax(torch.softmax(outputs,1),1)\n",
    "            total += labels.shape[0]\n",
    "            correct += (predicted == labels).sum().item()\n",
    "    return correct*100/total\n",
    "\n",
    "def plot_losses(train_losses,valid_losses):\n",
    "    train_losses = np.array(train_losses)\n",
    "    valid_losses = np.array(valid_losses)\n",
    "    \n",
    "    fig, ax1 = plt.subplots(1, 1)\n",
    "    ax1.plot(train_losses, color=\"blue\", label=\"train_loss\")\n",
    "    ax1.plot(valid_losses, color=\"red\", label=\"valid_loss\")\n",
    "    ax1.set(title=\"Loss over epochs\",\n",
    "            xlabel=\"Epoch\",\n",
    "            ylabel=\"Loss\")\n",
    "    ax1.legend()\n",
    "    \n",
    "def plot_accuracy(train_acc,valid_acc):\n",
    "    train_acc = np.array(train_acc)\n",
    "    valid_acc = np.array(valid_acc)\n",
    "    \n",
    "    fig, ax1 = plt.subplots(1, 1)\n",
    "    ax1.plot(train_acc, color=\"blue\", label=\"train_acc\")\n",
    "    ax1.plot(valid_acc, color=\"red\", label=\"val_acc\")\n",
    "    ax1.set(title=\"Accuracy over epochs\",\n",
    "            xlabel=\"Epoch\",\n",
    "            ylabel=\"Accuracy\")\n",
    "    ax1.legend()"
   ]
  },
  {
   "cell_type": "code",
   "execution_count": 10,
   "metadata": {},
   "outputs": [
    {
     "name": "stdout",
     "output_type": "stream",
     "text": [
      "tensor([33, 10, 10, 36, 38, 39, 35])\n",
      "tensor([40, 33, 10, 37, 36, 38, 39, 35])\n",
      "tensor([33, 10, 36, 35])\n"
     ]
    }
   ],
   "source": [
    "train_set = SkeletonData(\"data/108_new/train.pkl\")\n",
    "val_set = SkeletonData(\"data/108_new/val.pkl\")\n",
    "test_set = SkeletonData(\"data/108_new/test.pkl\")\n",
    "\n",
    "train_loader = DataLoader(train_set,batch_size = 128,drop_last = False)\n",
    "valid_loader = DataLoader(val_set,batch_size = 512,drop_last = False)\n",
    "test_loader = DataLoader(test_set,batch_size = 512,drop_last = False)"
   ]
  },
  {
   "cell_type": "code",
   "execution_count": 12,
   "metadata": {},
   "outputs": [
    {
     "name": "stderr",
     "output_type": "stream",
     "text": [
      "100%|██████████| 1/1 [00:00<00:00, 135.17it/s]\n",
      "100%|██████████| 1/1 [00:00<00:00, 296.40it/s]\n"
     ]
    },
    {
     "name": "stdout",
     "output_type": "stream",
     "text": [
      "Epoch 1 --- Train loss = 3.576970338821411 --- Valid loss = 3.2583107948303223 -- Train set accuracy = 14.285714285714286 % Valid set Accuracy = 0.0 %\n"
     ]
    },
    {
     "name": "stderr",
     "output_type": "stream",
     "text": [
      "100%|██████████| 1/1 [00:00<00:00, 141.06it/s]\n",
      "100%|██████████| 1/1 [00:00<00:00, 309.18it/s]\n"
     ]
    },
    {
     "name": "stdout",
     "output_type": "stream",
     "text": [
      "Epoch 2 --- Train loss = 3.0643270015716553 --- Valid loss = 2.978947401046753 -- Train set accuracy = 14.285714285714286 % Valid set Accuracy = 12.5 %\n"
     ]
    },
    {
     "name": "stderr",
     "output_type": "stream",
     "text": [
      "100%|██████████| 1/1 [00:00<00:00, 146.88it/s]\n",
      "100%|██████████| 1/1 [00:00<00:00, 263.86it/s]\n"
     ]
    },
    {
     "name": "stdout",
     "output_type": "stream",
     "text": [
      "Epoch 3 --- Train loss = 2.774655818939209 --- Valid loss = 2.847449541091919 -- Train set accuracy = 28.571428571428573 % Valid set Accuracy = 12.5 %\n"
     ]
    },
    {
     "name": "stderr",
     "output_type": "stream",
     "text": [
      "100%|██████████| 1/1 [00:00<00:00, 149.42it/s]\n",
      "100%|██████████| 1/1 [00:00<00:00, 304.73it/s]\n"
     ]
    },
    {
     "name": "stdout",
     "output_type": "stream",
     "text": [
      "Epoch 4 --- Train loss = 2.009899616241455 --- Valid loss = 2.860274314880371 -- Train set accuracy = 28.571428571428573 % Valid set Accuracy = 12.5 %\n"
     ]
    },
    {
     "name": "stderr",
     "output_type": "stream",
     "text": [
      "100%|██████████| 1/1 [00:00<00:00, 161.29it/s]\n",
      "100%|██████████| 1/1 [00:00<00:00, 306.53it/s]\n"
     ]
    },
    {
     "name": "stdout",
     "output_type": "stream",
     "text": [
      "Epoch 5 --- Train loss = 1.8919811248779297 --- Valid loss = 2.930762529373169 -- Train set accuracy = 28.571428571428573 % Valid set Accuracy = 12.5 %\n"
     ]
    },
    {
     "name": "stderr",
     "output_type": "stream",
     "text": [
      "100%|██████████| 1/1 [00:00<00:00, 153.11it/s]\n",
      "100%|██████████| 1/1 [00:00<00:00, 310.62it/s]\n"
     ]
    },
    {
     "name": "stdout",
     "output_type": "stream",
     "text": [
      "Epoch 6 --- Train loss = 2.1113016605377197 --- Valid loss = 3.0272912979125977 -- Train set accuracy = 28.571428571428573 % Valid set Accuracy = 12.5 %\n"
     ]
    },
    {
     "name": "stderr",
     "output_type": "stream",
     "text": [
      "100%|██████████| 1/1 [00:00<00:00, 159.85it/s]\n",
      "100%|██████████| 1/1 [00:00<00:00, 325.37it/s]\n"
     ]
    },
    {
     "name": "stdout",
     "output_type": "stream",
     "text": [
      "Epoch 7 --- Train loss = 2.0386312007904053 --- Valid loss = 3.1241579055786133 -- Train set accuracy = 28.571428571428573 % Valid set Accuracy = 12.5 %\n"
     ]
    },
    {
     "name": "stderr",
     "output_type": "stream",
     "text": [
      "100%|██████████| 1/1 [00:00<00:00, 161.23it/s]\n",
      "100%|██████████| 1/1 [00:00<00:00, 323.29it/s]\n"
     ]
    },
    {
     "name": "stdout",
     "output_type": "stream",
     "text": [
      "Epoch 8 --- Train loss = 1.9557768106460571 --- Valid loss = 3.215517044067383 -- Train set accuracy = 28.571428571428573 % Valid set Accuracy = 12.5 %\n"
     ]
    },
    {
     "name": "stderr",
     "output_type": "stream",
     "text": [
      "100%|██████████| 1/1 [00:00<00:00, 169.37it/s]\n",
      "100%|██████████| 1/1 [00:00<00:00, 324.03it/s]\n"
     ]
    },
    {
     "name": "stdout",
     "output_type": "stream",
     "text": [
      "Epoch 9 --- Train loss = 1.701180100440979 --- Valid loss = 3.307643413543701 -- Train set accuracy = 28.571428571428573 % Valid set Accuracy = 12.5 %\n"
     ]
    },
    {
     "name": "stderr",
     "output_type": "stream",
     "text": [
      "100%|██████████| 1/1 [00:00<00:00, 171.53it/s]\n",
      "100%|██████████| 1/1 [00:00<00:00, 344.47it/s]\n"
     ]
    },
    {
     "name": "stdout",
     "output_type": "stream",
     "text": [
      "Epoch 10 --- Train loss = 1.8123027086257935 --- Valid loss = 3.3915822505950928 -- Train set accuracy = 28.571428571428573 % Valid set Accuracy = 12.5 %\n"
     ]
    },
    {
     "name": "stderr",
     "output_type": "stream",
     "text": [
      "100%|██████████| 1/1 [00:00<00:00, 174.28it/s]\n",
      "100%|██████████| 1/1 [00:00<00:00, 374.22it/s]\n"
     ]
    },
    {
     "name": "stdout",
     "output_type": "stream",
     "text": [
      "Epoch 11 --- Train loss = 1.8712809085845947 --- Valid loss = 3.4642128944396973 -- Train set accuracy = 28.571428571428573 % Valid set Accuracy = 12.5 %\n"
     ]
    },
    {
     "name": "stderr",
     "output_type": "stream",
     "text": [
      "100%|██████████| 1/1 [00:00<00:00, 172.17it/s]\n",
      "100%|██████████| 1/1 [00:00<00:00, 353.09it/s]\n"
     ]
    },
    {
     "name": "stdout",
     "output_type": "stream",
     "text": [
      "Epoch 12 --- Train loss = 1.82351815700531 --- Valid loss = 3.5323829650878906 -- Train set accuracy = 28.571428571428573 % Valid set Accuracy = 12.5 %\n"
     ]
    },
    {
     "name": "stderr",
     "output_type": "stream",
     "text": [
      "100%|██████████| 1/1 [00:00<00:00, 155.87it/s]\n",
      "100%|██████████| 1/1 [00:00<00:00, 357.14it/s]\n"
     ]
    },
    {
     "name": "stdout",
     "output_type": "stream",
     "text": [
      "Epoch 13 --- Train loss = 1.7804195880889893 --- Valid loss = 3.5988943576812744 -- Train set accuracy = 28.571428571428573 % Valid set Accuracy = 12.5 %\n"
     ]
    },
    {
     "name": "stderr",
     "output_type": "stream",
     "text": [
      "100%|██████████| 1/1 [00:00<00:00, 169.86it/s]\n",
      "100%|██████████| 1/1 [00:00<00:00, 399.61it/s]\n"
     ]
    },
    {
     "name": "stdout",
     "output_type": "stream",
     "text": [
      "Epoch 14 --- Train loss = 1.9176712036132812 --- Valid loss = 3.657748222351074 -- Train set accuracy = 28.571428571428573 % Valid set Accuracy = 12.5 %\n"
     ]
    },
    {
     "name": "stderr",
     "output_type": "stream",
     "text": [
      "100%|██████████| 1/1 [00:00<00:00, 170.83it/s]\n",
      "100%|██████████| 1/1 [00:00<00:00, 330.91it/s]\n"
     ]
    },
    {
     "name": "stdout",
     "output_type": "stream",
     "text": [
      "Epoch 15 --- Train loss = 1.703122854232788 --- Valid loss = 3.7127792835235596 -- Train set accuracy = 28.571428571428573 % Valid set Accuracy = 12.5 %\n"
     ]
    },
    {
     "name": "stderr",
     "output_type": "stream",
     "text": [
      "100%|██████████| 1/1 [00:00<00:00, 134.95it/s]\n",
      "100%|██████████| 1/1 [00:00<00:00, 392.43it/s]\n"
     ]
    },
    {
     "name": "stdout",
     "output_type": "stream",
     "text": [
      "Epoch 16 --- Train loss = 1.718017816543579 --- Valid loss = 3.7625486850738525 -- Train set accuracy = 0.0 % Valid set Accuracy = 12.5 %\n"
     ]
    },
    {
     "name": "stderr",
     "output_type": "stream",
     "text": [
      "100%|██████████| 1/1 [00:00<00:00, 182.35it/s]\n",
      "100%|██████████| 1/1 [00:00<00:00, 430.19it/s]\n"
     ]
    },
    {
     "name": "stdout",
     "output_type": "stream",
     "text": [
      "Epoch 17 --- Train loss = 1.8659145832061768 --- Valid loss = 3.810631275177002 -- Train set accuracy = 0.0 % Valid set Accuracy = 12.5 %\n"
     ]
    },
    {
     "name": "stderr",
     "output_type": "stream",
     "text": [
      "100%|██████████| 1/1 [00:00<00:00, 194.04it/s]\n",
      "100%|██████████| 1/1 [00:00<00:00, 356.26it/s]\n"
     ]
    },
    {
     "name": "stdout",
     "output_type": "stream",
     "text": [
      "Epoch 18 --- Train loss = 1.8979483842849731 --- Valid loss = 3.8557424545288086 -- Train set accuracy = 0.0 % Valid set Accuracy = 12.5 %\n"
     ]
    },
    {
     "name": "stderr",
     "output_type": "stream",
     "text": [
      "100%|██████████| 1/1 [00:00<00:00, 170.81it/s]\n",
      "100%|██████████| 1/1 [00:00<00:00, 371.80it/s]\n"
     ]
    },
    {
     "name": "stdout",
     "output_type": "stream",
     "text": [
      "Epoch 19 --- Train loss = 1.9527925252914429 --- Valid loss = 3.8902528285980225 -- Train set accuracy = 0.0 % Valid set Accuracy = 12.5 %\n"
     ]
    },
    {
     "name": "stderr",
     "output_type": "stream",
     "text": [
      "100%|██████████| 1/1 [00:00<00:00, 162.02it/s]\n",
      "100%|██████████| 1/1 [00:00<00:00, 416.60it/s]\n"
     ]
    },
    {
     "name": "stdout",
     "output_type": "stream",
     "text": [
      "Epoch 20 --- Train loss = 1.760746955871582 --- Valid loss = 3.9259767532348633 -- Train set accuracy = 0.0 % Valid set Accuracy = 12.5 %\n"
     ]
    },
    {
     "name": "stderr",
     "output_type": "stream",
     "text": [
      "100%|██████████| 1/1 [00:00<00:00, 156.60it/s]\n",
      "100%|██████████| 1/1 [00:00<00:00, 389.73it/s]\n"
     ]
    },
    {
     "name": "stdout",
     "output_type": "stream",
     "text": [
      "Epoch 21 --- Train loss = 1.8987417221069336 --- Valid loss = 3.95367169380188 -- Train set accuracy = 0.0 % Valid set Accuracy = 12.5 %\n"
     ]
    },
    {
     "name": "stderr",
     "output_type": "stream",
     "text": [
      "100%|██████████| 1/1 [00:00<00:00, 163.90it/s]\n",
      "100%|██████████| 1/1 [00:00<00:00, 359.29it/s]\n"
     ]
    },
    {
     "name": "stdout",
     "output_type": "stream",
     "text": [
      "Epoch 22 --- Train loss = 1.907375454902649 --- Valid loss = 3.9809134006500244 -- Train set accuracy = 0.0 % Valid set Accuracy = 12.5 %\n"
     ]
    },
    {
     "name": "stderr",
     "output_type": "stream",
     "text": [
      "100%|██████████| 1/1 [00:00<00:00, 166.71it/s]\n",
      "100%|██████████| 1/1 [00:00<00:00, 377.90it/s]\n"
     ]
    },
    {
     "name": "stdout",
     "output_type": "stream",
     "text": [
      "Epoch 23 --- Train loss = 1.7742984294891357 --- Valid loss = 4.001198768615723 -- Train set accuracy = 0.0 % Valid set Accuracy = 12.5 %\n"
     ]
    },
    {
     "name": "stderr",
     "output_type": "stream",
     "text": [
      "100%|██████████| 1/1 [00:00<00:00, 163.40it/s]\n",
      "100%|██████████| 1/1 [00:00<00:00, 408.96it/s]\n"
     ]
    },
    {
     "name": "stdout",
     "output_type": "stream",
     "text": [
      "Epoch 24 --- Train loss = 2.019768714904785 --- Valid loss = 4.022531032562256 -- Train set accuracy = 14.285714285714286 % Valid set Accuracy = 12.5 %\n"
     ]
    },
    {
     "name": "stderr",
     "output_type": "stream",
     "text": [
      "100%|██████████| 1/1 [00:00<00:00, 145.93it/s]\n",
      "100%|██████████| 1/1 [00:00<00:00, 385.36it/s]\n"
     ]
    },
    {
     "name": "stdout",
     "output_type": "stream",
     "text": [
      "Epoch 25 --- Train loss = 1.6780508756637573 --- Valid loss = 4.042186737060547 -- Train set accuracy = 28.571428571428573 % Valid set Accuracy = 12.5 %\n"
     ]
    },
    {
     "name": "stderr",
     "output_type": "stream",
     "text": [
      "100%|██████████| 1/1 [00:00<00:00, 173.91it/s]\n",
      "100%|██████████| 1/1 [00:00<00:00, 392.36it/s]\n"
     ]
    },
    {
     "name": "stdout",
     "output_type": "stream",
     "text": [
      "Epoch 26 --- Train loss = 1.6978187561035156 --- Valid loss = 4.0597004890441895 -- Train set accuracy = 28.571428571428573 % Valid set Accuracy = 12.5 %\n"
     ]
    },
    {
     "name": "stderr",
     "output_type": "stream",
     "text": [
      "100%|██████████| 1/1 [00:00<00:00, 163.19it/s]\n",
      "100%|██████████| 1/1 [00:00<00:00, 416.72it/s]\n"
     ]
    },
    {
     "name": "stdout",
     "output_type": "stream",
     "text": [
      "Epoch 27 --- Train loss = 1.8347431421279907 --- Valid loss = 4.073700904846191 -- Train set accuracy = 28.571428571428573 % Valid set Accuracy = 12.5 %\n"
     ]
    },
    {
     "name": "stderr",
     "output_type": "stream",
     "text": [
      "100%|██████████| 1/1 [00:00<00:00, 146.41it/s]\n",
      "100%|██████████| 1/1 [00:00<00:00, 386.11it/s]\n"
     ]
    },
    {
     "name": "stdout",
     "output_type": "stream",
     "text": [
      "Epoch 28 --- Train loss = 1.6689021587371826 --- Valid loss = 4.086935520172119 -- Train set accuracy = 28.571428571428573 % Valid set Accuracy = 12.5 %\n"
     ]
    },
    {
     "name": "stderr",
     "output_type": "stream",
     "text": [
      "100%|██████████| 1/1 [00:00<00:00, 116.59it/s]\n",
      "100%|██████████| 1/1 [00:00<00:00, 255.67it/s]\n"
     ]
    },
    {
     "name": "stdout",
     "output_type": "stream",
     "text": [
      "Epoch 29 --- Train loss = 2.099936008453369 --- Valid loss = 4.098018169403076 -- Train set accuracy = 28.571428571428573 % Valid set Accuracy = 12.5 %\n"
     ]
    },
    {
     "name": "stderr",
     "output_type": "stream",
     "text": [
      "100%|██████████| 1/1 [00:00<00:00, 115.77it/s]\n",
      "100%|██████████| 1/1 [00:00<00:00, 252.47it/s]\n"
     ]
    },
    {
     "name": "stdout",
     "output_type": "stream",
     "text": [
      "Epoch 30 --- Train loss = 1.6169215440750122 --- Valid loss = 4.10741662979126 -- Train set accuracy = 28.571428571428573 % Valid set Accuracy = 12.5 %\n"
     ]
    },
    {
     "name": "stderr",
     "output_type": "stream",
     "text": [
      "100%|██████████| 1/1 [00:00<00:00, 120.17it/s]\n",
      "100%|██████████| 1/1 [00:00<00:00, 251.41it/s]\n"
     ]
    },
    {
     "name": "stdout",
     "output_type": "stream",
     "text": [
      "Epoch 31 --- Train loss = 1.806649923324585 --- Valid loss = 4.117376804351807 -- Train set accuracy = 28.571428571428573 % Valid set Accuracy = 12.5 %\n"
     ]
    },
    {
     "name": "stderr",
     "output_type": "stream",
     "text": [
      "100%|██████████| 1/1 [00:00<00:00, 123.16it/s]\n",
      "100%|██████████| 1/1 [00:00<00:00, 257.67it/s]\n"
     ]
    },
    {
     "name": "stdout",
     "output_type": "stream",
     "text": [
      "Epoch 32 --- Train loss = 1.7790597677230835 --- Valid loss = 4.128647804260254 -- Train set accuracy = 28.571428571428573 % Valid set Accuracy = 12.5 %\n"
     ]
    },
    {
     "name": "stderr",
     "output_type": "stream",
     "text": [
      "100%|██████████| 1/1 [00:00<00:00, 124.80it/s]\n",
      "100%|██████████| 1/1 [00:00<00:00, 265.68it/s]\n"
     ]
    },
    {
     "name": "stdout",
     "output_type": "stream",
     "text": [
      "Epoch 33 --- Train loss = 1.6515657901763916 --- Valid loss = 4.134856224060059 -- Train set accuracy = 28.571428571428573 % Valid set Accuracy = 12.5 %\n"
     ]
    },
    {
     "name": "stderr",
     "output_type": "stream",
     "text": [
      "100%|██████████| 1/1 [00:00<00:00, 120.25it/s]\n",
      "100%|██████████| 1/1 [00:00<00:00, 255.13it/s]\n"
     ]
    },
    {
     "name": "stdout",
     "output_type": "stream",
     "text": [
      "Epoch 34 --- Train loss = 1.7432504892349243 --- Valid loss = 4.139345169067383 -- Train set accuracy = 28.571428571428573 % Valid set Accuracy = 12.5 %\n"
     ]
    },
    {
     "name": "stderr",
     "output_type": "stream",
     "text": [
      "100%|██████████| 1/1 [00:00<00:00, 125.92it/s]\n",
      "100%|██████████| 1/1 [00:00<00:00, 252.49it/s]\n"
     ]
    },
    {
     "name": "stdout",
     "output_type": "stream",
     "text": [
      "Epoch 35 --- Train loss = 1.827993631362915 --- Valid loss = 4.144358158111572 -- Train set accuracy = 28.571428571428573 % Valid set Accuracy = 12.5 %\n"
     ]
    },
    {
     "name": "stderr",
     "output_type": "stream",
     "text": [
      "100%|██████████| 1/1 [00:00<00:00, 117.30it/s]\n",
      "100%|██████████| 1/1 [00:00<00:00, 264.93it/s]\n"
     ]
    },
    {
     "name": "stdout",
     "output_type": "stream",
     "text": [
      "Epoch 36 --- Train loss = 1.818280577659607 --- Valid loss = 4.148002624511719 -- Train set accuracy = 28.571428571428573 % Valid set Accuracy = 12.5 %\n"
     ]
    },
    {
     "name": "stderr",
     "output_type": "stream",
     "text": [
      "100%|██████████| 1/1 [00:00<00:00, 120.70it/s]\n",
      "100%|██████████| 1/1 [00:00<00:00, 263.89it/s]\n"
     ]
    },
    {
     "name": "stdout",
     "output_type": "stream",
     "text": [
      "Epoch 37 --- Train loss = 1.6674412488937378 --- Valid loss = 4.154806137084961 -- Train set accuracy = 28.571428571428573 % Valid set Accuracy = 12.5 %\n"
     ]
    },
    {
     "name": "stderr",
     "output_type": "stream",
     "text": [
      "100%|██████████| 1/1 [00:00<00:00, 122.78it/s]\n",
      "100%|██████████| 1/1 [00:00<00:00, 268.20it/s]\n"
     ]
    },
    {
     "name": "stdout",
     "output_type": "stream",
     "text": [
      "Epoch 38 --- Train loss = 1.7804715633392334 --- Valid loss = 4.158304691314697 -- Train set accuracy = 28.571428571428573 % Valid set Accuracy = 12.5 %\n"
     ]
    },
    {
     "name": "stderr",
     "output_type": "stream",
     "text": [
      "100%|██████████| 1/1 [00:00<00:00, 122.61it/s]\n",
      "100%|██████████| 1/1 [00:00<00:00, 217.86it/s]\n"
     ]
    },
    {
     "name": "stdout",
     "output_type": "stream",
     "text": [
      "Epoch 39 --- Train loss = 1.6534415483474731 --- Valid loss = 4.162496566772461 -- Train set accuracy = 28.571428571428573 % Valid set Accuracy = 12.5 %\n"
     ]
    },
    {
     "name": "stderr",
     "output_type": "stream",
     "text": [
      "100%|██████████| 1/1 [00:00<00:00, 107.24it/s]\n",
      "100%|██████████| 1/1 [00:00<00:00, 223.39it/s]\n"
     ]
    },
    {
     "name": "stdout",
     "output_type": "stream",
     "text": [
      "Epoch 40 --- Train loss = 2.005502223968506 --- Valid loss = 4.1672587394714355 -- Train set accuracy = 28.571428571428573 % Valid set Accuracy = 12.5 %\n"
     ]
    },
    {
     "name": "stderr",
     "output_type": "stream",
     "text": [
      "100%|██████████| 1/1 [00:00<00:00, 107.59it/s]\n",
      "100%|██████████| 1/1 [00:00<00:00, 226.72it/s]\n"
     ]
    },
    {
     "name": "stdout",
     "output_type": "stream",
     "text": [
      "Epoch 41 --- Train loss = 1.8229204416275024 --- Valid loss = 4.1765618324279785 -- Train set accuracy = 28.571428571428573 % Valid set Accuracy = 12.5 %\n"
     ]
    },
    {
     "name": "stderr",
     "output_type": "stream",
     "text": [
      "100%|██████████| 1/1 [00:00<00:00, 106.64it/s]\n",
      "100%|██████████| 1/1 [00:00<00:00, 224.34it/s]\n"
     ]
    },
    {
     "name": "stdout",
     "output_type": "stream",
     "text": [
      "Epoch 42 --- Train loss = 1.8808776140213013 --- Valid loss = 4.185878753662109 -- Train set accuracy = 28.571428571428573 % Valid set Accuracy = 12.5 %\n"
     ]
    },
    {
     "name": "stderr",
     "output_type": "stream",
     "text": [
      "100%|██████████| 1/1 [00:00<00:00, 105.66it/s]\n",
      "100%|██████████| 1/1 [00:00<00:00, 231.35it/s]\n"
     ]
    },
    {
     "name": "stdout",
     "output_type": "stream",
     "text": [
      "Epoch 43 --- Train loss = 1.829727053642273 --- Valid loss = 4.194519996643066 -- Train set accuracy = 28.571428571428573 % Valid set Accuracy = 12.5 %\n"
     ]
    },
    {
     "name": "stderr",
     "output_type": "stream",
     "text": [
      "100%|██████████| 1/1 [00:00<00:00, 105.45it/s]\n",
      "100%|██████████| 1/1 [00:00<00:00, 221.20it/s]\n"
     ]
    },
    {
     "name": "stdout",
     "output_type": "stream",
     "text": [
      "Epoch 44 --- Train loss = 2.0091941356658936 --- Valid loss = 4.200605392456055 -- Train set accuracy = 28.571428571428573 % Valid set Accuracy = 12.5 %\n"
     ]
    },
    {
     "name": "stderr",
     "output_type": "stream",
     "text": [
      "100%|██████████| 1/1 [00:00<00:00, 103.85it/s]\n",
      "100%|██████████| 1/1 [00:00<00:00, 223.80it/s]\n"
     ]
    },
    {
     "name": "stdout",
     "output_type": "stream",
     "text": [
      "Epoch 45 --- Train loss = 1.647979497909546 --- Valid loss = 4.20478630065918 -- Train set accuracy = 28.571428571428573 % Valid set Accuracy = 12.5 %\n"
     ]
    },
    {
     "name": "stderr",
     "output_type": "stream",
     "text": [
      "100%|██████████| 1/1 [00:00<00:00, 105.28it/s]\n",
      "100%|██████████| 1/1 [00:00<00:00, 227.06it/s]\n"
     ]
    },
    {
     "name": "stdout",
     "output_type": "stream",
     "text": [
      "Epoch 46 --- Train loss = 1.8476203680038452 --- Valid loss = 4.206307888031006 -- Train set accuracy = 28.571428571428573 % Valid set Accuracy = 12.5 %\n"
     ]
    },
    {
     "name": "stderr",
     "output_type": "stream",
     "text": [
      "100%|██████████| 1/1 [00:00<00:00, 129.02it/s]\n",
      "100%|██████████| 1/1 [00:00<00:00, 253.97it/s]\n"
     ]
    },
    {
     "name": "stdout",
     "output_type": "stream",
     "text": [
      "Epoch 47 --- Train loss = 1.9624783992767334 --- Valid loss = 4.210923194885254 -- Train set accuracy = 28.571428571428573 % Valid set Accuracy = 12.5 %\n"
     ]
    },
    {
     "name": "stderr",
     "output_type": "stream",
     "text": [
      "100%|██████████| 1/1 [00:00<00:00, 164.26it/s]\n",
      "100%|██████████| 1/1 [00:00<00:00, 332.91it/s]\n"
     ]
    },
    {
     "name": "stdout",
     "output_type": "stream",
     "text": [
      "Epoch 48 --- Train loss = 2.054805278778076 --- Valid loss = 4.2110595703125 -- Train set accuracy = 28.571428571428573 % Valid set Accuracy = 12.5 %\n"
     ]
    },
    {
     "name": "stderr",
     "output_type": "stream",
     "text": [
      "100%|██████████| 1/1 [00:00<00:00, 167.00it/s]\n",
      "100%|██████████| 1/1 [00:00<00:00, 338.11it/s]\n"
     ]
    },
    {
     "name": "stdout",
     "output_type": "stream",
     "text": [
      "Epoch 49 --- Train loss = 1.9694898128509521 --- Valid loss = 4.213414192199707 -- Train set accuracy = 28.571428571428573 % Valid set Accuracy = 12.5 %\n"
     ]
    },
    {
     "name": "stderr",
     "output_type": "stream",
     "text": [
      "100%|██████████| 1/1 [00:00<00:00, 171.67it/s]\n",
      "100%|██████████| 1/1 [00:00<00:00, 349.55it/s]"
     ]
    },
    {
     "name": "stdout",
     "output_type": "stream",
     "text": [
      "Epoch 50 --- Train loss = 1.8734970092773438 --- Valid loss = 4.216571807861328 -- Train set accuracy = 42.857142857142854 % Valid set Accuracy = 12.5 %\n"
     ]
    },
    {
     "name": "stderr",
     "output_type": "stream",
     "text": [
      "\n"
     ]
    }
   ],
   "source": [
    "model = GGCN(find_adjacency_matrix(),41,[3,9],[9, 16, 32, 64],0.5).to(device)\n",
    "criterion = nn.CrossEntropyLoss()\n",
    "optimizer = torch.optim.Adam(model.parameters())\n",
    "from util.evaluation import early_stopping\n",
    "device = 'cuda:0'\n",
    "epochs = 50\n",
    "train_losses = []\n",
    "valid_losses = []\n",
    "train_accuracy = []\n",
    "val_accuracy = []\n",
    "for epoch in range(epochs):\n",
    "    # training\n",
    "    model,train_loss,optimizer = train(train_loader,model,criterion,optimizer,device)\n",
    "    \n",
    "    # validation\n",
    "    with torch.no_grad():\n",
    "        model, valid_loss = validate(valid_loader, model, criterion, device)\n",
    "    train_acc = get_accuracy(model,train_loader,device)\n",
    "    val_acc = get_accuracy(model,valid_loader,device)\n",
    "    print(\"Epoch {} --- Train loss = {} --- Valid loss = {} -- Train set accuracy = {} % Valid set Accuracy = {} %\".format\n",
    "          (epoch+1,train_loss,valid_loss,train_acc,val_acc))\n",
    "    # save loss value\n",
    "    train_losses.append(train_loss)\n",
    "    valid_losses.append(valid_loss)\n",
    "    \n",
    "    #save accuracy\n",
    "    train_accuracy.append(train_acc)\n",
    "    val_accuracy.append(val_acc)\n",
    "    \n",
    "    # best_val_accuracy,should_stop = early_stopping(val_accuracy,10)\n",
    "    \n",
    "    # if should_stop:\n",
    "    #     break\n",
    "    \n",
    "    # if best_val_accuracy == val_accuracy[-1]:\n",
    "    #     torch.save(model.state_dict(),\"best_model.pth\")\n",
    "    #     print(\"Save best model \",\"Best_accuracy = \",get_accuracy(model,test_loader,device))\n",
    "       \n",
    "\n"
   ]
  },
  {
   "cell_type": "code",
   "execution_count": null,
   "metadata": {},
   "outputs": [],
   "source": []
  },
  {
   "cell_type": "code",
   "execution_count": null,
   "metadata": {},
   "outputs": [],
   "source": []
  },
  {
   "cell_type": "code",
   "execution_count": null,
   "metadata": {},
   "outputs": [],
   "source": []
  }
 ],
 "metadata": {
  "kernelspec": {
   "display_name": "anhnct",
   "language": "python",
   "name": "python3"
  },
  "language_info": {
   "codemirror_mode": {
    "name": "ipython",
    "version": 3
   },
   "file_extension": ".py",
   "mimetype": "text/x-python",
   "name": "python",
   "nbconvert_exporter": "python",
   "pygments_lexer": "ipython3",
   "version": "3.9.17"
  },
  "orig_nbformat": 4
 },
 "nbformat": 4,
 "nbformat_minor": 2
}
